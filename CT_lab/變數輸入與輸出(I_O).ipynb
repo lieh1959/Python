{
  "nbformat": 4,
  "nbformat_minor": 0,
  "metadata": {
    "colab": {
      "name": "變數輸入與輸出(I/O)",
      "provenance": [],
      "collapsed_sections": [],
      "toc_visible": true
    },
    "kernelspec": {
      "name": "python3",
      "display_name": "Python 3"
    },
    "language_info": {
      "name": "python"
    }
  },
  "cells": [
    {
      "cell_type": "markdown",
      "metadata": {
        "id": "lVXyGRVItETB"
      },
      "source": [
        "# **輸出/入資料**\n"
      ]
    },
    {
      "cell_type": "markdown",
      "metadata": {
        "id": "DrvjLU-L2AVR"
      },
      "source": [
        "## <mark>問題1</mark>"
      ]
    },
    {
      "cell_type": "markdown",
      "metadata": {
        "id": "eZs68e5xtVGx"
      },
      "source": [
        "\n",
        "<b>請撰寫一程式，輸入四個整數，將這四個整數以欄寬為5、欄與欄間隔一個空白字元，再以每列印兩個的方式，先列印向右靠齊，再列印向左靠齊，左右皆以直線 | 作為邊界\n"
      ]
    },
    {
      "cell_type": "code",
      "metadata": {
        "id": "DnqBNLthpqWP"
      },
      "source": [
        "num1= int(input())  #輸入整數到變數num1\n",
        "num2= int(input())\n",
        "num3= int(input())\n",
        "num4= int(input())\n",
        "\n",
        "# 向右靠齊\n",
        "print(\"|%5d %5d|\"%(num1,num2))      # 格式化輸出\n",
        "print(\"|%5d %5d|\"%(num3,num4))    # 變數前加 %\n",
        "# 向左靠齊\n",
        "print(\"|%-5d %-5d|\"%(num1,num2))\n",
        "print(\"|%-5d %-5d|\"%(num3,num4))"
      ],
      "execution_count": null,
      "outputs": []
    },
    {
      "cell_type": "markdown",
      "metadata": {
        "id": "ZUSigD8L2M4B"
      },
      "source": [
        "## 問題2"
      ]
    },
    {
      "cell_type": "markdown",
      "metadata": {
        "id": "c0NMTPLhxWRq"
      },
      "source": [
        "\n",
        "<b>請撰寫一程式，輸入四個分別含有小數1到4位的浮點數，然後將這四個浮點數以欄寬為7、欄與欄間隔一個空白字元，再以每列印兩個的方式，先列印向右靠齊，再列印向左靠齊，左右皆以直線 | 作為邊界 <br>\n",
        "<font color=red>提示: 輸出浮點數到小數點後第二位\n"
      ]
    },
    {
      "cell_type": "code",
      "metadata": {
        "id": "5xIOVHAaxaTp"
      },
      "source": [
        "num1= eval(input()) #輸入浮點數\n",
        "num2= eval(input())\n",
        "num3= eval(input())\n",
        "num4= eval(input())\n",
        "\n",
        "# 向右靠齊\n",
        "print(\"|%7.2f %7.2f|\"%(num1,num2))      # 格式化輸出\n",
        "print(\"|%7.2f %7.2f|\"%(num3,num4))\n",
        "# 向左靠齊\n",
        "print(\"|%-7.2f %-7.2f|\"%(num1,num2))\n",
        "print(\"|%-7.2f %-7.2f|\"%(num3,num4))\n"
      ],
      "execution_count": null,
      "outputs": []
    },
    {
      "cell_type": "markdown",
      "metadata": {
        "id": "0foZ-n4C2VPo"
      },
      "source": [
        "##問題3:"
      ]
    },
    {
      "cell_type": "markdown",
      "metadata": {
        "id": "nQWA0dtlbFMk"
      },
      "source": [
        "<b>請撰寫一程式，輸入四個單字，然後將這四個單字以欄寬為10、欄與欄間隔一個空白字元，每列印兩個的方式，先列印向右靠齊，再列印向左靠齊，左右皆以直線 | 作為邊界"
      ]
    },
    {
      "cell_type": "code",
      "metadata": {
        "colab": {
          "base_uri": "https://localhost:8080/"
        },
        "id": "q04In2fy1llJ",
        "outputId": "38eafccc-f1c3-454b-88a3-b4d7cdf964f4"
      },
      "source": [
        "word1= input() #輸入字串\n",
        "word2= input()\n",
        "word3= input()\n",
        "word4= input()\n",
        "\n",
        "# 向右靠齊\n",
        "print(\"|%10s %10s|\"%(word1,word2))    # 格式化輸出\n",
        "print(\"|%10s %10s|\"%(word3,word4))\n",
        "# 向左靠齊\n",
        "print(\"|%-10s %-10s|\"%(word1,word2))\n",
        "print(\"|%-10s %-10s|\"%(word3,word4))"
      ],
      "execution_count": null,
      "outputs": [
        {
          "output_type": "stream",
          "text": [
            "I\n",
            "enjoy\n",
            "learning\n",
            "Python\n",
            "|         I      enjoy|\n",
            "|  learning     Python|\n",
            "|I          enjoy     |\n",
            "|learning   Python    |\n"
          ],
          "name": "stdout"
        }
      ]
    },
    {
      "cell_type": "markdown",
      "metadata": {
        "id": "w1Y8KwERwNHN"
      },
      "source": [
        "## 問題4"
      ]
    },
    {
      "cell_type": "markdown",
      "metadata": {
        "id": "7YgbkiOuwWId"
      },
      "source": [
        "<b>請撰寫一程式，請使用者輸入矩形的長和寬(皆為正整數)，然後計算此矩形的面積和周長(輸出結果欄位寬為4)"
      ]
    },
    {
      "cell_type": "code",
      "metadata": {
        "id": "P2-5pRWywZqE",
        "colab": {
          "base_uri": "https://localhost:8080/"
        },
        "outputId": "99a4eb71-71b4-482a-c59c-f4b785e84449"
      },
      "source": [
        "# 計算矩形的面積和周長\n",
        "length, width=eval(input())\n",
        "area= length* width\n",
        "perimeter=2* (length+width)\n",
        "print('area=%4d'% (area))   # 格式化輸出\n",
        "print('perimeter=%4d'%(perimeter))"
      ],
      "execution_count": null,
      "outputs": [
        {
          "output_type": "stream",
          "name": "stdout",
          "text": [
            "78,56\n",
            "area=4368\n",
            "perimeter= 268\n"
          ]
        }
      ]
    },
    {
      "cell_type": "markdown",
      "metadata": {
        "id": "C_TYN-AhyaZF"
      },
      "source": [
        "## 問題5"
      ]
    },
    {
      "cell_type": "markdown",
      "metadata": {
        "id": "szvgQWCJykrF"
      },
      "source": [
        "<b>請撰寫一程式，讓使用者輸入一個正數s，代表正五邊形之邊長，計算並輸出此正五邊形之面積(Area) <br>\n",
        "<font color=green>\n",
        "提示1: 建議使用需import math模組的 math.pow及math.tan<br>\n",
        "提示2:  正五邊形面積的公式: Area=(5*s2)/(4 *tan(pi/5))<br>\n",
        "提示3: 輸出浮點數到小數點後第四位<br> "
      ]
    },
    {
      "cell_type": "code",
      "metadata": {
        "colab": {
          "base_uri": "https://localhost:8080/"
        },
        "id": "cKwnN9WY0HNV",
        "outputId": "6e9cb688-1fbe-4775-81d1-76c0b56c4b57"
      },
      "source": [
        "import math\n",
        "s=eval(input(\"請輸入邊長: \"))\n",
        "area=(5*math.pow(s,2))/(4*math.tan(math.pi/5))\n",
        "print(\"Area = %.4f\"%area)   # 格式化輸出"
      ],
      "execution_count": null,
      "outputs": [
        {
          "output_type": "stream",
          "text": [
            "請輸入邊長: 5\n",
            "Area = 43.0119\n"
          ],
          "name": "stdout"
        }
      ]
    },
    {
      "cell_type": "markdown",
      "metadata": {
        "id": "fQbEc97wgxuE"
      },
      "source": [
        "## 問題6"
      ]
    },
    {
      "cell_type": "markdown",
      "metadata": {
        "id": "IVuhcIvtg77M"
      },
      "source": [
        "<b>國軍定義的危險係數公式如下，依照危險係數來判斷是否能外出操課。<br>\n",
        "<font color=\"#aa0055\">危險係數= 室外溫度(℃)+室外相對溼度(%)*0.1 <br>\n",
        "若室外溫度c=32(℃)，室外相對溼度70(%)，請輸出相對應的危險係數 。<br>\n",
        "危險係數:CoeDanger /室外溫度 OutTemp/室外溼度OutHum<br>\n",
        "\n",
        "\n",
        "\n"
      ]
    },
    {
      "cell_type": "code",
      "metadata": {
        "colab": {
          "base_uri": "https://localhost:8080/"
        },
        "id": "1rQmSy4zhYa0",
        "outputId": "7f16e84e-cc13-4f32-a1fe-bf37db70b6fc"
      },
      "source": [
        "OutTemp,OutHum=32,70\n",
        "CoeDanger= OutTemp+OutHum*0.1\n",
        "print(\"室外溫度:\",OutTemp,\"室外相對溼度:\",OutHum)     # 非格式化輸出\n",
        "print(\"危險係數:\",CoeDanger)"
      ],
      "execution_count": null,
      "outputs": [
        {
          "output_type": "stream",
          "text": [
            "室外溫度: 32 室外相對溼度: 70\n",
            "危險係數: 39.0\n"
          ],
          "name": "stdout"
        }
      ]
    }
  ]
}