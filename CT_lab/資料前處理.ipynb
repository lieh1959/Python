{
  "nbformat": 4,
  "nbformat_minor": 0,
  "metadata": {
    "colab": {
      "name": "資料前處理.ipynb",
      "provenance": [],
      "collapsed_sections": [],
      "toc_visible": true
    },
    "kernelspec": {
      "name": "python3",
      "display_name": "Python 3"
    },
    "language_info": {
      "name": "python"
    }
  },
  "cells": [
    {
      "cell_type": "code",
      "execution_count": null,
      "metadata": {
        "id": "07IYOQQDSCp1"
      },
      "outputs": [],
      "source": [
        "#資料檔路徑(資料檔：i_filepath，完成檔：o_filepath，內文說明檔：c_filepath)\n",
        "filepath = '/content/MyGoogleDrive/MyDrive/Colab Notebooks/CT_final/Data/'\n",
        "i_filepath = filepath \n",
        "o_filepath = filepath + '完成檔/'\n",
        "c_filepath = filepath + '內文說明檔/'"
      ]
    },
    {
      "cell_type": "markdown",
      "source": [
        "#<b>*Part I*"
      ],
      "metadata": {
        "id": "EzpnPsTkbkwD"
      }
    },
    {
      "cell_type": "markdown",
      "source": [
        "#<b>常見的資料處理工作"
      ],
      "metadata": {
        "id": "7FbfNHnOSjD_"
      }
    },
    {
      "cell_type": "markdown",
      "source": [
        "## 資料觀察"
      ],
      "metadata": {
        "id": "lYX7ohM1SooO"
      }
    },
    {
      "cell_type": "markdown",
      "source": [
        "##實作-觀察資料框和刪除重複記錄"
      ],
      "metadata": {
        "id": "gE2I8qLnSwLu"
      }
    },
    {
      "cell_type": "code",
      "source": [
        "from google.colab import drive\n",
        "drive.mount('/content/MyGoogleDrive')\n",
        "import pandas as pd\n",
        "df = pd.read_excel(c_filepath + '學生成績檔.xlsx')\n",
        "df.head()"
      ],
      "metadata": {
        "colab": {
          "base_uri": "https://localhost:8080/",
          "height": 223
        },
        "id": "wTPNM25ISTSe",
        "outputId": "f751e4a6-f795-405f-901c-41d6ba449c10"
      },
      "execution_count": null,
      "outputs": [
        {
          "output_type": "stream",
          "name": "stdout",
          "text": [
            "Mounted at /content/MyGoogleDrive\n"
          ]
        },
        {
          "output_type": "execute_result",
          "data": {
            "text/html": [
              "\n",
              "  <div id=\"df-a25ff206-0bdf-425f-a8a8-9f1e8ca5bedb\">\n",
              "    <div class=\"colab-df-container\">\n",
              "      <div>\n",
              "<style scoped>\n",
              "    .dataframe tbody tr th:only-of-type {\n",
              "        vertical-align: middle;\n",
              "    }\n",
              "\n",
              "    .dataframe tbody tr th {\n",
              "        vertical-align: top;\n",
              "    }\n",
              "\n",
              "    .dataframe thead th {\n",
              "        text-align: right;\n",
              "    }\n",
              "</style>\n",
              "<table border=\"1\" class=\"dataframe\">\n",
              "  <thead>\n",
              "    <tr style=\"text-align: right;\">\n",
              "      <th></th>\n",
              "      <th>ID</th>\n",
              "      <th>name</th>\n",
              "      <th>sex</th>\n",
              "      <th>email</th>\n",
              "      <th>第1次平時考</th>\n",
              "      <th>第2次平時考</th>\n",
              "      <th>第3次平時考</th>\n",
              "      <th>第4次平時考</th>\n",
              "      <th>第5次平時考</th>\n",
              "    </tr>\n",
              "  </thead>\n",
              "  <tbody>\n",
              "    <tr>\n",
              "      <th>0</th>\n",
              "      <td>1080001</td>\n",
              "      <td>丁軒軒</td>\n",
              "      <td>男</td>\n",
              "      <td>1080001@sun.tc.edu.tw</td>\n",
              "      <td>86</td>\n",
              "      <td>88.0</td>\n",
              "      <td>82.0</td>\n",
              "      <td>87</td>\n",
              "      <td>92.0</td>\n",
              "    </tr>\n",
              "    <tr>\n",
              "      <th>1</th>\n",
              "      <td>1080002</td>\n",
              "      <td>王倫樺</td>\n",
              "      <td>女</td>\n",
              "      <td>1080002@sun.tc.edu.tw</td>\n",
              "      <td>92</td>\n",
              "      <td>100.0</td>\n",
              "      <td>95.0</td>\n",
              "      <td>99</td>\n",
              "      <td>96.0</td>\n",
              "    </tr>\n",
              "    <tr>\n",
              "      <th>2</th>\n",
              "      <td>1080003</td>\n",
              "      <td>何宜敏</td>\n",
              "      <td>女</td>\n",
              "      <td>1080003@sun.tc.edu.tw</td>\n",
              "      <td>82</td>\n",
              "      <td>87.0</td>\n",
              "      <td>86.0</td>\n",
              "      <td>82</td>\n",
              "      <td>82.0</td>\n",
              "    </tr>\n",
              "    <tr>\n",
              "      <th>3</th>\n",
              "      <td>1080004</td>\n",
              "      <td>何志陞</td>\n",
              "      <td>男</td>\n",
              "      <td>1080004@sun.tc.edu.tw</td>\n",
              "      <td>91</td>\n",
              "      <td>92.0</td>\n",
              "      <td>99.0</td>\n",
              "      <td>91</td>\n",
              "      <td>92.0</td>\n",
              "    </tr>\n",
              "    <tr>\n",
              "      <th>4</th>\n",
              "      <td>1080005</td>\n",
              "      <td>吳ㄧ歌</td>\n",
              "      <td>女</td>\n",
              "      <td>1080005@sun.tc.edu.tw</td>\n",
              "      <td>93</td>\n",
              "      <td>NaN</td>\n",
              "      <td>92.0</td>\n",
              "      <td>97</td>\n",
              "      <td>98.0</td>\n",
              "    </tr>\n",
              "  </tbody>\n",
              "</table>\n",
              "</div>\n",
              "      <button class=\"colab-df-convert\" onclick=\"convertToInteractive('df-a25ff206-0bdf-425f-a8a8-9f1e8ca5bedb')\"\n",
              "              title=\"Convert this dataframe to an interactive table.\"\n",
              "              style=\"display:none;\">\n",
              "        \n",
              "  <svg xmlns=\"http://www.w3.org/2000/svg\" height=\"24px\"viewBox=\"0 0 24 24\"\n",
              "       width=\"24px\">\n",
              "    <path d=\"M0 0h24v24H0V0z\" fill=\"none\"/>\n",
              "    <path d=\"M18.56 5.44l.94 2.06.94-2.06 2.06-.94-2.06-.94-.94-2.06-.94 2.06-2.06.94zm-11 1L8.5 8.5l.94-2.06 2.06-.94-2.06-.94L8.5 2.5l-.94 2.06-2.06.94zm10 10l.94 2.06.94-2.06 2.06-.94-2.06-.94-.94-2.06-.94 2.06-2.06.94z\"/><path d=\"M17.41 7.96l-1.37-1.37c-.4-.4-.92-.59-1.43-.59-.52 0-1.04.2-1.43.59L10.3 9.45l-7.72 7.72c-.78.78-.78 2.05 0 2.83L4 21.41c.39.39.9.59 1.41.59.51 0 1.02-.2 1.41-.59l7.78-7.78 2.81-2.81c.8-.78.8-2.07 0-2.86zM5.41 20L4 18.59l7.72-7.72 1.47 1.35L5.41 20z\"/>\n",
              "  </svg>\n",
              "      </button>\n",
              "      \n",
              "  <style>\n",
              "    .colab-df-container {\n",
              "      display:flex;\n",
              "      flex-wrap:wrap;\n",
              "      gap: 12px;\n",
              "    }\n",
              "\n",
              "    .colab-df-convert {\n",
              "      background-color: #E8F0FE;\n",
              "      border: none;\n",
              "      border-radius: 50%;\n",
              "      cursor: pointer;\n",
              "      display: none;\n",
              "      fill: #1967D2;\n",
              "      height: 32px;\n",
              "      padding: 0 0 0 0;\n",
              "      width: 32px;\n",
              "    }\n",
              "\n",
              "    .colab-df-convert:hover {\n",
              "      background-color: #E2EBFA;\n",
              "      box-shadow: 0px 1px 2px rgba(60, 64, 67, 0.3), 0px 1px 3px 1px rgba(60, 64, 67, 0.15);\n",
              "      fill: #174EA6;\n",
              "    }\n",
              "\n",
              "    [theme=dark] .colab-df-convert {\n",
              "      background-color: #3B4455;\n",
              "      fill: #D2E3FC;\n",
              "    }\n",
              "\n",
              "    [theme=dark] .colab-df-convert:hover {\n",
              "      background-color: #434B5C;\n",
              "      box-shadow: 0px 1px 3px 1px rgba(0, 0, 0, 0.15);\n",
              "      filter: drop-shadow(0px 1px 2px rgba(0, 0, 0, 0.3));\n",
              "      fill: #FFFFFF;\n",
              "    }\n",
              "  </style>\n",
              "\n",
              "      <script>\n",
              "        const buttonEl =\n",
              "          document.querySelector('#df-a25ff206-0bdf-425f-a8a8-9f1e8ca5bedb button.colab-df-convert');\n",
              "        buttonEl.style.display =\n",
              "          google.colab.kernel.accessAllowed ? 'block' : 'none';\n",
              "\n",
              "        async function convertToInteractive(key) {\n",
              "          const element = document.querySelector('#df-a25ff206-0bdf-425f-a8a8-9f1e8ca5bedb');\n",
              "          const dataTable =\n",
              "            await google.colab.kernel.invokeFunction('convertToInteractive',\n",
              "                                                     [key], {});\n",
              "          if (!dataTable) return;\n",
              "\n",
              "          const docLinkHtml = 'Like what you see? Visit the ' +\n",
              "            '<a target=\"_blank\" href=https://colab.research.google.com/notebooks/data_table.ipynb>data table notebook</a>'\n",
              "            + ' to learn more about interactive tables.';\n",
              "          element.innerHTML = '';\n",
              "          dataTable['output_type'] = 'display_data';\n",
              "          await google.colab.output.renderOutput(dataTable, element);\n",
              "          const docLink = document.createElement('div');\n",
              "          docLink.innerHTML = docLinkHtml;\n",
              "          element.appendChild(docLink);\n",
              "        }\n",
              "      </script>\n",
              "    </div>\n",
              "  </div>\n",
              "  "
            ],
            "text/plain": [
              "        ID name sex                  email  ...  第2次平時考  第3次平時考  第4次平時考  第5次平時考\n",
              "0  1080001  丁軒軒   男  1080001@sun.tc.edu.tw  ...    88.0    82.0      87    92.0\n",
              "1  1080002  王倫樺   女  1080002@sun.tc.edu.tw  ...   100.0    95.0      99    96.0\n",
              "2  1080003  何宜敏   女  1080003@sun.tc.edu.tw  ...    87.0    86.0      82    82.0\n",
              "3  1080004  何志陞   男  1080004@sun.tc.edu.tw  ...    92.0    99.0      91    92.0\n",
              "4  1080005  吳ㄧ歌   女  1080005@sun.tc.edu.tw  ...     NaN    92.0      97    98.0\n",
              "\n",
              "[5 rows x 9 columns]"
            ]
          },
          "metadata": {},
          "execution_count": 2
        }
      ]
    },
    {
      "cell_type": "code",
      "source": [
        "df.info()   # 印出各行包含的內容"
      ],
      "metadata": {
        "id": "1eFDe-PyTGzl"
      },
      "execution_count": null,
      "outputs": []
    },
    {
      "cell_type": "code",
      "source": [
        "df.describe() #資料框相關的統計數據"
      ],
      "metadata": {
        "id": "rskowU6OTe2G"
      },
      "execution_count": null,
      "outputs": []
    },
    {
      "cell_type": "code",
      "source": [
        "df.duplicated()   #檢查資料有無重複的情形"
      ],
      "metadata": {
        "id": "IQv47aiOUCSY"
      },
      "execution_count": null,
      "outputs": []
    },
    {
      "cell_type": "code",
      "source": [
        "df        #全部列印"
      ],
      "metadata": {
        "id": "ujwk17zXUItW"
      },
      "execution_count": null,
      "outputs": []
    },
    {
      "cell_type": "code",
      "source": [
        "df = df.drop_duplicates()   #將重複的列資料刪除\n",
        "df.info()"
      ],
      "metadata": {
        "id": "72-rYCtwUrT2"
      },
      "execution_count": null,
      "outputs": []
    },
    {
      "cell_type": "code",
      "source": [
        "df"
      ],
      "metadata": {
        "id": "hiVxJHmIU4Pm"
      },
      "execution_count": null,
      "outputs": []
    },
    {
      "cell_type": "markdown",
      "source": [
        "##儲存結果【學生成績檔01.csv】"
      ],
      "metadata": {
        "id": "5TyUe8WrFYrK"
      }
    },
    {
      "cell_type": "code",
      "source": [
        "filename='學生成績檔01.csv'       \n",
        "df.to_csv(o_filepath + filename, index=False)"
      ],
      "metadata": {
        "id": "DOLSGFIZVY-_"
      },
      "execution_count": null,
      "outputs": []
    },
    {
      "cell_type": "markdown",
      "source": [
        "#<b>加廣知識：shape,columns,index函式"
      ],
      "metadata": {
        "id": "NTQ6NMg478pO"
      }
    },
    {
      "cell_type": "code",
      "source": [
        "df.shape"
      ],
      "metadata": {
        "colab": {
          "base_uri": "https://localhost:8080/"
        },
        "id": "6L7N-acSAPi8",
        "outputId": "940d0543-0b59-4a57-c686-35e3d74d9e84"
      },
      "execution_count": null,
      "outputs": [
        {
          "output_type": "execute_result",
          "data": {
            "text/plain": [
              "(40, 9)"
            ]
          },
          "metadata": {},
          "execution_count": 7
        }
      ]
    },
    {
      "cell_type": "code",
      "source": [
        "df.columns"
      ],
      "metadata": {
        "colab": {
          "base_uri": "https://localhost:8080/"
        },
        "id": "KLtLe7bwAp5G",
        "outputId": "b9871bb8-a897-4609-f673-90c7d38f0522"
      },
      "execution_count": null,
      "outputs": [
        {
          "output_type": "execute_result",
          "data": {
            "text/plain": [
              "Index(['ID', 'name', 'sex', 'email', '第1次平時考', '第2次平時考', '第3次平時考', '第4次平時考',\n",
              "       '第5次平時考'],\n",
              "      dtype='object')"
            ]
          },
          "metadata": {},
          "execution_count": 8
        }
      ]
    },
    {
      "cell_type": "code",
      "source": [
        "df.columns[4]"
      ],
      "metadata": {
        "colab": {
          "base_uri": "https://localhost:8080/",
          "height": 35
        },
        "id": "t08MxurvAury",
        "outputId": "df41f498-6419-48cf-9074-de213053b39a"
      },
      "execution_count": null,
      "outputs": [
        {
          "output_type": "execute_result",
          "data": {
            "application/vnd.google.colaboratory.intrinsic+json": {
              "type": "string"
            },
            "text/plain": [
              "'第1次平時考'"
            ]
          },
          "metadata": {},
          "execution_count": 9
        }
      ]
    },
    {
      "cell_type": "code",
      "source": [
        "df.index      #印出資料框"
      ],
      "metadata": {
        "colab": {
          "base_uri": "https://localhost:8080/"
        },
        "id": "RRj4qD1zA1Da",
        "outputId": "647377ca-d248-46a0-877e-cc8697858cd2"
      },
      "execution_count": null,
      "outputs": [
        {
          "output_type": "execute_result",
          "data": {
            "text/plain": [
              "Int64Index([ 0,  1,  2,  3,  4,  5,  6,  7,  8,  9, 10, 11, 12, 13, 14, 15, 17,\n",
              "            18, 19, 20, 21, 22, 23, 24, 25, 26, 27, 28, 29, 30, 31, 32, 33, 34,\n",
              "            35, 36, 37, 38, 39, 40],\n",
              "           dtype='int64')"
            ]
          },
          "metadata": {},
          "execution_count": 10
        }
      ]
    },
    {
      "cell_type": "code",
      "source": [
        "df[df['sex'] == '男'].index"
      ],
      "metadata": {
        "colab": {
          "base_uri": "https://localhost:8080/"
        },
        "id": "Ni43Dg64A-6C",
        "outputId": "a47198b7-67de-4b65-9252-795d83d589fd"
      },
      "execution_count": null,
      "outputs": [
        {
          "output_type": "execute_result",
          "data": {
            "text/plain": [
              "Int64Index([ 0,  3,  5,  7,  9, 11, 13, 17, 19, 20, 22, 27, 28, 29, 31, 32, 33,\n",
              "            34, 35, 37, 39, 40],\n",
              "           dtype='int64')"
            ]
          },
          "metadata": {},
          "execution_count": 11
        }
      ]
    },
    {
      "cell_type": "markdown",
      "source": [
        "#<b>資料篩選、刪除列資料與行資料"
      ],
      "metadata": {
        "id": "DL1P5MDPBXja"
      }
    },
    {
      "cell_type": "markdown",
      "source": [
        "##實作-資料篩選、刪除列/行資料"
      ],
      "metadata": {
        "id": "EaO2SE0SBh_o"
      }
    },
    {
      "cell_type": "markdown",
      "source": [
        "##讀【學生成績檔02.csv】"
      ],
      "metadata": {
        "id": "mXTxbOtoFiNh"
      }
    },
    {
      "cell_type": "code",
      "source": [
        "from google.colab import drive\n",
        "drive.mount('/content/MyGoogleDrive')\n",
        "import pandas as pd\n",
        "df=pd.read_csv(i_filepath + '學生成績檔02.csv')\n",
        "filter = df['第1次平時考'] == -1    #進行篩選, 找出有缺考者\n",
        "print(filter)"
      ],
      "metadata": {
        "id": "g1b2sxjcBnEg"
      },
      "execution_count": null,
      "outputs": []
    },
    {
      "cell_type": "code",
      "source": [
        "df[filter]"
      ],
      "metadata": {
        "colab": {
          "base_uri": "https://localhost:8080/",
          "height": 112
        },
        "id": "ZmEfPS11EhtM",
        "outputId": "86b58ec8-5ff9-477b-99d7-d75fcce7906a"
      },
      "execution_count": null,
      "outputs": [
        {
          "output_type": "execute_result",
          "data": {
            "text/html": [
              "\n",
              "  <div id=\"df-f23ed678-76ba-43dc-bd78-057341bbe00f\">\n",
              "    <div class=\"colab-df-container\">\n",
              "      <div>\n",
              "<style scoped>\n",
              "    .dataframe tbody tr th:only-of-type {\n",
              "        vertical-align: middle;\n",
              "    }\n",
              "\n",
              "    .dataframe tbody tr th {\n",
              "        vertical-align: top;\n",
              "    }\n",
              "\n",
              "    .dataframe thead th {\n",
              "        text-align: right;\n",
              "    }\n",
              "</style>\n",
              "<table border=\"1\" class=\"dataframe\">\n",
              "  <thead>\n",
              "    <tr style=\"text-align: right;\">\n",
              "      <th></th>\n",
              "      <th>ID</th>\n",
              "      <th>name</th>\n",
              "      <th>sex</th>\n",
              "      <th>email</th>\n",
              "      <th>第1次平時考</th>\n",
              "      <th>第2次平時考</th>\n",
              "      <th>第3次平時考</th>\n",
              "      <th>第4次平時考</th>\n",
              "      <th>第5次平時考</th>\n",
              "    </tr>\n",
              "  </thead>\n",
              "  <tbody>\n",
              "    <tr>\n",
              "      <th>7</th>\n",
              "      <td>1080008</td>\n",
              "      <td>李憲勝</td>\n",
              "      <td>男</td>\n",
              "      <td>1080008@sun.tc.edu.tw</td>\n",
              "      <td>-1</td>\n",
              "      <td>-1.0</td>\n",
              "      <td>-1.0</td>\n",
              "      <td>-1</td>\n",
              "      <td>-1.0</td>\n",
              "    </tr>\n",
              "    <tr>\n",
              "      <th>11</th>\n",
              "      <td>1080012</td>\n",
              "      <td>林絜峰</td>\n",
              "      <td>男</td>\n",
              "      <td>1080012@sun.tc.edu.tw</td>\n",
              "      <td>-1</td>\n",
              "      <td>75.0</td>\n",
              "      <td>66.0</td>\n",
              "      <td>-1</td>\n",
              "      <td>-1.0</td>\n",
              "    </tr>\n",
              "  </tbody>\n",
              "</table>\n",
              "</div>\n",
              "      <button class=\"colab-df-convert\" onclick=\"convertToInteractive('df-f23ed678-76ba-43dc-bd78-057341bbe00f')\"\n",
              "              title=\"Convert this dataframe to an interactive table.\"\n",
              "              style=\"display:none;\">\n",
              "        \n",
              "  <svg xmlns=\"http://www.w3.org/2000/svg\" height=\"24px\"viewBox=\"0 0 24 24\"\n",
              "       width=\"24px\">\n",
              "    <path d=\"M0 0h24v24H0V0z\" fill=\"none\"/>\n",
              "    <path d=\"M18.56 5.44l.94 2.06.94-2.06 2.06-.94-2.06-.94-.94-2.06-.94 2.06-2.06.94zm-11 1L8.5 8.5l.94-2.06 2.06-.94-2.06-.94L8.5 2.5l-.94 2.06-2.06.94zm10 10l.94 2.06.94-2.06 2.06-.94-2.06-.94-.94-2.06-.94 2.06-2.06.94z\"/><path d=\"M17.41 7.96l-1.37-1.37c-.4-.4-.92-.59-1.43-.59-.52 0-1.04.2-1.43.59L10.3 9.45l-7.72 7.72c-.78.78-.78 2.05 0 2.83L4 21.41c.39.39.9.59 1.41.59.51 0 1.02-.2 1.41-.59l7.78-7.78 2.81-2.81c.8-.78.8-2.07 0-2.86zM5.41 20L4 18.59l7.72-7.72 1.47 1.35L5.41 20z\"/>\n",
              "  </svg>\n",
              "      </button>\n",
              "      \n",
              "  <style>\n",
              "    .colab-df-container {\n",
              "      display:flex;\n",
              "      flex-wrap:wrap;\n",
              "      gap: 12px;\n",
              "    }\n",
              "\n",
              "    .colab-df-convert {\n",
              "      background-color: #E8F0FE;\n",
              "      border: none;\n",
              "      border-radius: 50%;\n",
              "      cursor: pointer;\n",
              "      display: none;\n",
              "      fill: #1967D2;\n",
              "      height: 32px;\n",
              "      padding: 0 0 0 0;\n",
              "      width: 32px;\n",
              "    }\n",
              "\n",
              "    .colab-df-convert:hover {\n",
              "      background-color: #E2EBFA;\n",
              "      box-shadow: 0px 1px 2px rgba(60, 64, 67, 0.3), 0px 1px 3px 1px rgba(60, 64, 67, 0.15);\n",
              "      fill: #174EA6;\n",
              "    }\n",
              "\n",
              "    [theme=dark] .colab-df-convert {\n",
              "      background-color: #3B4455;\n",
              "      fill: #D2E3FC;\n",
              "    }\n",
              "\n",
              "    [theme=dark] .colab-df-convert:hover {\n",
              "      background-color: #434B5C;\n",
              "      box-shadow: 0px 1px 3px 1px rgba(0, 0, 0, 0.15);\n",
              "      filter: drop-shadow(0px 1px 2px rgba(0, 0, 0, 0.3));\n",
              "      fill: #FFFFFF;\n",
              "    }\n",
              "  </style>\n",
              "\n",
              "      <script>\n",
              "        const buttonEl =\n",
              "          document.querySelector('#df-f23ed678-76ba-43dc-bd78-057341bbe00f button.colab-df-convert');\n",
              "        buttonEl.style.display =\n",
              "          google.colab.kernel.accessAllowed ? 'block' : 'none';\n",
              "\n",
              "        async function convertToInteractive(key) {\n",
              "          const element = document.querySelector('#df-f23ed678-76ba-43dc-bd78-057341bbe00f');\n",
              "          const dataTable =\n",
              "            await google.colab.kernel.invokeFunction('convertToInteractive',\n",
              "                                                     [key], {});\n",
              "          if (!dataTable) return;\n",
              "\n",
              "          const docLinkHtml = 'Like what you see? Visit the ' +\n",
              "            '<a target=\"_blank\" href=https://colab.research.google.com/notebooks/data_table.ipynb>data table notebook</a>'\n",
              "            + ' to learn more about interactive tables.';\n",
              "          element.innerHTML = '';\n",
              "          dataTable['output_type'] = 'display_data';\n",
              "          await google.colab.output.renderOutput(dataTable, element);\n",
              "          const docLink = document.createElement('div');\n",
              "          docLink.innerHTML = docLinkHtml;\n",
              "          element.appendChild(docLink);\n",
              "        }\n",
              "      </script>\n",
              "    </div>\n",
              "  </div>\n",
              "  "
            ],
            "text/plain": [
              "         ID name sex                  email  ...  第2次平時考  第3次平時考  第4次平時考  第5次平時考\n",
              "7   1080008  李憲勝   男  1080008@sun.tc.edu.tw  ...    -1.0    -1.0      -1    -1.0\n",
              "11  1080012  林絜峰   男  1080012@sun.tc.edu.tw  ...    75.0    66.0      -1    -1.0\n",
              "\n",
              "[2 rows x 9 columns]"
            ]
          },
          "metadata": {},
          "execution_count": 20
        }
      ]
    },
    {
      "cell_type": "code",
      "source": [
        "i = df[filter].index   #找出所有符合條件的記錄索引\n",
        "df = df.drop(i, axis = 0)   # axis=0或省略: 刪除列資料, \n",
        "                  # axis=1: 刪除行資料\n",
        "df"
      ],
      "metadata": {
        "id": "VbHLReBhElUU"
      },
      "execution_count": null,
      "outputs": []
    },
    {
      "cell_type": "markdown",
      "source": [
        "##儲存結果【學生成績檔03.csv】"
      ],
      "metadata": {
        "id": "yCEcbHwaFPJZ"
      }
    },
    {
      "cell_type": "code",
      "source": [
        "filename='學生成績檔03.csv'       \n",
        "df.to_csv(o_filepath + filename, index=False)"
      ],
      "metadata": {
        "id": "a_WHSaPxFw0y"
      },
      "execution_count": null,
      "outputs": []
    },
    {
      "cell_type": "markdown",
      "source": [
        "#<b>補上缺值"
      ],
      "metadata": {
        "id": "mnVHElhITf8k"
      }
    },
    {
      "cell_type": "markdown",
      "source": [
        "##實作-空值資料檢查及補值"
      ],
      "metadata": {
        "id": "PoNeUmmATr7T"
      }
    },
    {
      "cell_type": "code",
      "source": [
        "from google.colab import drive\n",
        "drive.mount('/content/MyGoogleDrive')\n",
        "import pandas as pd\n",
        "df=pd.read_csv(i_filepath + '學生成績檔04.csv')\n",
        "df.info()"
      ],
      "metadata": {
        "colab": {
          "base_uri": "https://localhost:8080/"
        },
        "id": "V7hTka0OVYCs",
        "outputId": "e2925a95-9f8a-4018-f405-635e5d29148f"
      },
      "execution_count": null,
      "outputs": [
        {
          "output_type": "stream",
          "name": "stdout",
          "text": [
            "Drive already mounted at /content/MyGoogleDrive; to attempt to forcibly remount, call drive.mount(\"/content/MyGoogleDrive\", force_remount=True).\n",
            "<class 'pandas.core.frame.DataFrame'>\n",
            "RangeIndex: 38 entries, 0 to 37\n",
            "Data columns (total 9 columns):\n",
            " #   Column  Non-Null Count  Dtype  \n",
            "---  ------  --------------  -----  \n",
            " 0   ID      38 non-null     int64  \n",
            " 1   name    38 non-null     object \n",
            " 2   sex     38 non-null     object \n",
            " 3   email   38 non-null     object \n",
            " 4   第1次平時考  38 non-null     int64  \n",
            " 5   第2次平時考  36 non-null     float64\n",
            " 6   第3次平時考  37 non-null     float64\n",
            " 7   第4次平時考  38 non-null     int64  \n",
            " 8   第5次平時考  37 non-null     float64\n",
            "dtypes: float64(3), int64(3), object(3)\n",
            "memory usage: 2.8+ KB\n"
          ]
        }
      ]
    },
    {
      "cell_type": "code",
      "source": [
        "df1 = pd.isnull(df)   #檢查資料框空值的資料格,\n",
        "            #會產生一個由True/False組成的資料框\n",
        "            #資料格〝True〞表示為空值 \"NaN\"\n",
        "df1"
      ],
      "metadata": {
        "id": "snvf54sVWUga"
      },
      "execution_count": null,
      "outputs": []
    },
    {
      "cell_type": "code",
      "source": [
        "x = df['第2次平時考'].mean()\n",
        "# 以下是將資料框內指定\"行索引\"中所有的空值\"NaN\"以 fillna()指定的值補值\n",
        "df['第2次平時考'] = df['第2次平時考'].fillna(x)\n",
        "df"
      ],
      "metadata": {
        "id": "OprRdQuhZWdM"
      },
      "execution_count": null,
      "outputs": []
    },
    {
      "cell_type": "code",
      "source": [
        "df.info()"
      ],
      "metadata": {
        "id": "VDVytvXIacdL"
      },
      "execution_count": null,
      "outputs": []
    },
    {
      "cell_type": "code",
      "source": [
        "x = df['第3次平時考'].mean()\n",
        "df['第3次平時考'] = df['第3次平時考'].fillna(x) \n",
        "x = df['第5次平時考'].mean()\n",
        "df['第5次平時考'] = df['第5次平時考'].fillna(x) \n",
        "df.info()"
      ],
      "metadata": {
        "id": "gLNFxRFqarjj"
      },
      "execution_count": null,
      "outputs": []
    },
    {
      "cell_type": "markdown",
      "source": [
        "## 儲存結果"
      ],
      "metadata": {
        "id": "IEDeyDyfa34b"
      }
    },
    {
      "cell_type": "code",
      "source": [
        "filename='學生成績檔05.csv'       \n",
        "df.to_csv(o_filepath + filename, index=False)"
      ],
      "metadata": {
        "id": "q6Nah_U_a6y8"
      },
      "execution_count": null,
      "outputs": []
    },
    {
      "cell_type": "markdown",
      "source": [
        "#<b>資料轉換"
      ],
      "metadata": {
        "id": "QQYvGyKAbaID"
      }
    },
    {
      "cell_type": "markdown",
      "source": [
        "##實作-資料轉換"
      ],
      "metadata": {
        "id": "c-xSXqKSb4E7"
      }
    },
    {
      "cell_type": "code",
      "source": [
        "from google.colab import drive\n",
        "drive.mount('/content/MyGoogleDrive')\n",
        "import pandas as pd\n",
        "df=pd.read_csv(i_filepath + '學生成績檔06.csv')\n",
        "df.head()"
      ],
      "metadata": {
        "colab": {
          "base_uri": "https://localhost:8080/",
          "height": 243
        },
        "id": "BTr52CTGb8Sb",
        "outputId": "17573451-254d-4667-b58b-19f929f90a32"
      },
      "execution_count": null,
      "outputs": [
        {
          "output_type": "stream",
          "name": "stdout",
          "text": [
            "Drive already mounted at /content/MyGoogleDrive; to attempt to forcibly remount, call drive.mount(\"/content/MyGoogleDrive\", force_remount=True).\n"
          ]
        },
        {
          "output_type": "execute_result",
          "data": {
            "text/html": [
              "\n",
              "  <div id=\"df-f91b5f9b-f49d-4565-a498-b89a674f267c\">\n",
              "    <div class=\"colab-df-container\">\n",
              "      <div>\n",
              "<style scoped>\n",
              "    .dataframe tbody tr th:only-of-type {\n",
              "        vertical-align: middle;\n",
              "    }\n",
              "\n",
              "    .dataframe tbody tr th {\n",
              "        vertical-align: top;\n",
              "    }\n",
              "\n",
              "    .dataframe thead th {\n",
              "        text-align: right;\n",
              "    }\n",
              "</style>\n",
              "<table border=\"1\" class=\"dataframe\">\n",
              "  <thead>\n",
              "    <tr style=\"text-align: right;\">\n",
              "      <th></th>\n",
              "      <th>ID</th>\n",
              "      <th>name</th>\n",
              "      <th>sex</th>\n",
              "      <th>email</th>\n",
              "      <th>第1次平時考</th>\n",
              "      <th>第2次平時考</th>\n",
              "      <th>第3次平時考</th>\n",
              "      <th>第4次平時考</th>\n",
              "      <th>第5次平時考</th>\n",
              "    </tr>\n",
              "  </thead>\n",
              "  <tbody>\n",
              "    <tr>\n",
              "      <th>0</th>\n",
              "      <td>1080001</td>\n",
              "      <td>丁軒軒</td>\n",
              "      <td>男</td>\n",
              "      <td>1080001@sun.tc.edu.tw</td>\n",
              "      <td>86</td>\n",
              "      <td>88.000000</td>\n",
              "      <td>82.0</td>\n",
              "      <td>87</td>\n",
              "      <td>92.0</td>\n",
              "    </tr>\n",
              "    <tr>\n",
              "      <th>1</th>\n",
              "      <td>1080002</td>\n",
              "      <td>王倫樺</td>\n",
              "      <td>女</td>\n",
              "      <td>1080002@sun.tc.edu.tw</td>\n",
              "      <td>92</td>\n",
              "      <td>100.000000</td>\n",
              "      <td>95.0</td>\n",
              "      <td>99</td>\n",
              "      <td>96.0</td>\n",
              "    </tr>\n",
              "    <tr>\n",
              "      <th>2</th>\n",
              "      <td>1080003</td>\n",
              "      <td>何宜敏</td>\n",
              "      <td>女</td>\n",
              "      <td>1080003@sun.tc.edu.tw</td>\n",
              "      <td>82</td>\n",
              "      <td>87.000000</td>\n",
              "      <td>86.0</td>\n",
              "      <td>82</td>\n",
              "      <td>82.0</td>\n",
              "    </tr>\n",
              "    <tr>\n",
              "      <th>3</th>\n",
              "      <td>1080004</td>\n",
              "      <td>何志陞</td>\n",
              "      <td>男</td>\n",
              "      <td>1080004@sun.tc.edu.tw</td>\n",
              "      <td>91</td>\n",
              "      <td>92.000000</td>\n",
              "      <td>99.0</td>\n",
              "      <td>91</td>\n",
              "      <td>92.0</td>\n",
              "    </tr>\n",
              "    <tr>\n",
              "      <th>4</th>\n",
              "      <td>1080005</td>\n",
              "      <td>吳ㄧ歌</td>\n",
              "      <td>女</td>\n",
              "      <td>1080005@sun.tc.edu.tw</td>\n",
              "      <td>93</td>\n",
              "      <td>85.138889</td>\n",
              "      <td>92.0</td>\n",
              "      <td>97</td>\n",
              "      <td>98.0</td>\n",
              "    </tr>\n",
              "  </tbody>\n",
              "</table>\n",
              "</div>\n",
              "      <button class=\"colab-df-convert\" onclick=\"convertToInteractive('df-f91b5f9b-f49d-4565-a498-b89a674f267c')\"\n",
              "              title=\"Convert this dataframe to an interactive table.\"\n",
              "              style=\"display:none;\">\n",
              "        \n",
              "  <svg xmlns=\"http://www.w3.org/2000/svg\" height=\"24px\"viewBox=\"0 0 24 24\"\n",
              "       width=\"24px\">\n",
              "    <path d=\"M0 0h24v24H0V0z\" fill=\"none\"/>\n",
              "    <path d=\"M18.56 5.44l.94 2.06.94-2.06 2.06-.94-2.06-.94-.94-2.06-.94 2.06-2.06.94zm-11 1L8.5 8.5l.94-2.06 2.06-.94-2.06-.94L8.5 2.5l-.94 2.06-2.06.94zm10 10l.94 2.06.94-2.06 2.06-.94-2.06-.94-.94-2.06-.94 2.06-2.06.94z\"/><path d=\"M17.41 7.96l-1.37-1.37c-.4-.4-.92-.59-1.43-.59-.52 0-1.04.2-1.43.59L10.3 9.45l-7.72 7.72c-.78.78-.78 2.05 0 2.83L4 21.41c.39.39.9.59 1.41.59.51 0 1.02-.2 1.41-.59l7.78-7.78 2.81-2.81c.8-.78.8-2.07 0-2.86zM5.41 20L4 18.59l7.72-7.72 1.47 1.35L5.41 20z\"/>\n",
              "  </svg>\n",
              "      </button>\n",
              "      \n",
              "  <style>\n",
              "    .colab-df-container {\n",
              "      display:flex;\n",
              "      flex-wrap:wrap;\n",
              "      gap: 12px;\n",
              "    }\n",
              "\n",
              "    .colab-df-convert {\n",
              "      background-color: #E8F0FE;\n",
              "      border: none;\n",
              "      border-radius: 50%;\n",
              "      cursor: pointer;\n",
              "      display: none;\n",
              "      fill: #1967D2;\n",
              "      height: 32px;\n",
              "      padding: 0 0 0 0;\n",
              "      width: 32px;\n",
              "    }\n",
              "\n",
              "    .colab-df-convert:hover {\n",
              "      background-color: #E2EBFA;\n",
              "      box-shadow: 0px 1px 2px rgba(60, 64, 67, 0.3), 0px 1px 3px 1px rgba(60, 64, 67, 0.15);\n",
              "      fill: #174EA6;\n",
              "    }\n",
              "\n",
              "    [theme=dark] .colab-df-convert {\n",
              "      background-color: #3B4455;\n",
              "      fill: #D2E3FC;\n",
              "    }\n",
              "\n",
              "    [theme=dark] .colab-df-convert:hover {\n",
              "      background-color: #434B5C;\n",
              "      box-shadow: 0px 1px 3px 1px rgba(0, 0, 0, 0.15);\n",
              "      filter: drop-shadow(0px 1px 2px rgba(0, 0, 0, 0.3));\n",
              "      fill: #FFFFFF;\n",
              "    }\n",
              "  </style>\n",
              "\n",
              "      <script>\n",
              "        const buttonEl =\n",
              "          document.querySelector('#df-f91b5f9b-f49d-4565-a498-b89a674f267c button.colab-df-convert');\n",
              "        buttonEl.style.display =\n",
              "          google.colab.kernel.accessAllowed ? 'block' : 'none';\n",
              "\n",
              "        async function convertToInteractive(key) {\n",
              "          const element = document.querySelector('#df-f91b5f9b-f49d-4565-a498-b89a674f267c');\n",
              "          const dataTable =\n",
              "            await google.colab.kernel.invokeFunction('convertToInteractive',\n",
              "                                                     [key], {});\n",
              "          if (!dataTable) return;\n",
              "\n",
              "          const docLinkHtml = 'Like what you see? Visit the ' +\n",
              "            '<a target=\"_blank\" href=https://colab.research.google.com/notebooks/data_table.ipynb>data table notebook</a>'\n",
              "            + ' to learn more about interactive tables.';\n",
              "          element.innerHTML = '';\n",
              "          dataTable['output_type'] = 'display_data';\n",
              "          await google.colab.output.renderOutput(dataTable, element);\n",
              "          const docLink = document.createElement('div');\n",
              "          docLink.innerHTML = docLinkHtml;\n",
              "          element.appendChild(docLink);\n",
              "        }\n",
              "      </script>\n",
              "    </div>\n",
              "  </div>\n",
              "  "
            ],
            "text/plain": [
              "        ID name sex                  email  ...      第2次平時考  第3次平時考  第4次平時考  第5次平時考\n",
              "0  1080001  丁軒軒   男  1080001@sun.tc.edu.tw  ...   88.000000    82.0      87    92.0\n",
              "1  1080002  王倫樺   女  1080002@sun.tc.edu.tw  ...  100.000000    95.0      99    96.0\n",
              "2  1080003  何宜敏   女  1080003@sun.tc.edu.tw  ...   87.000000    86.0      82    82.0\n",
              "3  1080004  何志陞   男  1080004@sun.tc.edu.tw  ...   92.000000    99.0      91    92.0\n",
              "4  1080005  吳ㄧ歌   女  1080005@sun.tc.edu.tw  ...   85.138889    92.0      97    98.0\n",
              "\n",
              "[5 rows x 9 columns]"
            ]
          },
          "metadata": {},
          "execution_count": 10
        }
      ]
    },
    {
      "cell_type": "code",
      "source": [
        "s = {'男': 1, '女':0} \n",
        "df['sex']=df['sex'].map(s)\n",
        "df.head()"
      ],
      "metadata": {
        "colab": {
          "base_uri": "https://localhost:8080/",
          "height": 206
        },
        "id": "upH24yiXc0Oq",
        "outputId": "9fa3b9cb-3139-4bf5-a375-62acf2b6a60f"
      },
      "execution_count": null,
      "outputs": [
        {
          "output_type": "execute_result",
          "data": {
            "text/html": [
              "\n",
              "  <div id=\"df-4f98e683-5a2a-4519-bef2-563b4d5e3b24\">\n",
              "    <div class=\"colab-df-container\">\n",
              "      <div>\n",
              "<style scoped>\n",
              "    .dataframe tbody tr th:only-of-type {\n",
              "        vertical-align: middle;\n",
              "    }\n",
              "\n",
              "    .dataframe tbody tr th {\n",
              "        vertical-align: top;\n",
              "    }\n",
              "\n",
              "    .dataframe thead th {\n",
              "        text-align: right;\n",
              "    }\n",
              "</style>\n",
              "<table border=\"1\" class=\"dataframe\">\n",
              "  <thead>\n",
              "    <tr style=\"text-align: right;\">\n",
              "      <th></th>\n",
              "      <th>ID</th>\n",
              "      <th>name</th>\n",
              "      <th>sex</th>\n",
              "      <th>email</th>\n",
              "      <th>第1次平時考</th>\n",
              "      <th>第2次平時考</th>\n",
              "      <th>第3次平時考</th>\n",
              "      <th>第4次平時考</th>\n",
              "      <th>第5次平時考</th>\n",
              "    </tr>\n",
              "  </thead>\n",
              "  <tbody>\n",
              "    <tr>\n",
              "      <th>0</th>\n",
              "      <td>1080001</td>\n",
              "      <td>丁軒軒</td>\n",
              "      <td>1</td>\n",
              "      <td>1080001@sun.tc.edu.tw</td>\n",
              "      <td>86</td>\n",
              "      <td>88.000000</td>\n",
              "      <td>82.0</td>\n",
              "      <td>87</td>\n",
              "      <td>92.0</td>\n",
              "    </tr>\n",
              "    <tr>\n",
              "      <th>1</th>\n",
              "      <td>1080002</td>\n",
              "      <td>王倫樺</td>\n",
              "      <td>0</td>\n",
              "      <td>1080002@sun.tc.edu.tw</td>\n",
              "      <td>92</td>\n",
              "      <td>100.000000</td>\n",
              "      <td>95.0</td>\n",
              "      <td>99</td>\n",
              "      <td>96.0</td>\n",
              "    </tr>\n",
              "    <tr>\n",
              "      <th>2</th>\n",
              "      <td>1080003</td>\n",
              "      <td>何宜敏</td>\n",
              "      <td>0</td>\n",
              "      <td>1080003@sun.tc.edu.tw</td>\n",
              "      <td>82</td>\n",
              "      <td>87.000000</td>\n",
              "      <td>86.0</td>\n",
              "      <td>82</td>\n",
              "      <td>82.0</td>\n",
              "    </tr>\n",
              "    <tr>\n",
              "      <th>3</th>\n",
              "      <td>1080004</td>\n",
              "      <td>何志陞</td>\n",
              "      <td>1</td>\n",
              "      <td>1080004@sun.tc.edu.tw</td>\n",
              "      <td>91</td>\n",
              "      <td>92.000000</td>\n",
              "      <td>99.0</td>\n",
              "      <td>91</td>\n",
              "      <td>92.0</td>\n",
              "    </tr>\n",
              "    <tr>\n",
              "      <th>4</th>\n",
              "      <td>1080005</td>\n",
              "      <td>吳ㄧ歌</td>\n",
              "      <td>0</td>\n",
              "      <td>1080005@sun.tc.edu.tw</td>\n",
              "      <td>93</td>\n",
              "      <td>85.138889</td>\n",
              "      <td>92.0</td>\n",
              "      <td>97</td>\n",
              "      <td>98.0</td>\n",
              "    </tr>\n",
              "  </tbody>\n",
              "</table>\n",
              "</div>\n",
              "      <button class=\"colab-df-convert\" onclick=\"convertToInteractive('df-4f98e683-5a2a-4519-bef2-563b4d5e3b24')\"\n",
              "              title=\"Convert this dataframe to an interactive table.\"\n",
              "              style=\"display:none;\">\n",
              "        \n",
              "  <svg xmlns=\"http://www.w3.org/2000/svg\" height=\"24px\"viewBox=\"0 0 24 24\"\n",
              "       width=\"24px\">\n",
              "    <path d=\"M0 0h24v24H0V0z\" fill=\"none\"/>\n",
              "    <path d=\"M18.56 5.44l.94 2.06.94-2.06 2.06-.94-2.06-.94-.94-2.06-.94 2.06-2.06.94zm-11 1L8.5 8.5l.94-2.06 2.06-.94-2.06-.94L8.5 2.5l-.94 2.06-2.06.94zm10 10l.94 2.06.94-2.06 2.06-.94-2.06-.94-.94-2.06-.94 2.06-2.06.94z\"/><path d=\"M17.41 7.96l-1.37-1.37c-.4-.4-.92-.59-1.43-.59-.52 0-1.04.2-1.43.59L10.3 9.45l-7.72 7.72c-.78.78-.78 2.05 0 2.83L4 21.41c.39.39.9.59 1.41.59.51 0 1.02-.2 1.41-.59l7.78-7.78 2.81-2.81c.8-.78.8-2.07 0-2.86zM5.41 20L4 18.59l7.72-7.72 1.47 1.35L5.41 20z\"/>\n",
              "  </svg>\n",
              "      </button>\n",
              "      \n",
              "  <style>\n",
              "    .colab-df-container {\n",
              "      display:flex;\n",
              "      flex-wrap:wrap;\n",
              "      gap: 12px;\n",
              "    }\n",
              "\n",
              "    .colab-df-convert {\n",
              "      background-color: #E8F0FE;\n",
              "      border: none;\n",
              "      border-radius: 50%;\n",
              "      cursor: pointer;\n",
              "      display: none;\n",
              "      fill: #1967D2;\n",
              "      height: 32px;\n",
              "      padding: 0 0 0 0;\n",
              "      width: 32px;\n",
              "    }\n",
              "\n",
              "    .colab-df-convert:hover {\n",
              "      background-color: #E2EBFA;\n",
              "      box-shadow: 0px 1px 2px rgba(60, 64, 67, 0.3), 0px 1px 3px 1px rgba(60, 64, 67, 0.15);\n",
              "      fill: #174EA6;\n",
              "    }\n",
              "\n",
              "    [theme=dark] .colab-df-convert {\n",
              "      background-color: #3B4455;\n",
              "      fill: #D2E3FC;\n",
              "    }\n",
              "\n",
              "    [theme=dark] .colab-df-convert:hover {\n",
              "      background-color: #434B5C;\n",
              "      box-shadow: 0px 1px 3px 1px rgba(0, 0, 0, 0.15);\n",
              "      filter: drop-shadow(0px 1px 2px rgba(0, 0, 0, 0.3));\n",
              "      fill: #FFFFFF;\n",
              "    }\n",
              "  </style>\n",
              "\n",
              "      <script>\n",
              "        const buttonEl =\n",
              "          document.querySelector('#df-4f98e683-5a2a-4519-bef2-563b4d5e3b24 button.colab-df-convert');\n",
              "        buttonEl.style.display =\n",
              "          google.colab.kernel.accessAllowed ? 'block' : 'none';\n",
              "\n",
              "        async function convertToInteractive(key) {\n",
              "          const element = document.querySelector('#df-4f98e683-5a2a-4519-bef2-563b4d5e3b24');\n",
              "          const dataTable =\n",
              "            await google.colab.kernel.invokeFunction('convertToInteractive',\n",
              "                                                     [key], {});\n",
              "          if (!dataTable) return;\n",
              "\n",
              "          const docLinkHtml = 'Like what you see? Visit the ' +\n",
              "            '<a target=\"_blank\" href=https://colab.research.google.com/notebooks/data_table.ipynb>data table notebook</a>'\n",
              "            + ' to learn more about interactive tables.';\n",
              "          element.innerHTML = '';\n",
              "          dataTable['output_type'] = 'display_data';\n",
              "          await google.colab.output.renderOutput(dataTable, element);\n",
              "          const docLink = document.createElement('div');\n",
              "          docLink.innerHTML = docLinkHtml;\n",
              "          element.appendChild(docLink);\n",
              "        }\n",
              "      </script>\n",
              "    </div>\n",
              "  </div>\n",
              "  "
            ],
            "text/plain": [
              "        ID name  sex                  email  ...      第2次平時考  第3次平時考  第4次平時考  第5次平時考\n",
              "0  1080001  丁軒軒    1  1080001@sun.tc.edu.tw  ...   88.000000    82.0      87    92.0\n",
              "1  1080002  王倫樺    0  1080002@sun.tc.edu.tw  ...  100.000000    95.0      99    96.0\n",
              "2  1080003  何宜敏    0  1080003@sun.tc.edu.tw  ...   87.000000    86.0      82    82.0\n",
              "3  1080004  何志陞    1  1080004@sun.tc.edu.tw  ...   92.000000    99.0      91    92.0\n",
              "4  1080005  吳ㄧ歌    0  1080005@sun.tc.edu.tw  ...   85.138889    92.0      97    98.0\n",
              "\n",
              "[5 rows x 9 columns]"
            ]
          },
          "metadata": {},
          "execution_count": 11
        }
      ]
    },
    {
      "cell_type": "markdown",
      "source": [
        "##儲存結果"
      ],
      "metadata": {
        "id": "Ja8AOR74c7rK"
      }
    },
    {
      "cell_type": "code",
      "source": [
        "filename='學生成績檔07.csv'       \n",
        "df.to_csv(o_filepath + filename, index=False)"
      ],
      "metadata": {
        "id": "sxMNzd1TdHHi"
      },
      "execution_count": null,
      "outputs": []
    }
  ]
}