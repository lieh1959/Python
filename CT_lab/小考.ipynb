{
  "nbformat": 4,
  "nbformat_minor": 0,
  "metadata": {
    "colab": {
      "name": "小考.ipynb",
      "provenance": [],
      "toc_visible": true
    },
    "kernelspec": {
      "name": "python3",
      "display_name": "Python 3"
    },
    "language_info": {
      "name": "python"
    }
  },
  "cells": [
    {
      "cell_type": "markdown",
      "source": [
        "#1.請問以下程式執行結果? "
      ],
      "metadata": {
        "id": "xCql8Jb0AuyY"
      }
    },
    {
      "cell_type": "code",
      "execution_count": 3,
      "metadata": {
        "colab": {
          "base_uri": "https://localhost:8080/"
        },
        "id": "S6nByhIWAlOu",
        "outputId": "2ae7d5ac-0039-4f31-e1e9-ad7821b075d0"
      },
      "outputs": [
        {
          "output_type": "stream",
          "name": "stdout",
          "text": [
            "請猜數字1-100：78\n",
            "太大了！\n",
            "請猜數字1-100：50\n",
            "太小了！\n",
            "請猜數字1-100：60\n",
            "太大了！\n",
            "請猜數字1-100：55\n",
            "太大了！\n",
            "請猜數字1-100：53\n",
            "太大了！\n",
            "請猜數字1-100：51\n",
            "太小了！\n",
            "請猜數字1-100：52\n",
            "猜對了！\n"
          ]
        }
      ],
      "source": [
        "import random\n",
        "num = random.randint(1, 100)\n",
        "answer = -1\n",
        "while answer !=  num:\n",
        "  answer = eval(input(\"請猜數字1-100：\"))\n",
        "  if answer > num:\n",
        "        print(\"太大了！\")\n",
        "  elif answer < num:\n",
        "          print(\"太小了！\")\n",
        "  else:\n",
        "          print(\"猜對了！\")"
      ]
    },
    {
      "cell_type": "markdown",
      "source": [
        "# 2.以for loop 測試range(100,10,-3) 做為迭代物件,  所產生的整數序列, 下列何者為真?"
      ],
      "metadata": {
        "id": "0PNlcdK7Biif"
      }
    },
    {
      "cell_type": "code",
      "source": [
        "n=0\n",
        "for i in range(100,10,-3):\n",
        "    n+=1\n",
        "    print (i,end=' ')\n",
        "print (\"\\n n=\",n)"
      ],
      "metadata": {
        "colab": {
          "base_uri": "https://localhost:8080/"
        },
        "id": "Fa1iQKNjLNrW",
        "outputId": "9da7927f-bfa9-44ed-f857-8c9dd2bd8b9a"
      },
      "execution_count": 4,
      "outputs": [
        {
          "output_type": "stream",
          "name": "stdout",
          "text": [
            "100 97 94 91 88 85 82 79 76 73 70 67 64 61 58 55 52 49 46 43 40 37 34 31 28 25 22 19 16 13 \n",
            " n= 30\n"
          ]
        }
      ]
    },
    {
      "cell_type": "markdown",
      "source": [
        "# 3. 為了完成以下倒金字塔的形狀, 請問程式中(1) (2)應該填入什麼?"
      ],
      "metadata": {
        "id": "RNPXBOlULWlj"
      }
    },
    {
      "cell_type": "code",
      "source": [
        "n = eval(input(\"請輸入金字塔的高度 (1 ~ 30)：\"))\n",
        "\n",
        "for i in range(1, n + 1):\n",
        "    print(\" \" * (n - i) , \"*\" * (2 * i - 1))"
      ],
      "metadata": {
        "colab": {
          "base_uri": "https://localhost:8080/"
        },
        "id": "8VlG8b2ILhDq",
        "outputId": "ebb1b563-a038-46d8-b9ee-c09aadab47e7"
      },
      "execution_count": 5,
      "outputs": [
        {
          "output_type": "stream",
          "name": "stdout",
          "text": [
            "請輸入金字塔的高度 (1 ~ 30)：15\n",
            "               *\n",
            "              ***\n",
            "             *****\n",
            "            *******\n",
            "           *********\n",
            "          ***********\n",
            "         *************\n",
            "        ***************\n",
            "       *****************\n",
            "      *******************\n",
            "     *********************\n",
            "    ***********************\n",
            "   *************************\n",
            "  ***************************\n",
            " *****************************\n"
          ]
        }
      ]
    },
    {
      "cell_type": "markdown",
      "source": [
        "# 3-2.以下的程式執行完後, 有哪幾個數字可以被印出?"
      ],
      "metadata": {
        "id": "s_mqIHjxLqQ6"
      }
    },
    {
      "cell_type": "code",
      "source": [
        "n = eval(input(\"請輸入金字塔的高度 (1 ~ 30)：\"))\n",
        "\n",
        "for i in range(n,0,-1):\n",
        "    print(\" \" * (n-i) , \"*\" * (i*2-1))"
      ],
      "metadata": {
        "colab": {
          "base_uri": "https://localhost:8080/"
        },
        "id": "xjPZptlaL0c8",
        "outputId": "fba1fea6-90be-4d04-8ad6-38e829032064"
      },
      "execution_count": 13,
      "outputs": [
        {
          "output_type": "stream",
          "name": "stdout",
          "text": [
            "請輸入金字塔的高度 (1 ~ 30)：10\n",
            " *******************\n",
            "  *****************\n",
            "   ***************\n",
            "    *************\n",
            "     ***********\n",
            "      *********\n",
            "       *******\n",
            "        *****\n",
            "         ***\n",
            "          *\n"
          ]
        }
      ]
    },
    {
      "cell_type": "markdown",
      "source": [
        "# 4.以下的程式執行完後, 有哪幾個數字可以被印出?"
      ],
      "metadata": {
        "id": "YzE4W5M4MPt5"
      }
    },
    {
      "cell_type": "code",
      "source": [
        "for i in range(1,5):\n",
        "  for j in range(1,5):\n",
        "    if i*j<8:\n",
        "      continue\n",
        "    print(i*j)"
      ],
      "metadata": {
        "colab": {
          "base_uri": "https://localhost:8080/"
        },
        "id": "omb2b0dhMbFS",
        "outputId": "60533ff2-4256-47e8-a643-fa1856c00d7e"
      },
      "execution_count": 9,
      "outputs": [
        {
          "output_type": "stream",
          "name": "stdout",
          "text": [
            "8\n",
            "9\n",
            "12\n",
            "8\n",
            "12\n",
            "16\n"
          ]
        }
      ]
    },
    {
      "cell_type": "markdown",
      "source": [
        "# 5.下列哪個函式可以傳回參數由弳度轉換成角度的結果?\n",
        "(1)\tmath.degrees()\n",
        "(2)\tmath.radians()\n",
        "(3)\tmath.sin()\n",
        "(4)\tmath.tan\n"
      ],
      "metadata": {
        "id": "4m77HStiM6dq"
      }
    },
    {
      "cell_type": "markdown",
      "source": [
        "# 6.(程式撰寫: filename:p1.py) 有一首法國兒歌, 也是我們小時候唱的兩隻老虎, 歌曲內容如下:\n",
        " \n",
        "(1)\t請建立上述字串時省略標點符號, 最後列出此字串\n",
        "(2)\t再將字串轉為串列同時列出串列\n",
        "(3)\t在螢幕輸入字串, 可以列出這個字串出現次數\n",
        "以下是示範輸出~~\n"
      ],
      "metadata": {
        "id": "vcRSKAQUNMfw"
      }
    },
    {
      "cell_type": "code",
      "source": [
        "str1=\"Are you sleeping, are you sleeping, Brother John? Morning bells are ringing, morning bells are ringing. Ding ding dong, Ding ding dong.\"\n",
        "sList=str1.split()\n",
        "\n",
        "print ('歌曲字串內容:'+str1)\n",
        "print ('歌曲串列內容:',sList)\n",
        "########################################\n",
        "n=0\n",
        "str2= input('請輸入找尋字串')\n",
        "for s in sList:\n",
        "    if str2==s:\n",
        "        n+=1\n",
        "\n",
        "print (str2+\"總共出現\"+str(n)+\"次\")\n"
      ],
      "metadata": {
        "colab": {
          "base_uri": "https://localhost:8080/"
        },
        "id": "tiVJwNYgNiBw",
        "outputId": "cb5b0617-053b-4e47-ab82-d5891e245d3d"
      },
      "execution_count": 11,
      "outputs": [
        {
          "output_type": "stream",
          "name": "stdout",
          "text": [
            "歌曲字串內容:Are you sleeping, are you sleeping, Brother John? Morning bells are ringing, morning bells are ringing. Ding ding dong, Ding ding dong.\n",
            "歌曲串列內容: ['Are', 'you', 'sleeping,', 'are', 'you', 'sleeping,', 'Brother', 'John?', 'Morning', 'bells', 'are', 'ringing,', 'morning', 'bells', 'are', 'ringing.', 'Ding', 'ding', 'dong,', 'Ding', 'ding', 'dong.']\n",
            "請輸入找尋字串sleeping,\n",
            "sleeping,總共出現2次\n"
          ]
        }
      ]
    },
    {
      "cell_type": "markdown",
      "source": [
        "# 7.(程式撰寫: filename:p2.py) 請設計以下 九九乘法表\n",
        "以下是示範輸出~~\n"
      ],
      "metadata": {
        "id": "hhkteFWZN4Wv"
      }
    },
    {
      "cell_type": "code",
      "source": [
        "result1, result2 = '', ''\n",
        "\n",
        "for i in range(1, 10):\n",
        "    result1 = ''\n",
        "  \n",
        "    for j in range(1, 10):\n",
        "        result1 =  str(i) + '*' + str(j) + '=' + format(str(i * j),\"4\")  \n",
        "        print (result1,end='  ')\n",
        "        if j%3==0 :\n",
        "            print (\"\\n\")\n",
        "    print (\"*******************************************\")"
      ],
      "metadata": {
        "colab": {
          "base_uri": "https://localhost:8080/"
        },
        "id": "rN9-7cK_OFaP",
        "outputId": "067cead9-41ef-406a-c32f-6df1a5bc03a6"
      },
      "execution_count": 12,
      "outputs": [
        {
          "output_type": "stream",
          "name": "stdout",
          "text": [
            "1*1=1     1*2=2     1*3=3     \n",
            "\n",
            "1*4=4     1*5=5     1*6=6     \n",
            "\n",
            "1*7=7     1*8=8     1*9=9     \n",
            "\n",
            "*******************************************\n",
            "2*1=2     2*2=4     2*3=6     \n",
            "\n",
            "2*4=8     2*5=10    2*6=12    \n",
            "\n",
            "2*7=14    2*8=16    2*9=18    \n",
            "\n",
            "*******************************************\n",
            "3*1=3     3*2=6     3*3=9     \n",
            "\n",
            "3*4=12    3*5=15    3*6=18    \n",
            "\n",
            "3*7=21    3*8=24    3*9=27    \n",
            "\n",
            "*******************************************\n",
            "4*1=4     4*2=8     4*3=12    \n",
            "\n",
            "4*4=16    4*5=20    4*6=24    \n",
            "\n",
            "4*7=28    4*8=32    4*9=36    \n",
            "\n",
            "*******************************************\n",
            "5*1=5     5*2=10    5*3=15    \n",
            "\n",
            "5*4=20    5*5=25    5*6=30    \n",
            "\n",
            "5*7=35    5*8=40    5*9=45    \n",
            "\n",
            "*******************************************\n",
            "6*1=6     6*2=12    6*3=18    \n",
            "\n",
            "6*4=24    6*5=30    6*6=36    \n",
            "\n",
            "6*7=42    6*8=48    6*9=54    \n",
            "\n",
            "*******************************************\n",
            "7*1=7     7*2=14    7*3=21    \n",
            "\n",
            "7*4=28    7*5=35    7*6=42    \n",
            "\n",
            "7*7=49    7*8=56    7*9=63    \n",
            "\n",
            "*******************************************\n",
            "8*1=8     8*2=16    8*3=24    \n",
            "\n",
            "8*4=32    8*5=40    8*6=48    \n",
            "\n",
            "8*7=56    8*8=64    8*9=72    \n",
            "\n",
            "*******************************************\n",
            "9*1=9     9*2=18    9*3=27    \n",
            "\n",
            "9*4=36    9*5=45    9*6=54    \n",
            "\n",
            "9*7=63    9*8=72    9*9=81    \n",
            "\n",
            "*******************************************\n"
          ]
        }
      ]
    }
  ]
}