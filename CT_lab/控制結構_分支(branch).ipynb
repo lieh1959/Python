{
  "nbformat": 4,
  "nbformat_minor": 0,
  "metadata": {
    "colab": {
      "name": "控制結構-分支(branch)",
      "provenance": [],
      "collapsed_sections": [],
      "toc_visible": true
    },
    "kernelspec": {
      "name": "python3",
      "display_name": "Python 3"
    },
    "language_info": {
      "name": "python"
    }
  },
  "cells": [
    {
      "cell_type": "markdown",
      "metadata": {
        "id": "lVXyGRVItETB"
      },
      "source": [
        "# **控制結構-分支(branch)**\n"
      ]
    },
    {
      "cell_type": "markdown",
      "metadata": {
        "id": "DrvjLU-L2AVR"
      },
      "source": [
        "## <mark>問題1</mark>"
      ]
    },
    {
      "cell_type": "markdown",
      "metadata": {
        "id": "eZs68e5xtVGx"
      },
      "source": [
        "\n",
        "<b>請使用選擇敍述撰寫一程式，讓使用者輸入一個正整數，然後判斷它是3或5的倍數，顯示[x is a multiple of 3.]或[x is a multiple of 5.]; 若此數值同時為3與5倍數，顯示[x is a multiple of 3 and 5.];如數值皆不屬於3或5的倍數，顯示[x is not multiple of 3 or 5.]，將使用者輸入的數值代入 x。<br> </b>\n",
        "\n",
        "輸入: 一個正整數  <br>\n",
        "輸出: 判斷是否為3或5的倍數\n"
      ]
    },
    {
      "cell_type": "code",
      "metadata": {
        "colab": {
          "base_uri": "https://localhost:8080/"
        },
        "id": "qxWxWcH3qPGa",
        "outputId": "3d6576c0-f22e-4b21-9964-cc3025a40ec5"
      },
      "source": [
        "# 判斷它是3或5的倍數\n",
        "a= int(input(\"請輸入一正整數:\"))\n",
        "if (a%3==0 )and (a%5==0):\n",
        "  print(\"%d is a multiple of 3 and 5.\"%a)\n",
        "elif a%3==0:\n",
        "  print(\"%d is a multiple of 3 \"%a)\n",
        "elif a%5==0:\n",
        "  print(\"%d is a multiple of 5 \"%a) \n",
        "else:\n",
        "  print(\"%d is noy a multiple of 3 and 5.\"%a)"
      ],
      "execution_count": null,
      "outputs": [
        {
          "output_type": "stream",
          "text": [
            "請輸入一正整數:55\n",
            "55 is a multiple of 5 \n"
          ],
          "name": "stdout"
        }
      ]
    },
    {
      "cell_type": "markdown",
      "metadata": {
        "id": "ZUSigD8L2M4B"
      },
      "source": [
        "## <mark>問題2  </mark>"
      ]
    },
    {
      "cell_type": "markdown",
      "metadata": {
        "id": "c0NMTPLhxWRq"
      },
      "source": [
        "\n",
        "輸入一個學生分數(0~100)，以如下的方式輸出結果 (超出範圍時給錯誤訊息)：<br>\n",
        "\n",
        "若90<=分數        輸出：A  <br>\n",
        "若80<=分數<90     輸出：B   <br>\n",
        "若70<=分數<80     輸出：C    <br>\n",
        "若60<=分數<70     輸出：D   <br>\n",
        "若分數<60         輸出：E  <br>\n"
      ]
    },
    {
      "cell_type": "code",
      "metadata": {
        "colab": {
          "base_uri": "https://localhost:8080/"
        },
        "id": "c14P2cjHsk-i",
        "outputId": "1b62a163-75aa-4482-c719-087ad5b0adb9"
      },
      "source": [
        "score = float(input(\"輸入一個學生分數(0~100)\"))\n",
        "if score < 0 or score > 100: \n",
        "  print(\"輸入範圍錯誤\")\n",
        "else:  \n",
        "  if 90 <= score:\n",
        "    print('A')\n",
        "  elif 80<=score and score<90:\n",
        "    print('B')\n",
        "  elif 70<=score and score<80:\n",
        "    print('C')\n",
        "  elif 60<=score and score<70:\n",
        "    print('D')\n",
        "  else:\n",
        "    print('E')"
      ],
      "execution_count": null,
      "outputs": [
        {
          "output_type": "stream",
          "text": [
            "輸入一個學生分數(0~100)78.5\n",
            "C\n"
          ],
          "name": "stdout"
        }
      ]
    },
    {
      "cell_type": "markdown",
      "metadata": {
        "id": "0foZ-n4C2VPo"
      },
      "source": [
        "##**問題3:**"
      ]
    },
    {
      "cell_type": "markdown",
      "metadata": {
        "id": "nQWA0dtlbFMk"
      },
      "source": [
        "<b>「2017年國軍體能訓測實施計畫」內規定，男女兵接受三項體能測驗的首要條件是BMI值，但男性標準是31，女性卻是26。 <br></b>\n",
        "\n",
        "輸入性別，身高(公尺)，體重(公斤)，計算並輸出相對應的BMI。若符合標準，輸出：合  <格；若不符合標準，輸出：不合格。"
      ]
    },
    {
      "cell_type": "code",
      "metadata": {
        "id": "JKqthB49uO9I"
      },
      "source": [
        "# 計算並輸出相對應的BMI\n",
        "gender = input('輸入性別(m/f):')\n",
        "height = float(input('輸入身高(公尺):'))\n",
        "weight = float(input('輸入體重(公斤):'))\n",
        "bmi=weight/height/height\n",
        "print(\"BMI為{:10.2f}:\".format(bmi))\n",
        "if gender == 'f':\n",
        "  if bmi >=26:\n",
        "    print('不合格')\n",
        "  else:\n",
        "    print('合格')\n",
        "else:\n",
        "  if bmi >=31:\n",
        "    print('不合格')\n",
        "  else:\n",
        "    print('合格')"
      ],
      "execution_count": null,
      "outputs": []
    },
    {
      "cell_type": "markdown",
      "metadata": {
        "id": "w1Y8KwERwNHN"
      },
      "source": [
        "## 問題4"
      ]
    },
    {
      "cell_type": "markdown",
      "metadata": {
        "id": "szvgQWCJykrF"
      },
      "source": [
        "<b>(1)請使用迴圈敍述撰寫一程式，要求使用者輸入一個正整數n (n<10)，顯示 n*n乘法表 <br>\n",
        "(2) 每項運算式需進行格式化排列整齊，每個運算元輸出的欄寬為2，而每項乘積輸出的欄寬為4，皆靠右對齊且不跳行。輸出一列後要跳行 <br> </b>\n",
        "\n",
        "輸入: 一個正整數 n(<10)  <br>\n",
        "輸出: 格式化的 n*n乘法表\n",
        "\n"
      ]
    },
    {
      "cell_type": "markdown",
      "metadata": {
        "id": "C_TYN-AhyaZF"
      },
      "source": [
        "## 問題5"
      ]
    },
    {
      "cell_type": "markdown",
      "metadata": {
        "id": "7YgbkiOuwWId"
      },
      "source": [
        "<b>請使用迴圈敍述撰寫一程式，要求使用者輸入一個正整數，將此數值以反轉順序輸出 </b><br>\n",
        "\n",
        "本題請用 while 迴圈練習 <br>\n",
        "輸入: 一個正整數  <br>\n",
        "輸出: 將此數值以反轉順序輸出 <br>"
      ]
    },
    {
      "cell_type": "markdown",
      "metadata": {
        "id": "fQbEc97wgxuE"
      },
      "source": [
        "## 問題6"
      ]
    },
    {
      "cell_type": "markdown",
      "metadata": {
        "id": "IVuhcIvtg77M"
      },
      "source": [
        "<mark>準備一個包含至少10筆資料的檔案(存在你的雲端硬碟)data03.txt，其中包含三個以逗點分隔，代表三角形邊長的浮點數。<br>\n",
        "請讀取 data03.txt 逐一處理每筆紀錄，輸出這筆紀錄代表什麼三角形。<br> </mark>\n",
        "\n",
        "提示: 先要找出最大、次大、最小的邊長 <br>\n",
        "\n",
        "\n",
        "\n"
      ]
    }
  ]
}