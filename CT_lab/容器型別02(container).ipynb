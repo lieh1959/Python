{
  "nbformat": 4,
  "nbformat_minor": 0,
  "metadata": {
    "colab": {
      "name": "容器型別02(container)",
      "provenance": [],
      "collapsed_sections": [],
      "toc_visible": true
    },
    "kernelspec": {
      "name": "python3",
      "display_name": "Python 3"
    },
    "language_info": {
      "name": "python"
    }
  },
  "cells": [
    {
      "cell_type": "markdown",
      "metadata": {
        "id": "lVXyGRVItETB"
      },
      "source": [
        "# **集合(set)**\n"
      ]
    },
    {
      "cell_type": "markdown",
      "metadata": {
        "id": "DrvjLU-L2AVR"
      },
      "source": [
        "## <mark>問題1</mark>"
      ]
    },
    {
      "cell_type": "markdown",
      "metadata": {
        "id": "eZs68e5xtVGx"
      },
      "source": [
        "<h3>\n",
        "<b>#請寫一程式，輸入數個整數並儲存至集合，以輸入-9999為結束點(集合中不含-9999)，最後顯示該集合的長度\n",
        " (Length)、最大值(Max)、最小值(Min)、總和 (Sum) </b>\n",
        "  "
      ]
    },
    {
      "cell_type": "code",
      "metadata": {
        "id": "cTh96zxX1DpR",
        "colab": {
          "base_uri": "https://localhost:8080/"
        },
        "outputId": "38c44327-a387-4e7d-d2de-dadc40b0f89f"
      },
      "source": [
        "num=set()\n",
        "while True:\n",
        "  inp= eval(input(\"輸入整數(-9999為結束點):\"))\n",
        "  if inp== -9999:\n",
        "    break\n",
        "  num.add(inp)      #加入此數到集合num\n",
        "\n",
        "print(\"Length:\", len(num))\n",
        "print(\"Max:\",max(num))\n",
        "print(\"Min:\",min(num))\n",
        "print(\"Sum:\",sum(num))"
      ],
      "execution_count": null,
      "outputs": [
        {
          "output_type": "stream",
          "text": [
            "輸入整數(-9999為結束點):25\n",
            "輸入整數(-9999為結束點):63\n",
            "輸入整數(-9999為結束點):98\n",
            "輸入整數(-9999為結束點):1235\n",
            "輸入整數(-9999為結束點):-999\n",
            "輸入整數(-9999為結束點):-9999\n",
            "Length: 5\n",
            "Max: 1235\n",
            "Min: -999\n",
            "Sum: 422\n"
          ],
          "name": "stdout"
        }
      ]
    },
    {
      "cell_type": "markdown",
      "metadata": {
        "id": "ZUSigD8L2M4B"
      },
      "source": [
        "## <mark>問題2  </mark>"
      ]
    },
    {
      "cell_type": "markdown",
      "metadata": {
        "id": "c0NMTPLhxWRq"
      },
      "source": [
        "<b><h3>\n",
        "全字母句(Pangram) 是英文字母表所有的字母都出現至少一次(最好只出現一次) 的句子。\n",
        "請撰寫一程式，要求使用者輸入一正整數k(代表有k筆測試資料)，每一筆測試資料為一句子，程式判斷該句子是否為Pangram , 並印出對應結果True或 False </b>\n",
        "\n",
        "sen1:The quick brown fox jumps over the lazy dog <br>\n",
        "sen2:Learning Python is funny   <br>\n",
        "sen3: Pack my box with five dozen liquor jugs  <br>\n"
      ]
    },
    {
      "cell_type": "code",
      "metadata": {
        "id": "AJ0ATfPP13LR",
        "colab": {
          "base_uri": "https://localhost:8080/"
        },
        "outputId": "a250258d-196e-4b13-e108-cfa57c9a39ac"
      },
      "source": [
        "num_alph=26\n",
        "k= eval(input())  # 輸入k 個\n",
        "for i in range(k):\n",
        "  sentence= input()  # 輸入句子\n",
        "  alphabet= set(sentence.lower()) # 將句子中每個字轉小寫\n",
        "  alphabet.remove(' ')  # 將句子中空白去除\n",
        "\n",
        "  print(sorted(alphabet))   # 顯示句子的每個字(sorted)\n",
        "  if len(alphabet)==num_alph: \n",
        "    print(True) \n",
        "  else:  print(False)\n",
        " # print(len(alphabet)==num_alph)  "
      ],
      "execution_count": null,
      "outputs": [
        {
          "output_type": "stream",
          "text": [
            "3\n",
            "The quick brown fox jumps over the lazy dog\n",
            "['a', 'b', 'c', 'd', 'e', 'f', 'g', 'h', 'i', 'j', 'k', 'l', 'm', 'n', 'o', 'p', 'q', 'r', 's', 't', 'u', 'v', 'w', 'x', 'y', 'z']\n",
            "True\n",
            "Learning Python is funny\n",
            "['a', 'e', 'f', 'g', 'h', 'i', 'l', 'n', 'o', 'p', 'r', 's', 't', 'u', 'y']\n",
            "False\n",
            "Pack my box with five dozen liquor jugs\n",
            "['a', 'b', 'c', 'd', 'e', 'f', 'g', 'h', 'i', 'j', 'k', 'l', 'm', 'n', 'o', 'p', 'q', 'r', 's', 't', 'u', 'v', 'w', 'x', 'y', 'z']\n",
            "True\n"
          ],
          "name": "stdout"
        }
      ]
    },
    {
      "cell_type": "code",
      "metadata": {
        "id": "P4rC9E_G4dtx"
      },
      "source": [
        "import random\n",
        "lotto=[] #亂數函數產生的資料串列\n",
        "checkNum=[]   # 輔助串列,做為重覆數字check\n",
        "for i in range(0,50):\n",
        "  checkNum.append(0)  #先將此串列都填0\n",
        "\n",
        "count=1\n",
        "while count<=6:\n",
        "  randNum=random.randint(1,49)\n",
        "  if checkNum[randNum]==0:\n",
        "    lotto.append(randNum)\n",
        "    count+=1\n",
        "  checkNum[randNum]=1   # 將index設為1,下次不會再使用這個數字\n",
        "print(\"The lottery numbers are:\\n\",end='')\n",
        "for i in lotto:\n",
        "  print(i,end=' ')\n",
        "print()"
      ],
      "execution_count": null,
      "outputs": []
    },
    {
      "cell_type": "markdown",
      "metadata": {
        "id": "IPOFbuFPS4i2"
      },
      "source": [
        "# **字典**"
      ]
    },
    {
      "cell_type": "markdown",
      "metadata": {
        "id": "qE3mvur6TLxc"
      },
      "source": [
        "## <mark>問題1</mark>"
      ]
    },
    {
      "cell_type": "markdown",
      "metadata": {
        "id": "mSD-CXAUTVM0"
      },
      "source": [
        "<b><h3>旅遊地點調查實例。  \n",
        "目的: 練習如何將資料存入字典及輸出  </b> <br><h4>\n",
        "輸入: 名字及旅遊地點，然後存入survey_dict 字典, key: name, value: <br> travel_location。 輸入完程式會詢問是否有人要輸入。 <br>\n",
        "輸出：程式結束前會輸出調查結果 "
      ]
    },
    {
      "cell_type": "code",
      "metadata": {
        "id": "uQbuJlpc5MRh"
      },
      "source": [
        "survey_dict = {}                        # 建立市場調查空字典\n",
        "market_survey = True                    # 設定迴圈布林值     \n",
        "\n",
        "# 讀取參加市場調查者姓名和夢幻旅遊景點\n",
        "while market_survey:\n",
        "    name = input(\"\\n請輸入姓名  : \")\n",
        "    travel_location = input(\"夢幻旅遊景點: \")\n",
        "\n",
        "# 將輸入存入survey_dict字典\n",
        "    survey_dict[name] = travel_location\n",
        "\n",
        "# 可由此決定是否離開市場調查\n",
        "    repeat = input(\"是否有人要參加市場調查?(y/n) \")\n",
        "    if repeat != 'y':               # 不是輸入y,則離開while迴圈\n",
        "        market_survey = False\n",
        "\n",
        "# 市場調查結束\n",
        "print(\"\\n\\n以下是市場調查的結果\")\n",
        "for user, location in survey_dict.items( ):\n",
        "    print(user, \"夢幻旅遊景點: \", location)"
      ],
      "execution_count": null,
      "outputs": []
    },
    {
      "cell_type": "markdown",
      "metadata": {
        "id": "eW7o9GyPUZWz"
      },
      "source": [
        "## <mark>問題2  </mark>"
      ]
    },
    {
      "cell_type": "markdown",
      "metadata": {
        "id": "W-JNfyAGUhs9"
      },
      "source": [
        "<b><h3>記錄一段英文文字或是一篇文章所有單字以及每個單字的出現次數。<br>\n",
        "本程式會用單字當作字典的key, 用value當作該單字出現的次數。 <br>\n"
      ]
    },
    {
      "cell_type": "code",
      "metadata": {
        "colab": {
          "base_uri": "https://localhost:8080/"
        },
        "id": "A_VBvUzmU7XN",
        "outputId": "8f36ae2b-d0b8-4c29-c4b3-96028292a162"
      },
      "source": [
        "song = \"\"\"Are you sleeping, are you sleeping, Brother John, Brother John?\n",
        "Morning bells are ringing, morning bells are ringing.\n",
        "Ding ding dong, Ding ding dong.\"\"\"\n",
        "dict = {}                           # 空字典未來儲存單字計數結果\n",
        "print(\"原始歌曲\")\n",
        "print(song)\n",
        "\n",
        "# 以下是將歌曲大寫字母全部改成小寫\n",
        "songLower = song.lower()            # 歌曲改為小寫\n",
        "print('------------------------------------------------------------')\n",
        "print(\"小寫歌曲\")\n",
        "print(songLower)\n",
        "\n",
        "# 將歌曲的標點符號用空字元取代\n",
        "for ch in songLower:                \n",
        "  if ch in \".,?\":\n",
        "    songLower = songLower.replace(ch,'')\n",
        "print('------------------------------------------------------------')\n",
        "print(\"不再有標點符號的歌曲\")    \n",
        "print(songLower)\n",
        "\n",
        "# 將歌曲字串轉成串列\n",
        "songList = songLower.split() \n",
        "print('------------------------------------------------------------')       \n",
        "print(\"以下是歌曲串列\")\n",
        "print(songList)                     # 列印歌曲串列\n",
        "\n",
        "# 將歌曲串列處理成字典 \n",
        "for wd in songList:                 \n",
        "  if wd in dict:              # 檢查此字是否已在字典內\n",
        "    dict[wd] += 1           # 累計出現次數\n",
        "  else:\n",
        "    dict[wd] = 1            # 第一次出現的字建立此鍵與值\n",
        "    \n",
        "print(\"以下是最後執行結果\")\n",
        "print(dict)                         # 列印字典"
      ],
      "execution_count": null,
      "outputs": [
        {
          "output_type": "stream",
          "text": [
            "原始歌曲\n",
            "Are you sleeping, are you sleeping, Brother John, Brother John?\n",
            "Morning bells are ringing, morning bells are ringing.\n",
            "Ding ding dong, Ding ding dong.\n",
            "------------------------------------------------------------\n",
            "小寫歌曲\n",
            "are you sleeping, are you sleeping, brother john, brother john?\n",
            "morning bells are ringing, morning bells are ringing.\n",
            "ding ding dong, ding ding dong.\n",
            "------------------------------------------------------------\n",
            "不再有標點符號的歌曲\n",
            "are you sleeping are you sleeping brother john brother john\n",
            "morning bells are ringing morning bells are ringing\n",
            "ding ding dong ding ding dong\n",
            "------------------------------------------------------------\n",
            "以下是歌曲串列\n",
            "['are', 'you', 'sleeping', 'are', 'you', 'sleeping', 'brother', 'john', 'brother', 'john', 'morning', 'bells', 'are', 'ringing', 'morning', 'bells', 'are', 'ringing', 'ding', 'ding', 'dong', 'ding', 'ding', 'dong']\n",
            "以下是最後執行結果\n",
            "{'are': 4, 'you': 2, 'sleeping': 2, 'brother': 2, 'john': 2, 'morning': 2, 'bells': 2, 'ringing': 2, 'ding': 4, 'dong': 2}\n"
          ],
          "name": "stdout"
        }
      ]
    }
  ]
}