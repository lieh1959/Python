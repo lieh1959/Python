{
  "nbformat": 4,
  "nbformat_minor": 0,
  "metadata": {
    "colab": {
      "name": "函式(function)",
      "provenance": [],
      "collapsed_sections": [],
      "toc_visible": true
    },
    "kernelspec": {
      "name": "python3",
      "display_name": "Python 3"
    },
    "language_info": {
      "name": "python"
    }
  },
  "cells": [
    {
      "cell_type": "markdown",
      "metadata": {
        "id": "lVXyGRVItETB"
      },
      "source": [
        "# **函式(function)**\n"
      ]
    },
    {
      "cell_type": "markdown",
      "metadata": {
        "id": "DrvjLU-L2AVR"
      },
      "source": [
        "## <mark>問題1</mark>"
      ]
    },
    {
      "cell_type": "markdown",
      "metadata": {
        "id": "eZs68e5xtVGx"
      },
      "source": [
        "<h3>\n",
        "<b>請撰寫一程式、呼叫函式compute()，該函式功能為讓使用者輸入系別(Department)、學號(Student ID)和姓名(Name)，並顯示這些訊息。 </b>\n",
        "<pre>\n",
        "輸入: 三個字串  \n",
        "輸出: 系別(Department)\n",
        "    學號(Student ID)\n",
        "    姓名(Name)"
      ]
    },
    {
      "cell_type": "code",
      "metadata": {
        "id": "_xEnK8gQhZT8"
      },
      "source": [
        "# 定義函式 compute()\n",
        "def compute():\n",
        "  stu_dept=input(\"dept:\")\n",
        "  stu_id=input(\"id:\")\n",
        "  stu_name=input(\"name:\")\n",
        "\n",
        "  print(\"Department:\",stu_dept)\n",
        "  print(\"Student ID:\",stu_id)\n",
        "  print(\"Name:\",stu_name)\n",
        "# call function\n",
        "compute()"
      ],
      "execution_count": null,
      "outputs": []
    },
    {
      "cell_type": "markdown",
      "metadata": {
        "id": "ZUSigD8L2M4B"
      },
      "source": [
        "## <mark>問題2  </mark>"
      ]
    },
    {
      "cell_type": "markdown",
      "metadata": {
        "id": "c0NMTPLhxWRq"
      },
      "source": [
        "<b><h3>\n",
        "請撰寫一程式，將使用者輸入的三個數字(代表一元二次方程式 ax2+bx+c=0 的三個係數 a、b、c)作為參數傳遞給一個名為compute() 的函式，該函式回傳方程式的解，如無解則輸出[Your equation has no root.]。\n",
        "* 提示: 輸出有順序性  </b>\n"
      ]
    },
    {
      "cell_type": "code",
      "metadata": {
        "colab": {
          "base_uri": "https://localhost:8080/"
        },
        "id": "lgujM5y3mJwC",
        "outputId": "19023836-88c1-4c6d-8339-68ab952fb1fd"
      },
      "source": [
        "def compute(a,b,c):\n",
        "  delta=b**2-4*a*c  #判別式\n",
        "\n",
        "  if delta<0:   \n",
        "    return None\n",
        "  elif delta==0:\n",
        "    return -b/2*a\n",
        "  else:\n",
        "    res1=(-b+delta**0.5)/(2*a) #根1\n",
        "    res2=(-b-delta**0.5)/(2*a)  #根2\n",
        "    return str(res1)+\",\"+str(res2)  #回傳兩個根\n",
        "# 以下為主程式,  輸入 a,b,c 三個係數\n",
        "a=eval(input(\"輸入a:\"))\n",
        "b=eval(input(\"輸入b:\"))\n",
        "c=eval(input(\"輸入c:\"))\n",
        "result=compute(a,b,c)\n",
        "if result==None:\n",
        "  print(\"Your equation has no root.\")\n",
        "else:\n",
        "  print(\"兩根為:\",result)\n"
      ],
      "execution_count": null,
      "outputs": [
        {
          "output_type": "stream",
          "text": [
            "輸入a:2\n",
            "輸入b:-3\n",
            "輸入c:1\n",
            "兩根為: 1.0,0.5\n"
          ],
          "name": "stdout"
        }
      ]
    },
    {
      "cell_type": "markdown",
      "metadata": {
        "id": "0foZ-n4C2VPo"
      },
      "source": [
        "##**問題3:**"
      ]
    },
    {
      "cell_type": "markdown",
      "metadata": {
        "id": "nQWA0dtlbFMk"
      },
      "source": [
        "<b><h3>「請撰寫一程式，讓使用者輸入一個整數x，並將x 傳遞給名為compute()的函式，此函式將回傳 x是否為質數(Prime number)的布林值，接著再將判斷結果輸出。如輸入值為質數則顯示[Prime]，否則顯示[Not Prime] <br></b>\n",
        "<strong> <hr>  <font color=\"blue\"> \n",
        "輸入: 一個整數  <br>\n",
        "輸出: 判斷是否為質數，若為質數則顯示[Prime]，否則顯示[Not Prime]  </strong></font>"
      ]
    },
    {
      "cell_type": "code",
      "metadata": {
        "colab": {
          "base_uri": "https://localhost:8080/"
        },
        "id": "vOwpRwHVU8OB",
        "outputId": "83f77230-f491-4851-e87d-579f85dd0e0b"
      },
      "source": [
        "# 判別是否為質數 ?\n",
        "import math\n",
        "def compute(num):\n",
        "  s_num=math.floor(num**0.5)\n",
        "  for i in range(2,(s_num+1)):\n",
        "    if(num%i)==0:\n",
        "      return False\n",
        "  return True\n",
        "\n",
        "x=int(input(\"請輸入一數:\"))\n",
        "if x>1:\n",
        "  if compute(x):\n",
        "    print('Prime')\n",
        "  else:\n",
        "    print('Not Prime')\n",
        "else:\n",
        "  print('Not Prime')\n"
      ],
      "execution_count": null,
      "outputs": [
        {
          "output_type": "stream",
          "text": [
            "請輸入一數:20\n",
            "Not Prime\n"
          ],
          "name": "stdout"
        }
      ]
    },
    {
      "cell_type": "markdown",
      "metadata": {
        "id": "w1Y8KwERwNHN"
      },
      "source": [
        "## 問題4"
      ]
    },
    {
      "cell_type": "markdown",
      "metadata": {
        "id": "szvgQWCJykrF"
      },
      "source": [
        "<b><h3>「請撰寫一程式，讓使用者輸入兩個整數x、y，並將x與y傳遞給名為compute()的函式，此函式回傳x和y的最大公因數 <br></b>\n",
        "<strong> <hr>  <font color=\"blue\"> \n",
        "輸入: 兩個正整數(以半逗號分隔) x,y <br>\n",
        "輸出: 最大公因數  </strong></font>\n",
        "\n"
      ]
    },
    {
      "cell_type": "code",
      "metadata": {
        "colab": {
          "base_uri": "https://localhost:8080/"
        },
        "id": "XTdMAiKQNSpM",
        "outputId": "0dfc04e4-e018-4a4c-d24e-6f7c76971c2d"
      },
      "source": [
        "#  求最大公因數(g.c.d.)\n",
        "def compute(a,b):    #定義最大公因數函式\n",
        "  gcd=1\n",
        "  k=1\n",
        "  if a>0 and b>0:\n",
        "    while k<=a and k<=b:\n",
        "      if a%k==0 and b%k==0:\n",
        "        gcd=k\n",
        "      k+=1\n",
        "    return gcd\n",
        "#  主程式\n",
        "x,y=eval(input(\"請輸入兩數:\"))\n",
        "gcd=compute(x,y)     #call g.c.d function\n",
        "print(\"%d與%d的gcd====> %d \"%(x,y,gcd))"
      ],
      "execution_count": null,
      "outputs": [
        {
          "output_type": "stream",
          "text": [
            "請輸入兩數:20,80\n",
            "20與80的gcd====> 20 \n"
          ],
          "name": "stdout"
        }
      ]
    },
    {
      "cell_type": "markdown",
      "metadata": {
        "id": "C_TYN-AhyaZF"
      },
      "source": [
        "## 問題5"
      ]
    },
    {
      "cell_type": "markdown",
      "metadata": {
        "id": "7YgbkiOuwWId"
      },
      "source": [
        "<b><b><h3>正整數num(num>=2)，並將它傳遞給名為compute()的函式，此函式將輸出費氏數列前num個的數值。 <br>\n",
        "*提示: 費氏數列的某一項數字是其前兩項的和，而且第0項為0，第一項為1, 表示方式如下:\n",
        "F0=0\n",
        "F1=1\n",
        "Fn=Fn-1+Fn-2 <br></b>\n",
        "<strong> <hr>  <font color=\"blue\"> \n",
        "輸入: 一個正整數num(num>=2) <br>\n",
        "輸出: 依輸入值num, 印出費氏數列前num個的數值(每個數值後方為一個半形空格)  </strong></font> </b><br>\n",
        "\n"
      ]
    },
    {
      "cell_type": "code",
      "metadata": {
        "colab": {
          "base_uri": "https://localhost:8080/"
        },
        "id": "PCkixg2QXX4f",
        "outputId": "0f4a9717-9793-48eb-bd40-12fffc1c4996"
      },
      "source": [
        "#  費氏數列\n",
        "def compute(n):  # 先輸出前兩個, 再運用迴圈..\n",
        "  n1=0\n",
        "  n2=1\n",
        "  print('%d %d '%(n1,n2),end=' ')\n",
        "  for i in range(3,n+1):\n",
        "    n3=n1+n2\n",
        "    print('%d'%(n3),end=' ')\n",
        "    n1=n2\n",
        "    n2=n3\n",
        "\n",
        "num=eval(input('請輸入一數:'))\n",
        "compute(num) \n"
      ],
      "execution_count": null,
      "outputs": [
        {
          "output_type": "stream",
          "text": [
            "請輸入一數:20\n",
            "0 1  1 2 3 5 8 13 21 34 55 89 144 233 377 610 987 1597 2584 4181 "
          ],
          "name": "stdout"
        }
      ]
    },
    {
      "cell_type": "markdown",
      "metadata": {
        "id": "fQbEc97wgxuE"
      },
      "source": [
        "## 問題6"
      ]
    },
    {
      "cell_type": "markdown",
      "metadata": {
        "id": "IVuhcIvtg77M"
      },
      "source": [
        "<mark>準備一個包含至少10筆資料的檔案(存在你的雲端硬碟)data03.txt，其中包含三個以逗點分隔，代表三角形邊長的浮點數。<br>\n",
        "請讀取 data03.txt 逐一處理每筆紀錄，輸出這筆紀錄代表什麼三角形。<br> </mark>\n",
        "\n",
        "提示: 先要找出最大、次大、最小的邊長 <br>\n",
        "\n",
        "\n",
        "\n"
      ]
    }
  ]
}