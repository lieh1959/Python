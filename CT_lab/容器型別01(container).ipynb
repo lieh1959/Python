{
  "nbformat": 4,
  "nbformat_minor": 0,
  "metadata": {
    "colab": {
      "name": "容器型別01(container)",
      "provenance": [],
      "collapsed_sections": [],
      "toc_visible": true
    },
    "kernelspec": {
      "name": "python3",
      "display_name": "Python 3"
    },
    "language_info": {
      "name": "python"
    }
  },
  "cells": [
    {
      "cell_type": "markdown",
      "metadata": {
        "id": "lVXyGRVItETB"
      },
      "source": [
        "# **串列(list)**\n"
      ]
    },
    {
      "cell_type": "markdown",
      "metadata": {
        "id": "DrvjLU-L2AVR"
      },
      "source": [
        "## <mark>問題1</mark>"
      ]
    },
    {
      "cell_type": "markdown",
      "metadata": {
        "id": "eZs68e5xtVGx"
      },
      "source": [
        "<h3>\n",
        "<b>#請撰寫一程式，讓使用者輸入52張牌中的5張，計算並輸出其總和\n",
        "# *提示: J、Q、K及A 分別代表11、12、13、14 </b>\n",
        "<pre>\n",
        "輸入: 5張牌數  \n",
        "輸出: 5張牌的數值總和\n",
        "   "
      ]
    },
    {
      "cell_type": "code",
      "metadata": {
        "id": "cTh96zxX1DpR",
        "colab": {
          "base_uri": "https://localhost:8080/"
        },
        "outputId": "f0ad10d9-2d81-48cf-f4a4-047d5242493e"
      },
      "source": [
        "#請撰寫一程式，讓使用者輸入52張牌中的5張，計算並輸出其總和\n",
        "# *提示: J、Q、K及A 分別代表11、12、13、14\n",
        "cards =[]\n",
        "result =0\n",
        "for i in range(5):\n",
        "  cards.append(input())\n",
        " \n",
        "for i in range(5):\n",
        "  if cards[i]=='A': result +=1\n",
        "  elif cards[i]=='J': result +=11\n",
        "  elif cards[i]=='Q': result +=12\n",
        "  elif cards[i]=='K': result +=13\n",
        "  elif cards[i]=='10': result +=10\n",
        "  else:\n",
        "    result +=eval(cards[i])   #  串列中的資料加總\n",
        " \n",
        "print(result)"
      ],
      "execution_count": null,
      "outputs": [
        {
          "output_type": "stream",
          "name": "stdout",
          "text": [
            "A\n",
            "5\n",
            "K\n",
            "Q\n",
            "2\n",
            "33\n"
          ]
        }
      ]
    },
    {
      "cell_type": "markdown",
      "metadata": {
        "id": "ZUSigD8L2M4B"
      },
      "source": [
        "## <mark>問題2  </mark>"
      ]
    },
    {
      "cell_type": "markdown",
      "metadata": {
        "id": "c0NMTPLhxWRq"
      },
      "source": [
        "<b><h3>\n",
        "請撰寫一程式，讓使用者輸入十個整數作為樣本數，\n",
        "輸出眾數(樣本中出現最多次的數字) 及其出現的次數<br>\n",
        "*提示: 假設樣本中只有一個眾數 </b>\n"
      ]
    },
    {
      "cell_type": "code",
      "metadata": {
        "id": "AJ0ATfPP13LR",
        "colab": {
          "base_uri": "https://localhost:8080/"
        },
        "outputId": "232b6112-4e5b-4d6f-ca67-4063364e3b98"
      },
      "source": [
        "# 請撰寫一程式，讓使用者輸入十個整數作為樣本數，\n",
        "#輸出眾數(樣本中出現最多次的數字) 及其出現的次數\n",
        "#*提示: 假設樣本中只有一個眾數\n",
        "size=10\n",
        "sample =[]\n",
        "count=[0]*size\n",
        "\n",
        "for i in range(size):\n",
        "  num=int(input())\n",
        "  sample.append(num)  #將10個數加入串列sample \n",
        "  count[sample.index(num)]+=1\n",
        "num_occu =max(count)\n",
        "\n",
        "print(sample[count.index(num_occu)])\n",
        "print(num_occu)"
      ],
      "execution_count": null,
      "outputs": [
        {
          "output_type": "stream",
          "name": "stdout",
          "text": [
            "10\n",
            "25\n",
            "63\n",
            "12\n",
            "41\n",
            "88\n",
            "99\n",
            "54\n",
            "23\n",
            "25\n",
            "25\n",
            "2\n"
          ]
        }
      ]
    },
    {
      "cell_type": "markdown",
      "metadata": {
        "id": "0foZ-n4C2VPo"
      },
      "source": [
        "##**問題3:**"
      ]
    },
    {
      "cell_type": "markdown",
      "metadata": {
        "id": "nQWA0dtlbFMk"
      },
      "source": [
        "<b><h3>以大樂透電腦選號來探討有關串列程式的撰寫\n",
        "請撰寫一程式，以亂數產生六個1..49的亂數<br></b>\n",
        "<strong> <hr> <h4> <font color=\"#0000ff\"> \n",
        "提示: 有時我們會產生重複的數字，這要有機制防止 \n",
        "利用輔助串列checkNum[], 先將此串列的1~49 的元素值皆填為0,\n",
        "之後產生的亂數號碼當作checkNum串列的索引，檢視此索引所對應的值, 此時有兩種狀況, 分別如下\n",
        "(1)若是0，則將此亂數加入lotto[]串列，並將此索引所對應checkNum[]串列的值改為1\n",
        "(2)若是1，表示此亂數已加入lotto[]串列中了。若未產生六個，則再產生一次亂數 </strong></font>"
      ]
    },
    {
      "cell_type": "code",
      "metadata": {
        "id": "P4rC9E_G4dtx"
      },
      "source": [
        "import random\n",
        "lotto=[] #亂數函數產生的資料串列\n",
        "checkNum=[]   # 輔助串列,做為重覆數字check\n",
        "for i in range(0,50):\n",
        "  checkNum.append(0)  #先將此串列都填0\n",
        "\n",
        "count=1\n",
        "while count<=6:\n",
        "  randNum=random.randint(1,49)\n",
        "  if checkNum[randNum]==0:\n",
        "    lotto.append(randNum)\n",
        "    count+=1\n",
        "  checkNum[randNum]=1   # 將index設為1,下次不會再使用這個數字\n",
        "print(\"The lottery numbers are:\\n\",end='')\n",
        "for i in lotto:\n",
        "  print(i,end=' ')\n",
        "print()"
      ],
      "execution_count": null,
      "outputs": []
    },
    {
      "cell_type": "markdown",
      "metadata": {
        "id": "w1Y8KwERwNHN"
      },
      "source": [
        "## **問題4**"
      ]
    },
    {
      "cell_type": "markdown",
      "metadata": {
        "id": "szvgQWCJykrF"
      },
      "source": [
        "<b><h3>上題的簡化   <br>\n",
        "以大樂透電腦選號來探討有關串列程式的撰寫  \n",
        "請撰寫一程式，以亂數產生六個1~49的亂數 </b>\n"
      ]
    },
    {
      "cell_type": "code",
      "metadata": {
        "id": "uQbuJlpc5MRh",
        "outputId": "4598905c-cf3e-4d53-ddae-5c09f4157841",
        "colab": {
          "base_uri": "https://localhost:8080/"
        }
      },
      "source": [
        "import random \n",
        "lotto=[] #亂數函數產生的資料串列\n",
        "n=1\n",
        "while n<=6:\n",
        "  randNum=random.randint(1,49)\n",
        "  if randNum not in lotto:\n",
        "    lotto.append(randNum)\n",
        "    n+=1\n",
        "\n",
        "print(\"The lottery numbers are:\\n\",end='')\n",
        "for i in lotto:\n",
        "  print('%4d'%(i),end=' ')\n",
        "print()\n",
        "#----------sorting-------------------------------------\n",
        "lotto.sort()\n",
        "print('After sorting:')\n",
        "for i in lotto:\n",
        "  print('%4d'%(i),end=' ')\n",
        "print()"
      ],
      "execution_count": null,
      "outputs": [
        {
          "output_type": "stream",
          "text": [
            "The lottery numbers are:\n",
            "  48    7   31    2   11   46 \n",
            "After sorting:\n",
            "   2    7   11   31   46   48 \n"
          ],
          "name": "stdout"
        }
      ]
    }
  ]
}