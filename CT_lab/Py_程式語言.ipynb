{
  "nbformat": 4,
  "nbformat_minor": 0,
  "metadata": {
    "colab": {
      "name": "Py 程式語言",
      "provenance": [],
      "toc_visible": true
    },
    "kernelspec": {
      "name": "python3",
      "display_name": "Python 3"
    },
    "language_info": {
      "name": "python"
    }
  },
  "cells": [
    {
      "cell_type": "markdown",
      "metadata": {
        "id": "vm-oVve15ZXw"
      },
      "source": [
        "# **匯入sys 模組**"
      ]
    },
    {
      "cell_type": "markdown",
      "metadata": {
        "id": "XrpmIlrH9FrG"
      },
      "source": [
        "<b>匯入sys模組，輸出系統平台（sys.plateform），系統版本細節（sys.version_info)與檔案系統編碼（sys.getfilesystemencoding() 函數)</b>"
      ]
    },
    {
      "cell_type": "code",
      "metadata": {
        "id": "SygxH_Xt5Fyz",
        "colab": {
          "base_uri": "https://localhost:8080/"
        },
        "outputId": "2fae9a3d-b95c-4ec4-de53-9f39071e9d36"
      },
      "source": [
        "import sys     #\n",
        "print(sys.version)\n",
        "print(sys.getdefaultencoding())\n",
        "print(\"==============================\")\n",
        "print(\"系統平台:\", sys.platform)\n",
        "print(\"系統版本細節:\",sys.version_info)\n",
        "print(\"檔案系統編碼:\", sys.getfilesystemencoding())"
      ],
      "execution_count": null,
      "outputs": [
        {
          "output_type": "stream",
          "name": "stdout",
          "text": [
            "3.7.12 (default, Sep 10 2021, 00:21:48) \n",
            "[GCC 7.5.0]\n",
            "utf-8\n",
            "==============================\n",
            "系統平台: linux\n",
            "系統版本細節: sys.version_info(major=3, minor=7, micro=12, releaselevel='final', serial=0)\n",
            "檔案系統編碼: utf-8\n"
          ]
        }
      ]
    },
    {
      "cell_type": "markdown",
      "metadata": {
        "id": "R6tgL4C_6RTv"
      },
      "source": [
        "# **匯入numpy模組**"
      ]
    },
    {
      "cell_type": "markdown",
      "metadata": {
        "id": "m0Fd1CRU7pJO"
      },
      "source": [
        "<b>匯入numpy模組，依照網路上官方文件，輸出圓周率與尤拉數。"
      ]
    },
    {
      "cell_type": "code",
      "metadata": {
        "colab": {
          "base_uri": "https://localhost:8080/"
        },
        "id": "q9mombus8AX2",
        "outputId": "e8bc400d-2fa8-436f-bc17-4d5ece1dc6c7"
      },
      "source": [
        "import numpy as np\n",
        "print(\"圓周率:\",np.pi)\n",
        "print(\"尤拉數:\",np.e)"
      ],
      "execution_count": null,
      "outputs": [
        {
          "output_type": "stream",
          "name": "stdout",
          "text": [
            "圓周率: 3.141592653589793\n",
            "尤拉數: 2.718281828459045\n"
          ]
        }
      ]
    },
    {
      "cell_type": "markdown",
      "metadata": {
        "id": "NGMlBLhg_B7G"
      },
      "source": [
        "# **匯入datetime模組**"
      ]
    },
    {
      "cell_type": "markdown",
      "metadata": {
        "id": "ocbtZfHk_FZN"
      },
      "source": [
        "匯入datetime模組，輸出當下時間（now()），當下時間的時區（tzinfo），當下時間(年,月,日)（year, month, day），當下時間(時,分,秒,微秒) （hour, minute, second,\n",
        "microsecond）。"
      ]
    },
    {
      "cell_type": "code",
      "metadata": {
        "id": "B0EIlf1O_Jcr",
        "colab": {
          "base_uri": "https://localhost:8080/"
        },
        "outputId": "b40df5e9-c824-4b46-dec0-afed7198e0f9"
      },
      "source": [
        "import datetime\n",
        "today = datetime.datetime.today()\n",
        "print(today.year, today.month, today.day)\n",
        "print(\"=====================================\")\n",
        "now = datetime.datetime.now()\n",
        "print(\"當下時間:\",now)\n",
        "print(\"當下時間的時區:\",now.tzinfo)\n",
        "print(\"當下時間(年,月,日):\", now.year, now.month, now.day)\n",
        "print(\"當下時間(時,分,秒,微秒):\", now.hour, now.minute, now.second, now.microsecond)"
      ],
      "execution_count": null,
      "outputs": [
        {
          "output_type": "stream",
          "name": "stdout",
          "text": [
            "2021 11 2\n",
            "=====================================\n",
            "當下時間: 2021-11-02 07:01:11.303393\n",
            "當下時間的時區: None\n",
            "當下時間(年,月,日): 2021 11 2\n",
            "當下時間(時,分,秒,微秒): 7 1 11 303393\n"
          ]
        }
      ]
    },
    {
      "cell_type": "markdown",
      "metadata": {
        "id": "xGwL6ZLCmZ0K"
      },
      "source": [
        "# **匯入datetime, pytz模組**"
      ]
    },
    {
      "cell_type": "markdown",
      "metadata": {
        "id": "8iaJEmL6nA0j"
      },
      "source": [
        "匯入datetime, pytz模組，以格林威治標準時間設定當下時間(pytz.utc)，並呼叫strftime()函數，搭配格式\"%Y-%m-%d %H:%M:%S %Z%z\"輸出；將該時間轉換成相對應的太平洋時間，以相同格式輸出astimezone(pytz.timezone('US/Pacific'));將該時間轉換成相對應的柏林時間，以相同格式輸出astimezone(pytz.timezone('Europe/Berlin'))。\n"
      ]
    },
    {
      "cell_type": "markdown",
      "metadata": {
        "id": "QITeNps7sMOJ"
      },
      "source": [
        "<b>格林威治標準時間設定當下時間"
      ]
    },
    {
      "cell_type": "code",
      "metadata": {
        "colab": {
          "base_uri": "https://localhost:8080/"
        },
        "id": "z-SyHwgYm0da",
        "outputId": "06c42e61-adb0-4b55-817c-7ee9f16dd928"
      },
      "source": [
        "import datetime, pytz\n",
        "fmt = \"%Y-%m-%d %H:%M:%S %Z%z\"\n",
        "t1 = datetime.datetime.now(pytz.utc)\n",
        "# Current time in UTC\n",
        "print(t1)\n",
        "print(t1.strftime(fmt))"
      ],
      "execution_count": null,
      "outputs": [
        {
          "output_type": "stream",
          "name": "stdout",
          "text": [
            "2021-11-01 22:25:28.034262+00:00\n",
            "2021-11-01 22:25:28 UTC+0000\n"
          ]
        }
      ]
    },
    {
      "cell_type": "markdown",
      "metadata": {
        "id": "ILuKDhzKsV4w"
      },
      "source": [
        "<b>轉換成相對應的太平洋時間"
      ]
    },
    {
      "cell_type": "code",
      "metadata": {
        "colab": {
          "base_uri": "https://localhost:8080/"
        },
        "id": "UeLFoztHm5Cx",
        "outputId": "8610c392-c378-459a-b51d-54b7145a05d7"
      },
      "source": [
        "# Convert to US/Pacific time zone\n",
        "now_pacific = t1.astimezone(pytz.timezone('US/Pacific'))\n",
        "print(now_pacific)\n",
        "print (now_pacific.strftime(fmt))"
      ],
      "execution_count": null,
      "outputs": [
        {
          "output_type": "stream",
          "name": "stdout",
          "text": [
            "2021-11-01 15:25:28.034262-07:00\n",
            "2021-11-01 15:25:28 PDT-0700\n"
          ]
        }
      ]
    },
    {
      "cell_type": "markdown",
      "metadata": {
        "id": "Kklv3uw-shYn"
      },
      "source": [
        "<b> 轉換成相對應的柏林時間"
      ]
    },
    {
      "cell_type": "code",
      "metadata": {
        "colab": {
          "base_uri": "https://localhost:8080/"
        },
        "id": "8rIyz0NwnHqi",
        "outputId": "eb6576e5-5bda-4f65-e7ea-177ed16751b1"
      },
      "source": [
        "# Convert to Europe/Berlin time zone\n",
        "now_berlin = t1.astimezone(pytz.timezone('Europe/Berlin'))\n",
        "print(now_berlin)\n",
        "print (now_berlin.strftime(fmt))"
      ],
      "execution_count": null,
      "outputs": [
        {
          "output_type": "stream",
          "name": "stdout",
          "text": [
            "2021-11-01 23:25:28.034262+01:00\n",
            "2021-11-01 23:25:28 CET+0100\n"
          ]
        }
      ]
    },
    {
      "cell_type": "markdown",
      "metadata": {
        "id": "OxQ-pGhKoeDi"
      },
      "source": [
        "# **匯入random模組**"
      ]
    },
    {
      "cell_type": "markdown",
      "metadata": {
        "id": "chaRQg61rNMo"
      },
      "source": [
        "<b>匯入random模組，輸出三個0~20間的亂數(不含20)"
      ]
    },
    {
      "cell_type": "code",
      "metadata": {
        "id": "jF-EC4ruovX5"
      },
      "source": [
        "import random\n",
        "print(random.randint(0,19))  #可產生0~19 的亂數(含0,19)\n",
        "print(random.randint(0,19))\n",
        "print(random.randint(0,19))"
      ],
      "execution_count": null,
      "outputs": []
    },
    {
      "cell_type": "markdown",
      "metadata": {
        "id": "yQVCbIwko18B"
      },
      "source": [
        "<b>匯入random模組，輸出三個0.0~2.0間的亂數(小數點下一位, 不含2.0)。"
      ]
    },
    {
      "cell_type": "code",
      "metadata": {
        "id": "ZHqDTOl4rLnp"
      },
      "source": [
        "import random\n",
        "print(random.randint(0,19)/10)\n",
        "print(random.randint(0,19)/10)\n",
        "print(random.randint(0,19)/10)"
      ],
      "execution_count": null,
      "outputs": []
    },
    {
      "cell_type": "markdown",
      "metadata": {
        "id": "IU_rrrdAsy0t"
      },
      "source": [
        "<b>匯入random模組，輸出介於0與10之間四個3的倍數亂數"
      ]
    },
    {
      "cell_type": "code",
      "metadata": {
        "id": "x8kL-WGMtGm-"
      },
      "source": [
        "import random as rd\n",
        "print(rd.randrange(0,10,3))\n",
        "print(rd.randrange(0,10,3))\n",
        "print(rd.randrange(0,10,3))\n",
        "print(rd.randrange(0,10,3))"
      ],
      "execution_count": null,
      "outputs": []
    },
    {
      "cell_type": "markdown",
      "metadata": {
        "id": "4Hn6DMbKtmXu"
      },
      "source": [
        "<b> 匯入random模組，輸出介於0與100之間一個3的倍數亂數，一個5的倍數亂數，一個7的倍數亂數，一個9的倍數亂數 。"
      ]
    },
    {
      "cell_type": "code",
      "metadata": {
        "colab": {
          "base_uri": "https://localhost:8080/"
        },
        "id": "Nr1q2AV-t2N4",
        "outputId": "10d485c2-85ce-4ea6-c374-f9f7c038beb4"
      },
      "source": [
        "import random as rd\n",
        "print(rd.randrange(0,100,3))  #3的倍數亂數\n",
        "print(rd.randrange(0,100,5))\n",
        "print(rd.randrange(0,100,7))\n",
        "print(rd.randrange(0,100,9))"
      ],
      "execution_count": null,
      "outputs": [
        {
          "output_type": "stream",
          "name": "stdout",
          "text": [
            "48\n",
            "45\n",
            "98\n",
            "27\n"
          ]
        }
      ]
    }
  ]
}