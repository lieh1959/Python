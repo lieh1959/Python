{
  "nbformat": 4,
  "nbformat_minor": 0,
  "metadata": {
    "colab": {
      "name": "控制結構-迴圈(loop)",
      "provenance": [],
      "collapsed_sections": [],
      "toc_visible": true
    },
    "kernelspec": {
      "name": "python3",
      "display_name": "Python 3"
    },
    "language_info": {
      "name": "python"
    }
  },
  "cells": [
    {
      "cell_type": "markdown",
      "metadata": {
        "id": "lVXyGRVItETB"
      },
      "source": [
        "# **控制結構-迴圈**\n"
      ]
    },
    {
      "cell_type": "markdown",
      "metadata": {
        "id": "DrvjLU-L2AVR"
      },
      "source": [
        "## <b><mark>問題1</mark>"
      ]
    },
    {
      "cell_type": "markdown",
      "metadata": {
        "id": "eZs68e5xtVGx"
      },
      "source": [
        "<b>請使用迴圈敍述撰寫一程式，讓使用者輸入兩個正整數a、b(a<b)，利用迴圈計算從a 開始連續加到b，計算其總和。例如:輸入a=1、b=100，則輸出結果為5050(1+2+...100=5050)\n",
        "\n",
        "輸入: 兩個正整數 (a、b，且 a<b) <br>\n",
        "輸出: 計算從a 開始連加到b的總和\n"
      ]
    },
    {
      "cell_type": "code",
      "metadata": {
        "colab": {
          "base_uri": "https://localhost:8080/"
        },
        "id": "mPO9z7WL2W-x",
        "outputId": "d70c5674-935a-46d1-9868-c9e34bab35bf"
      },
      "source": [
        "# 簡易迴圈 ,例如:輸入a=1、b=100，則輸出結果為5050(1+2+...100=5050)\n",
        "a=int(input(\"輸入a:\"))\n",
        "b=int(input(\"輸入b:\"))\n",
        "ans=0   #先將答案設為0\n",
        "\n",
        "for i in range(a,b+1):\n",
        "  ans+=i\n",
        "print(\"答案為:\",ans)"
      ],
      "execution_count": null,
      "outputs": [
        {
          "output_type": "stream",
          "name": "stdout",
          "text": [
            "輸入a:1\n",
            "輸入b:100\n",
            "答案為: 5050\n"
          ]
        }
      ]
    },
    {
      "cell_type": "code",
      "metadata": {
        "colab": {
          "base_uri": "https://localhost:8080/"
        },
        "id": "XcN6O1lSl-ba",
        "outputId": "27985c25-2adb-4a1e-d387-f66c144c119e"
      },
      "source": [
        "# 輸入兩個數\n",
        "a= int(input(\"輸入a:\"))\n",
        "b= int(input(\"輸入b:\"))\n",
        "ans=0\n",
        "# \n",
        "for i in range(a,b+1):\n",
        "  ans+=i\n",
        "print(\"ans=\",ans)\n"
      ],
      "execution_count": null,
      "outputs": [
        {
          "output_type": "stream",
          "name": "stdout",
          "text": [
            "輸入a:1\n",
            "輸入b:10\n",
            "ans= 55\n"
          ]
        }
      ]
    },
    {
      "cell_type": "markdown",
      "metadata": {
        "id": "ZUSigD8L2M4B"
      },
      "source": [
        "## <b>問題2"
      ]
    },
    {
      "cell_type": "markdown",
      "metadata": {
        "id": "c0NMTPLhxWRq"
      },
      "source": [
        "<b>\n",
        "請使用迴圈敍述撰寫一程式，讓使用者輸入一個正整數(<100)，然後以三角形的方式依序輸出此數的階乘結果\n",
        "\n",
        "輸入: 一個正整數 (<100) <br>\n",
        "輸出: 以三角形的方式依序輸出此數的階乘結果\n"
      ]
    },
    {
      "cell_type": "code",
      "metadata": {
        "id": "xF4kO3kMfaz2",
        "colab": {
          "base_uri": "https://localhost:8080/"
        },
        "outputId": "e308e527-59f2-4c95-e25c-d97380469f19"
      },
      "source": [
        "# 巢狀迴圈\n",
        "num=eval(input(\"輸入一小於100正整數:\"))\n",
        "for i in range(1,num+1):\n",
        "  for j in range(1,i+1):\n",
        "    print(\"%4d\"%(i+j),end='')\n",
        "  print()"
      ],
      "execution_count": null,
      "outputs": [
        {
          "output_type": "stream",
          "name": "stdout",
          "text": [
            "輸入一小於100正整數:10\n",
            "   2\n",
            "   3   4\n",
            "   4   5   6\n",
            "   5   6   7   8\n",
            "   6   7   8   9  10\n",
            "   7   8   9  10  11  12\n",
            "   8   9  10  11  12  13  14\n",
            "   9  10  11  12  13  14  15  16\n",
            "  10  11  12  13  14  15  16  17  18\n",
            "  11  12  13  14  15  16  17  18  19  20\n"
          ]
        }
      ]
    },
    {
      "cell_type": "markdown",
      "metadata": {
        "id": "0foZ-n4C2VPo"
      },
      "source": [
        "##<b>問題3:"
      ]
    },
    {
      "cell_type": "markdown",
      "metadata": {
        "id": "nQWA0dtlbFMk"
      },
      "source": [
        "<mark><b>請使用迴圈敍述撰寫一程式，讓使用者輸入一個正整數a，利用迴圈計算從1到 a之間，所有 5之倍數數字總和 </mark>\n",
        "\n",
        "輸入: 一個正整數 <br>\n",
        "輸出: 所有5之倍數數字總和"
      ]
    },
    {
      "cell_type": "code",
      "metadata": {
        "colab": {
          "base_uri": "https://localhost:8080/"
        },
        "id": "k5TJGLm9jRs_",
        "outputId": "1e1c334d-4bac-4427-f06d-8f7dd27491a7"
      },
      "source": [
        "# 迴圈倍數總和\n",
        "num=eval(input(\"輸入一正整數:\"))\n",
        "ans=0;    # ans歸0\n",
        "for i in range(1,num+1):\n",
        "  if i%5==0:\n",
        "    ans+=i\n",
        "print(\"ans=\",ans)"
      ],
      "execution_count": null,
      "outputs": [
        {
          "output_type": "stream",
          "name": "stdout",
          "text": [
            "輸入一正整數:100\n",
            "ans= 1050\n"
          ]
        }
      ]
    },
    {
      "cell_type": "markdown",
      "metadata": {
        "id": "w1Y8KwERwNHN"
      },
      "source": [
        "## <b>問題4"
      ]
    },
    {
      "cell_type": "markdown",
      "metadata": {
        "id": "szvgQWCJykrF"
      },
      "source": [
        "<b>(1)請使用迴圈敍述撰寫一程式，要求使用者輸入一個正整數n (n<10)，顯示 n*n乘法表 <br>\n",
        "(2) 每項運算式需進行格式化排列整齊，每個運算元輸出的欄寬為2，而每項乘積輸出的欄寬為4，皆靠左對齊且不跳行。輸出一列後要跳行 <br> \n",
        "\n",
        "輸入: 一個正整數 n(<10)  <br>\n",
        "輸出: 格式化的 n*n乘法表\n",
        "\n"
      ]
    },
    {
      "cell_type": "code",
      "metadata": {
        "id": "2SvFKD4dnFCX",
        "colab": {
          "base_uri": "https://localhost:8080/"
        },
        "outputId": "7172837e-2a36-4723-a062-0d3e9ded3f07"
      },
      "source": [
        "# n*n乘法表\n",
        "n= eval(input(\"請輸入一正整數:\"))\n",
        "for i in range(1,n+1):\n",
        "  for j in range(1,n+1):\n",
        "    print(\"%-2d* %-2d=%-4d\"%(j,i,j*i),end='')\n",
        "  print()"
      ],
      "execution_count": null,
      "outputs": [
        {
          "output_type": "stream",
          "name": "stdout",
          "text": [
            "請輸入一正整數:9\n",
            "1 * 1 =1   2 * 1 =2   3 * 1 =3   4 * 1 =4   5 * 1 =5   6 * 1 =6   7 * 1 =7   8 * 1 =8   9 * 1 =9   \n",
            "1 * 2 =2   2 * 2 =4   3 * 2 =6   4 * 2 =8   5 * 2 =10  6 * 2 =12  7 * 2 =14  8 * 2 =16  9 * 2 =18  \n",
            "1 * 3 =3   2 * 3 =6   3 * 3 =9   4 * 3 =12  5 * 3 =15  6 * 3 =18  7 * 3 =21  8 * 3 =24  9 * 3 =27  \n",
            "1 * 4 =4   2 * 4 =8   3 * 4 =12  4 * 4 =16  5 * 4 =20  6 * 4 =24  7 * 4 =28  8 * 4 =32  9 * 4 =36  \n",
            "1 * 5 =5   2 * 5 =10  3 * 5 =15  4 * 5 =20  5 * 5 =25  6 * 5 =30  7 * 5 =35  8 * 5 =40  9 * 5 =45  \n",
            "1 * 6 =6   2 * 6 =12  3 * 6 =18  4 * 6 =24  5 * 6 =30  6 * 6 =36  7 * 6 =42  8 * 6 =48  9 * 6 =54  \n",
            "1 * 7 =7   2 * 7 =14  3 * 7 =21  4 * 7 =28  5 * 7 =35  6 * 7 =42  7 * 7 =49  8 * 7 =56  9 * 7 =63  \n",
            "1 * 8 =8   2 * 8 =16  3 * 8 =24  4 * 8 =32  5 * 8 =40  6 * 8 =48  7 * 8 =56  8 * 8 =64  9 * 8 =72  \n",
            "1 * 9 =9   2 * 9 =18  3 * 9 =27  4 * 9 =36  5 * 9 =45  6 * 9 =54  7 * 9 =63  8 * 9 =72  9 * 9 =81  \n"
          ]
        }
      ]
    },
    {
      "cell_type": "markdown",
      "metadata": {
        "id": "C_TYN-AhyaZF"
      },
      "source": [
        "## <b>問題5"
      ]
    },
    {
      "cell_type": "markdown",
      "metadata": {
        "id": "7YgbkiOuwWId"
      },
      "source": [
        "<b>請使用迴圈敍述撰寫一程式，要求使用者輸入一個正整數，將此數值以反轉順序輸出 <br>\n",
        "\n",
        "本題請用 while 迴圈練習 <br>\n",
        "輸入: 一個正整數  <br>\n",
        "輸出: 將此數值以反轉順序輸出 <br>"
      ]
    },
    {
      "cell_type": "code",
      "metadata": {
        "id": "epaUpOit00ZU",
        "colab": {
          "base_uri": "https://localhost:8080/"
        },
        "outputId": "e8c51fd7-b757-4058-e3dd-bf3ce9fc1cde"
      },
      "source": [
        " # 利用輾轉相除法，數值以反轉順序輸出\n",
        " a=eval(input(\"請輸入一正整數:\"))\n",
        " while a!=0:\n",
        "   print(a%10,end='')\n",
        "   a//=10"
      ],
      "execution_count": null,
      "outputs": [
        {
          "output_type": "stream",
          "name": "stdout",
          "text": [
            "請輸入一正整數:63254\n",
            "45236"
          ]
        }
      ]
    },
    {
      "cell_type": "markdown",
      "metadata": {
        "id": "fQbEc97wgxuE"
      },
      "source": [
        "## 問題6"
      ]
    },
    {
      "cell_type": "markdown",
      "metadata": {
        "id": "IVuhcIvtg77M"
      },
      "source": [
        "<mark>準備一個包含至少10筆資料的檔案(存在你的雲端硬碟)data03.txt，其中包含三個以逗點分隔，代表三角形邊長的浮點數。<br>\n",
        "請讀取 data03.txt 逐一處理每筆紀錄，輸出這筆紀錄代表什麼三角形。<br> </mark>\n",
        "\n",
        "提示: 先要找出最大、次大、最小的邊長 <br>\n",
        "\n",
        "\n",
        "\n"
      ]
    },
    {
      "cell_type": "code",
      "metadata": {
        "colab": {
          "base_uri": "https://localhost:8080/"
        },
        "id": "xLdVzE2C47B0",
        "outputId": "14af779e-6fd7-4920-99c3-7deda5b93266"
      },
      "source": [
        "# 資料檔可以存在Google Drive中, 放在Python下的tmp\n",
        "#\n",
        "import math\n",
        "BasePath = '/content/drive/MyDrive/Python/'\n",
        "fileName1=BasePath+'tmp/data03.txt'\n",
        "with open(fileName1, \"r\") as f:\n",
        "  for s in f:\n",
        "    dv = s.split(',')\n",
        "    # e1, e2, e3為三角形三邊\n",
        "    e1, e2, e3 = float(dv[0]), float(dv[1]), float(dv[2])\n",
        "    if e1+e2 <= e3:\n",
        "      print(e1, e2, e3,'不是三角形')\n",
        "    elif e1==e2 and e2==e3:\n",
        "      print(e1, e2, e3,'正三角形')\n",
        "    elif e1==e2 or e2==e3:\n",
        "      if e3==math.sqrt(e1*e1+e2*e2):\n",
        "        print(e1, e2, e3,'等腰直角三角形')\n",
        "      elif e3>math.sqrt(e1*e1+e2*e2):\n",
        "         print(e1, e2, e3,'等腰鈍角三角形')\n",
        "      else:\n",
        "        print(e1, e2, e3,'等腰銳角三角形')\n",
        "    elif e3==math.sqrt(e1*e1+e2*e2):\n",
        "       print(e1, e2, e3,'直角三角形')\n",
        "    elif e3>math.sqrt(e1*e1+e2*e2):\n",
        "       print(e1, e2, e3,'鈍角三角形')\n",
        "    else:\n",
        "      print(e1, e2, e3,'銳角三角形')"
      ],
      "execution_count": null,
      "outputs": [
        {
          "output_type": "stream",
          "text": [
            "7.5 1.9 6.2 銳角三角形\n",
            "62.0 15.0 22.0 銳角三角形\n",
            "8.1 17.2 9.0 銳角三角形\n",
            "3.0 5.0 4.0 銳角三角形\n",
            "6.6 2.0 6.6 銳角三角形\n",
            "2.0 2.0 2.0 正三角形\n",
            "4.6 1.59 1.59 等腰銳角三角形\n"
          ],
          "name": "stdout"
        }
      ]
    }
  ]
}