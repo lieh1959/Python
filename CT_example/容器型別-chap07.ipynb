{
  "nbformat": 4,
  "nbformat_minor": 0,
  "metadata": {
    "colab": {
      "name": "chap07",
      "provenance": [],
      "collapsed_sections": [],
      "toc_visible": true
    },
    "kernelspec": {
      "name": "python3",
      "display_name": "Python 3"
    },
    "language_info": {
      "name": "python"
    }
  },
  "cells": [
    {
      "cell_type": "markdown",
      "metadata": {
        "id": "-YSITI_5auWv"
      },
      "source": [
        "<b><font color = blue size =6> 容器型別 </b>\n",
        "---"
      ]
    },
    {
      "cell_type": "markdown",
      "metadata": {
        "id": "SvmdNtFRAxE7"
      },
      "source": [
        "# **串列與常數串列**"
      ]
    },
    {
      "cell_type": "code",
      "metadata": {
        "id": "Y-ZR_TftA39Q"
      },
      "source": [
        "# 前周早餐清單\n",
        "前周早餐清單 = ['蛋餅', '三明治', '蛋餅', '麥當勞滿福堡', '飯糰', '蛋餅', '麥當勞滿福堡']\n",
        "# 前周運動紀錄\n",
        "前周運動紀錄 = ['快走', '慢跑', '游泳', '快走', '慢跑', '慢跑', '騎車']\n",
        "# 本周早餐清單\n",
        "本周早餐清單 = ['蛋餅', '燒餅夾蛋', '蛋餅', '麥當勞滿福堡', '飯糰', '蛋餅', '麥當勞滿福堡']\n",
        "# 本周運動紀錄\n",
        "本周運動紀錄 = ['快走', '慢跑', '騎車', '快走', '慢跑', '慢跑', '騎車']"
      ],
      "execution_count": null,
      "outputs": []
    },
    {
      "cell_type": "markdown",
      "metadata": {
        "id": "VUPwqDf7_4mx"
      },
      "source": [
        "##產生串列##"
      ]
    },
    {
      "cell_type": "code",
      "metadata": {
        "colab": {
          "base_uri": "https://localhost:8080/"
        },
        "id": "LNkeXfnKIruP",
        "outputId": "545560b9-d127-4386-b1f3-33802a5a97d9"
      },
      "source": [
        "lst1, lst2, lst3 = [], [1, 2, 'hello', 3], list(range(5))\n",
        "print(lst1, lst2, lst3, sep='\\n')"
      ],
      "execution_count": null,
      "outputs": [
        {
          "output_type": "stream",
          "name": "stdout",
          "text": [
            "[]\n",
            "[1, 2, 'hello', 3]\n",
            "[0, 1, 2, 3, 4]\n"
          ]
        }
      ]
    },
    {
      "cell_type": "markdown",
      "metadata": {
        "id": "BXwaLmp-ADgJ"
      },
      "source": [
        "##串列相關函數##"
      ]
    },
    {
      "cell_type": "code",
      "metadata": {
        "colab": {
          "base_uri": "https://localhost:8080/"
        },
        "id": "RUrNU_d1A59I",
        "outputId": "37e61fcf-5d4f-4c03-a788-c768457788db"
      },
      "source": [
        "監測時間 = list(range(24)) # 24小時血壓監測\n",
        "高血壓=[88, 84, 80, 78, 75, 70, 88, 95, 112, 125, 133, 140, \n",
        "       136, 132, 128, 131, 126, 120, 115, 128, 119, 114, 111, 96]\n",
        "低血壓=[69, 68, 66, 67, 68, 64, 68, 75,  88,  95,  91,  96,\n",
        "       88,  84,  81,  87,  83,  80,  78,  82,  74,  71,  68, 67]\n",
        "print(min(高血壓), max(高血壓))  # List functions\n",
        "print(len(監測時間),len(高血壓),len(低血壓))\n",
        "HS, LS = sum(高血壓), sum(低血壓)\n",
        "print(HS, LS)\n",
        "print(\"平均高血壓{:.1f}, 平均低血壓{:.1f}\".format(HS/len(高血壓), LS/len(低血壓)))"
      ],
      "execution_count": null,
      "outputs": [
        {
          "output_type": "stream",
          "name": "stdout",
          "text": [
            "70 140\n",
            "24 24 24\n",
            "2624 1858\n",
            "平均高血壓109.3, 平均低血壓77.4\n"
          ]
        }
      ]
    },
    {
      "cell_type": "code",
      "metadata": {
        "colab": {
          "base_uri": "https://localhost:8080/"
        },
        "id": "ePtqUraRBFog",
        "outputId": "7c891e2b-995f-47fb-91e3-e881f58ed4af"
      },
      "source": [
        "for i in reversed(高血壓):\n",
        "  print(i, end=' ')\n",
        "print()\n",
        "print(sorted(高血壓))\n",
        "print(sorted(高血壓, reverse = True))"
      ],
      "execution_count": null,
      "outputs": [
        {
          "output_type": "stream",
          "text": [
            "96 111 114 119 128 115 120 126 131 128 132 136 140 133 125 112 95 88 70 75 78 80 84 88 \n",
            "[70, 75, 78, 80, 84, 88, 88, 95, 96, 111, 112, 114, 115, 119, 120, 125, 126, 128, 128, 131, 132, 133, 136, 140]\n",
            "[140, 136, 133, 132, 131, 128, 128, 126, 125, 120, 119, 115, 114, 112, 111, 96, 95, 88, 88, 84, 80, 78, 75, 70]\n"
          ],
          "name": "stdout"
        }
      ]
    },
    {
      "cell_type": "markdown",
      "metadata": {
        "id": "xcfkPpwMAPr6"
      },
      "source": [
        "##存取串列元素##"
      ]
    },
    {
      "cell_type": "markdown",
      "metadata": {
        "id": "rG2L21aUJUGV"
      },
      "source": [
        "**存取串列元素**"
      ]
    },
    {
      "cell_type": "code",
      "metadata": {
        "colab": {
          "base_uri": "https://localhost:8080/"
        },
        "id": "NNQFudc1JWZF",
        "outputId": "62234622-8cb5-4799-840d-e10fa2b345dd"
      },
      "source": [
        "print(前周早餐清單[0], 前周早餐清單[1])\n",
        "print(本周運動紀錄[0], 本周運動紀錄[2])\n",
        "前周早餐清單[0]='沒吃'\n",
        "print(前周早餐清單)"
      ],
      "execution_count": null,
      "outputs": [
        {
          "output_type": "stream",
          "text": [
            "蛋餅 三明治\n",
            "快走 騎車\n",
            "['沒吃', '三明治', '蛋餅', '麥當勞滿福堡', '飯糰', '蛋餅', '麥當勞滿福堡']\n"
          ],
          "name": "stdout"
        }
      ]
    },
    {
      "cell_type": "code",
      "metadata": {
        "id": "AXJoVXp5JcVg",
        "colab": {
          "base_uri": "https://localhost:8080/"
        },
        "outputId": "b1734fbf-50c1-4c50-ad82-43048b3f483e"
      },
      "source": [
        "format_str = '{:02d}點監測. 高血壓:{:3d} 低血壓:{:3d}'\n",
        "for idx in 監測時間:\n",
        "  print(format_str.format(idx,高血壓[idx],低血壓[idx]))"
      ],
      "execution_count": null,
      "outputs": [
        {
          "output_type": "stream",
          "name": "stdout",
          "text": [
            "00點監測. 高血壓: 88 低血壓: 69\n",
            "01點監測. 高血壓: 84 低血壓: 68\n",
            "02點監測. 高血壓: 80 低血壓: 66\n",
            "03點監測. 高血壓: 78 低血壓: 67\n",
            "04點監測. 高血壓: 75 低血壓: 68\n",
            "05點監測. 高血壓: 70 低血壓: 64\n",
            "06點監測. 高血壓: 88 低血壓: 68\n",
            "07點監測. 高血壓: 95 低血壓: 75\n",
            "08點監測. 高血壓:112 低血壓: 88\n",
            "09點監測. 高血壓:125 低血壓: 95\n",
            "10點監測. 高血壓:133 低血壓: 91\n",
            "11點監測. 高血壓:140 低血壓: 96\n",
            "12點監測. 高血壓:136 低血壓: 88\n",
            "13點監測. 高血壓:132 低血壓: 84\n",
            "14點監測. 高血壓:128 低血壓: 81\n",
            "15點監測. 高血壓:131 低血壓: 87\n",
            "16點監測. 高血壓:126 低血壓: 83\n",
            "17點監測. 高血壓:120 低血壓: 80\n",
            "18點監測. 高血壓:115 低血壓: 78\n",
            "19點監測. 高血壓:128 低血壓: 82\n",
            "20點監測. 高血壓:119 低血壓: 74\n",
            "21點監測. 高血壓:114 低血壓: 71\n",
            "22點監測. 高血壓:111 低血壓: 68\n",
            "23點監測. 高血壓: 96 低血壓: 67\n"
          ]
        }
      ]
    },
    {
      "cell_type": "code",
      "metadata": {
        "colab": {
          "base_uri": "https://localhost:8080/"
        },
        "id": "zS7QHWYHJfuc",
        "outputId": "a7a79903-3c44-4e61-a83a-c5e659974de8"
      },
      "source": [
        "a, lst1 = 5, [1, 2, 3, 2, 4, 5, 2]\n",
        "print(len(lst1), ':', lst1)\n",
        "print(3 in lst1, a not in lst1)"
      ],
      "execution_count": null,
      "outputs": [
        {
          "output_type": "stream",
          "text": [
            "7 : [1, 2, 3, 2, 4, 5, 2]\n",
            "True False\n"
          ],
          "name": "stdout"
        }
      ]
    },
    {
      "cell_type": "markdown",
      "metadata": {
        "id": "8lQ_U9F0JyqV"
      },
      "source": [
        "##新增與刪除串列元素##\n",
        "\n",
        "<font color=red>勘誤：課本【圖7-9】輸出第一列"
      ]
    },
    {
      "cell_type": "code",
      "metadata": {
        "colab": {
          "base_uri": "https://localhost:8080/"
        },
        "id": "lPBbqSoNJ0yd",
        "outputId": "006e3b93-c51d-4889-f26f-84bd14797534"
      },
      "source": [
        "print(本周運動紀錄)\n",
        "del 本周運動紀錄[6]\n",
        "print(本周運動紀錄)\n",
        "本周運動紀錄.append('快走')\n",
        "print(本周運動紀錄)\n",
        "print(本周運動紀錄.count('快走'))"
      ],
      "execution_count": null,
      "outputs": [
        {
          "output_type": "stream",
          "name": "stdout",
          "text": [
            "['快走', '慢跑', '騎車', '快走', '慢跑', '慢跑', '騎車']\n",
            "['快走', '慢跑', '騎車', '快走', '慢跑', '慢跑']\n",
            "['快走', '慢跑', '騎車', '快走', '慢跑', '慢跑', '快走']\n",
            "3\n"
          ]
        }
      ]
    },
    {
      "cell_type": "markdown",
      "metadata": {
        "id": "aDbj7blKJ5q9"
      },
      "source": [
        "##切片運算###\n",
        "\n",
        "<font color=red>勘誤：課本【圖7-10】輸出第一列"
      ]
    },
    {
      "cell_type": "code",
      "metadata": {
        "colab": {
          "base_uri": "https://localhost:8080/"
        },
        "id": "foQs5ZB1J8bH",
        "outputId": "e57c04b3-1467-4c86-f736-33ce619cc9b9"
      },
      "source": [
        "print(本周運動紀錄)\n",
        "print(本周運動紀錄[:5])\n",
        "print(本周運動紀錄[5:])"
      ],
      "execution_count": null,
      "outputs": [
        {
          "output_type": "stream",
          "text": [
            "['快走', '慢跑', '騎車', '快走', '慢跑', '慢跑', '快走']\n",
            "['快走', '慢跑', '騎車', '快走', '慢跑']\n",
            "['慢跑', '快走']\n"
          ],
          "name": "stdout"
        }
      ]
    },
    {
      "cell_type": "code",
      "metadata": {
        "id": "p_u58qMqKQyM"
      },
      "source": [
        "# 前周早餐清單\n",
        "前周早餐清單 = ['蛋餅', '三明治', '蛋餅', '麥當勞滿福堡', '飯糰', '蛋餅', '麥當勞滿福堡']\n",
        "# 前周運動紀錄\n",
        "前周運動紀錄 = ['快走', '慢跑', '游泳', '快走', '慢跑', '慢跑', '騎車']\n",
        "# 本周早餐清單\n",
        "本周早餐清單 = ['蛋餅', '燒餅夾蛋', '蛋餅', '麥當勞滿福堡', '飯糰', '蛋餅', '麥當勞滿福堡']\n",
        "# 本周運動紀錄\n",
        "本周運動紀錄 = ['快走', '慢跑', '騎車', '快走', '慢跑', '慢跑', '騎車']"
      ],
      "execution_count": null,
      "outputs": []
    },
    {
      "cell_type": "code",
      "metadata": {
        "colab": {
          "base_uri": "https://localhost:8080/"
        },
        "id": "suAz1S-EKHJV",
        "outputId": "d9bb811a-3ed4-4e09-f643-19d54c7438ff"
      },
      "source": [
        "print(本周運動紀錄)\n",
        "print(本周運動紀錄[::-1])\n",
        "print(本周運動紀錄[6::-1])  #結果和上列相同"
      ],
      "execution_count": null,
      "outputs": [
        {
          "output_type": "stream",
          "name": "stdout",
          "text": [
            "['快走', '慢跑', '騎車', '快走', '慢跑', '慢跑', '騎車']\n",
            "['騎車', '慢跑', '慢跑', '快走', '騎車', '慢跑', '快走']\n",
            "['騎車', '慢跑', '慢跑', '快走', '騎車', '慢跑', '快走']\n"
          ]
        }
      ]
    },
    {
      "cell_type": "markdown",
      "metadata": {
        "id": "MMqy8dCuKaBt"
      },
      "source": [
        "##常數串列##"
      ]
    },
    {
      "cell_type": "code",
      "metadata": {
        "colab": {
          "base_uri": "https://localhost:8080/"
        },
        "id": "bAmfJF4QKb6k",
        "outputId": "280c008b-d574-418f-cfa8-d8853dbfde8e"
      },
      "source": [
        "m_time = tuple(range(24))   #序對(常數串列)\n",
        "print(type(m_time))\n",
        "print(m_time)"
      ],
      "execution_count": null,
      "outputs": [
        {
          "output_type": "stream",
          "text": [
            "<class 'tuple'>\n",
            "(0, 1, 2, 3, 4, 5, 6, 7, 8, 9, 10, 11, 12, 13, 14, 15, 16, 17, 18, 19, 20, 21, 22, 23)\n"
          ],
          "name": "stdout"
        }
      ]
    },
    {
      "cell_type": "code",
      "metadata": {
        "colab": {
          "base_uri": "https://localhost:8080/"
        },
        "id": "6Qux35d5KlqW",
        "outputId": "4dcf8c2b-8ff0-4f00-a140-fd63c6388f13"
      },
      "source": [
        "print(m_time[::2])"
      ],
      "execution_count": null,
      "outputs": [
        {
          "output_type": "stream",
          "text": [
            "(0, 2, 4, 6, 8, 10, 12, 14, 16, 18, 20, 22)\n"
          ],
          "name": "stdout"
        }
      ]
    },
    {
      "cell_type": "code",
      "metadata": {
        "id": "h422FpjTKqDN",
        "colab": {
          "base_uri": "https://localhost:8080/",
          "height": 167
        },
        "outputId": "ba01c5d5-2262-48ec-c8b7-d6b1b23dff48"
      },
      "source": [
        "m_time[1]=3"
      ],
      "execution_count": null,
      "outputs": [
        {
          "output_type": "error",
          "ename": "NameError",
          "evalue": "ignored",
          "traceback": [
            "\u001b[0;31m---------------------------------------------------------------------------\u001b[0m",
            "\u001b[0;31mNameError\u001b[0m                                 Traceback (most recent call last)",
            "\u001b[0;32m<ipython-input-6-462a9a3d1182>\u001b[0m in \u001b[0;36m<module>\u001b[0;34m()\u001b[0m\n\u001b[0;32m----> 1\u001b[0;31m \u001b[0mm_time\u001b[0m\u001b[0;34m[\u001b[0m\u001b[0;36m1\u001b[0m\u001b[0;34m]\u001b[0m\u001b[0;34m=\u001b[0m\u001b[0;36m3\u001b[0m\u001b[0;34m\u001b[0m\u001b[0;34m\u001b[0m\u001b[0m\n\u001b[0m",
            "\u001b[0;31mNameError\u001b[0m: name 'm_time' is not defined"
          ]
        }
      ]
    },
    {
      "cell_type": "markdown",
      "metadata": {
        "id": "28ECdo27GzhZ"
      },
      "source": [
        "#\t**集合**"
      ]
    },
    {
      "cell_type": "markdown",
      "metadata": {
        "id": "zoVX3YqcBBIK"
      },
      "source": [
        "##產生集合##"
      ]
    },
    {
      "cell_type": "code",
      "metadata": {
        "id": "SZ6K8kW3agQB",
        "colab": {
          "base_uri": "https://localhost:8080/"
        },
        "outputId": "2a75af9a-f222-4cbf-98fd-6a298054e8ee"
      },
      "source": [
        "# w05_bf 今年第5周的早餐清單, w06_bf 今年第6周的早餐清單\n",
        "w05_bf = ['蛋餅', '三明治', '蛋餅', '麥當勞滿福堡', '飯糰', '蛋餅', '麥當勞滿福堡']\n",
        "w06_bf = ['蛋餅', '燒餅夾蛋', '蛋餅', '麥當勞滿福堡', '飯糰', '蛋餅', '麥當勞滿福堡']\n",
        "# w05_kinds 今年第5周的早餐種類, w06_kinds 今年第6周的早餐種類\n",
        "w05_bfkinds = set(w05_bf)   # 內建函數set()\n",
        "w06_bfkinds = set(w06_bf)\n",
        "print(w05_bfkinds)\n",
        "print(w06_bfkinds)"
      ],
      "execution_count": null,
      "outputs": [
        {
          "output_type": "stream",
          "name": "stdout",
          "text": [
            "{'飯糰', '蛋餅', '三明治', '麥當勞滿福堡'}\n",
            "{'飯糰', '燒餅夾蛋', '蛋餅', '麥當勞滿福堡'}\n"
          ]
        }
      ]
    },
    {
      "cell_type": "code",
      "metadata": {
        "colab": {
          "base_uri": "https://localhost:8080/"
        },
        "id": "u0chnF6nGj2o",
        "outputId": "57dc9972-cfc7-454e-85d2-f64de8b6c3bc"
      },
      "source": [
        "# w05_ex 今年第5周的運動紀錄, w06_ex 今年第6周的運動紀錄\n",
        "w05_ex = ['快走', '慢跑', '游泳', '快走', '慢跑', '慢跑', '騎車']\n",
        "w06_ex = ['快走', '慢跑', '騎車', '快走', '慢跑', '慢跑', '騎車']\n",
        "# w05_kinds 今年第5周的運動種類, w06_kinds 今年第6周的運動種類\n",
        "w05_exkinds = set(w05_ex)\n",
        "w06_exkinds = set(w06_ex)\n",
        "print(w05_exkinds)\n",
        "print(w06_exkinds)  "
      ],
      "execution_count": null,
      "outputs": [
        {
          "output_type": "stream",
          "name": "stdout",
          "text": [
            "{'游泳', '快走', '騎車', '慢跑'}\n",
            "{'騎車', '快走', '慢跑'}\n"
          ]
        }
      ]
    },
    {
      "cell_type": "markdown",
      "metadata": {
        "id": "0G_H9PtwBZ1o"
      },
      "source": [
        "--- \n",
        "\n",
        "##集合運算##\n",
        "\n",
        "<mark><b>聯集 </mark>"
      ]
    },
    {
      "cell_type": "code",
      "metadata": {
        "id": "Uei8aN3EBYvc",
        "colab": {
          "base_uri": "https://localhost:8080/"
        },
        "outputId": "65661639-c8fe-41df-cec3-365b914e33f6"
      },
      "source": [
        "#第5, 6周做過什麼種類運動?\n",
        "print(\"第5, 6周做過什麼種類運動:\", w05_exkinds|w06_exkinds)\n",
        "# 第5, 6周吃過什麼種類食物?\n",
        "print(\"第5, 6周吃過什麼種類食物:\", w05_bfkinds|w06_bfkinds)"
      ],
      "execution_count": null,
      "outputs": [
        {
          "output_type": "stream",
          "text": [
            "第5, 6周做過什麼種類運動: {'騎車', '游泳', '快走', '慢跑'}\n",
            "第5, 6周吃過什麼種類食物: {'麥當勞滿福堡', '三明治', '燒餅夾蛋', '飯糰', '蛋餅'}\n"
          ],
          "name": "stdout"
        }
      ]
    },
    {
      "cell_type": "markdown",
      "metadata": {
        "id": "4qsWR2m8LMlG"
      },
      "source": [
        "<mark><b>交集  </mark>"
      ]
    },
    {
      "cell_type": "code",
      "metadata": {
        "colab": {
          "base_uri": "https://localhost:8080/"
        },
        "id": "Wzy3ncdNLNCM",
        "outputId": "b7741473-668e-44b3-aab8-efabf20934d1"
      },
      "source": [
        "# 什麼種類運動第5, 6周都有做過?\n",
        "print(\"什麼種類運動第5, 6周都有做過:\", w05_exkinds&w06_exkinds)\n",
        "# 什麼種類食物第5, 6周都有吃過?\n",
        "print(\"什麼種類食物第5, 6周都有吃過:\", w05_bfkinds&w06_bfkinds)"
      ],
      "execution_count": null,
      "outputs": [
        {
          "output_type": "stream",
          "text": [
            "什麼種類運動第5, 6周都有做過: {'快走', '騎車', '慢跑'}\n",
            "什麼種類食物第5, 6周都有吃過: {'飯糰', '蛋餅', '麥當勞滿福堡'}\n"
          ],
          "name": "stdout"
        }
      ]
    },
    {
      "cell_type": "markdown",
      "metadata": {
        "id": "Hr3Vf_vfLQOd"
      },
      "source": [
        "<mark><b>差集  </mark>"
      ]
    },
    {
      "cell_type": "code",
      "metadata": {
        "colab": {
          "base_uri": "https://localhost:8080/"
        },
        "id": "_Yp9LAqWBbtZ",
        "outputId": "af323ee8-0d3f-4e16-a603-53ab61bd0b8a"
      },
      "source": [
        "# 什麼種類食物第5周有吃, 第6周沒吃?\n",
        "print(w05_bfkinds)\n",
        "print(w06_bfkinds)\n",
        "print(\"什麼種類食物第5周有吃, 第6周沒吃:\", w05_bfkinds-w06_bfkinds)\n",
        "# 什麼種類食物第6周有吃, 第5周沒吃?\n",
        "print(\"什麼種類食物第6周有吃, 第5周沒吃:\", w06_bfkinds-w05_bfkinds)"
      ],
      "execution_count": null,
      "outputs": [
        {
          "output_type": "stream",
          "name": "stdout",
          "text": [
            "{'飯糰', '麥當勞滿福堡', '三明治', '蛋餅'}\n",
            "{'飯糰', '燒餅夾蛋', '麥當勞滿福堡', '蛋餅'}\n",
            "什麼種類食物第5周有吃, 第6周沒吃: {'三明治'}\n",
            "什麼種類食物第6周有吃, 第5周沒吃: {'燒餅夾蛋'}\n"
          ]
        }
      ]
    },
    {
      "cell_type": "markdown",
      "metadata": {
        "id": "3E8Br3rKLVlE"
      },
      "source": [
        "##集合比較##\n",
        "\n",
        "<mark>子集合  </mark>"
      ]
    },
    {
      "cell_type": "code",
      "metadata": {
        "colab": {
          "base_uri": "https://localhost:8080/"
        },
        "id": "Dp2oUgbaLaCM",
        "outputId": "3d97d400-0794-4e80-e454-0374edc300bb"
      },
      "source": [
        "print(\"第5周做過什麼運動:\", w05_exkinds)\n",
        "print(\"第6周做過什麼運動:\", w06_exkinds)\n",
        "print(\"第5周做過什麼運動是否第6周都做過:\",w05_exkinds<=w06_exkinds)\n",
        "print(\"第6周做過什麼運動是否第5周都做過:\",w05_exkinds>=w06_exkinds)"
      ],
      "execution_count": null,
      "outputs": [
        {
          "output_type": "stream",
          "text": [
            "第5周做過什麼運動: {'快走', '游泳', '慢跑', '騎車'}\n",
            "第6周做過什麼運動: {'快走', '慢跑', '騎車'}\n",
            "第5周做過什麼運動是否第6周都做過: False\n",
            "第6周做過什麼運動是否第5周都做過: True\n"
          ],
          "name": "stdout"
        }
      ]
    },
    {
      "cell_type": "markdown",
      "metadata": {
        "id": "lRXhgiInBxrS"
      },
      "source": [
        "# **字典**\n",
        "\n"
      ]
    },
    {
      "cell_type": "code",
      "metadata": {
        "id": "aW5jstNrByj4"
      },
      "source": [
        "SpaceX ={\t'Falcon 9':'SpaceX公司的火箭', ' SpaceX Dragon 2':'SpaceX公司的載人太空船'}"
      ],
      "execution_count": null,
      "outputs": []
    },
    {
      "cell_type": "markdown",
      "metadata": {
        "id": "owA_Akb4CLcy"
      },
      "source": [
        "##存取字典內容##"
      ]
    },
    {
      "cell_type": "markdown",
      "metadata": {
        "id": "M_V_CZzrLzz7"
      },
      "source": [
        "---"
      ]
    },
    {
      "cell_type": "code",
      "metadata": {
        "id": "z8D50DncL1Sj",
        "colab": {
          "base_uri": "https://localhost:8080/"
        },
        "outputId": "4a26d1e3-2330-4af7-fce3-cdef7ff12fd9"
      },
      "source": [
        "for i in set(w05_bf): print(i, w05_bf.count(i))\n",
        "print()\n",
        "for i in set(w06_bf): print(i, w06_bf.count(i))"
      ],
      "execution_count": null,
      "outputs": [
        {
          "output_type": "stream",
          "name": "stdout",
          "text": [
            "飯糰 1\n",
            "蛋餅 3\n",
            "三明治 1\n",
            "麥當勞滿福堡 2\n",
            "\n",
            "飯糰 1\n",
            "燒餅夾蛋 1\n",
            "蛋餅 3\n",
            "麥當勞滿福堡 2\n"
          ]
        }
      ]
    },
    {
      "cell_type": "code",
      "metadata": {
        "colab": {
          "base_uri": "https://localhost:8080/"
        },
        "id": "tFz3gdmML-Gy",
        "outputId": "0f444434-68d6-453a-8322-a2538a2e7afc"
      },
      "source": [
        "fd_times = dict()   #空字典物件 fd_times\n",
        "for i in set(w05_bf):\n",
        "  fd_times[i]= w05_bf.count(i)  #算出集合中的物件出現的次數\n",
        "print(fd_times)"
      ],
      "execution_count": null,
      "outputs": [
        {
          "output_type": "stream",
          "name": "stdout",
          "text": [
            "{'飯糰': 1, '蛋餅': 3, '三明治': 1, '麥當勞滿福堡': 2}\n"
          ]
        }
      ]
    },
    {
      "cell_type": "code",
      "metadata": {
        "colab": {
          "base_uri": "https://localhost:8080/"
        },
        "id": "SNV11QGhMLdj",
        "outputId": "dce8403e-2412-4fe4-e1d7-8d1f13a34a58"
      },
      "source": [
        "for i in set(w06_bf):\n",
        "  if i not in fd_times:\n",
        "    fd_times[i]= w06_bf.count(i)  #第六週不在第五週內的要加到字典中\n",
        "  else:\n",
        "    fd_times[i]+= w06_bf.count(i)\n",
        "print(fd_times)"
      ],
      "execution_count": null,
      "outputs": [
        {
          "output_type": "stream",
          "text": [
            "{'飯糰': 2, '三明治': 1, '麥當勞滿福堡': 4, '蛋餅': 6, '燒餅夾蛋': 1}\n"
          ],
          "name": "stdout"
        }
      ]
    },
    {
      "cell_type": "markdown",
      "metadata": {
        "id": "8oAYUUGrB7DJ"
      },
      "source": [
        "# 容器的應用"
      ]
    },
    {
      "cell_type": "markdown",
      "metadata": {
        "id": "oBoo0hVEGjaZ"
      },
      "source": [
        "<b><mark>紙牌遊戲：撲克牌是非常普遍的遊戲，變化的種類也非常的多。可以一個人自己玩，也可以兩個玩家，三個玩家，甚至不限玩家個數的撲克遊戲。有些撲克遊戲用一副牌，有些會用到許多副排，有些用到鬼牌，有些不用。這些遊戲多半會需要洗牌，將紙牌的順序攪亂，然後分給玩家。準備一副沒有鬼牌的撲克牌，洗牌之後分給兩位玩家。</b>"
      ]
    },
    {
      "cell_type": "code",
      "metadata": {
        "id": "INIMdcEeHu-6",
        "colab": {
          "base_uri": "https://localhost:8080/"
        },
        "outputId": "f4849424-a825-4001-a90b-56a2aa647571"
      },
      "source": [
        "import random\n",
        "players, suits_symbols = [], [\"\\u2660\", \"\\u2665\", \"\\u2666\", \"\\u2663\"]\n",
        "deck = list(range(52))\n",
        "print(deck[:5], deck[-5:])\n",
        "random.shuffle(deck)    #shuffle()會對輸人參數(list)進行洗牌\n",
        "print(deck[:10]) "
      ],
      "execution_count": null,
      "outputs": [
        {
          "output_type": "stream",
          "text": [
            "[0, 1, 2, 3, 4] [47, 48, 49, 50, 51]\n",
            "[16, 11, 13, 26, 18, 27, 1, 28, 43, 33]\n"
          ],
          "name": "stdout"
        }
      ]
    },
    {
      "cell_type": "code",
      "metadata": {
        "colab": {
          "base_uri": "https://localhost:8080/"
        },
        "id": "NQeMeEs4Epww",
        "outputId": "74d6c5fa-25a5-48f9-804f-1dfa5aa551cc"
      },
      "source": [
        "for i in range(10):\n",
        "  print(\"{}{:<2d}\".format(suits_symbols[(deck[i])//13], deck[i]%13+1), end=' ')"
      ],
      "execution_count": null,
      "outputs": [
        {
          "output_type": "stream",
          "text": [
            "♥4  ♠12 ♥1  ♦1  ♥6  ♦2  ♠2  ♦3  ♣5  ♦8  "
          ],
          "name": "stdout"
        }
      ]
    },
    {
      "cell_type": "code",
      "metadata": {
        "colab": {
          "base_uri": "https://localhost:8080/"
        },
        "id": "qT8vnFQkNBY2",
        "outputId": "eb29658a-9a66-467c-c61d-4ee3e4a8a122"
      },
      "source": [
        "def print_card(cc):\n",
        "  print(\"{}{:<2d}\".format(suits_symbols[cc//13], cc%13+1), end=' ')\n",
        "\n",
        "players.append(deck[::2])\n",
        "players.append(deck[1::2])\n",
        "for i in players[0][:5]:  print_card(i)\n",
        "print()\n",
        "for i in players[1][:5]:  print_card(i)"
      ],
      "execution_count": null,
      "outputs": [
        {
          "output_type": "stream",
          "text": [
            "♥4  ♥1  ♥6  ♠2  ♣5  \n",
            "♠12 ♦1  ♦2  ♦3  ♦8  "
          ],
          "name": "stdout"
        }
      ]
    }
  ]
}