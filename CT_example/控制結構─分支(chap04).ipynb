{
  "nbformat": 4,
  "nbformat_minor": 0,
  "metadata": {
    "colab": {
      "name": "chap04",
      "provenance": [],
      "collapsed_sections": [],
      "toc_visible": true
    },
    "kernelspec": {
      "name": "python3",
      "display_name": "Python 3"
    },
    "language_info": {
      "name": "python"
    }
  },
  "cells": [
    {
      "cell_type": "markdown",
      "metadata": {
        "id": "-YSITI_5auWv"
      },
      "source": [
        "# **控制結構 ─ 分支**\n"
      ]
    },
    {
      "cell_type": "code",
      "metadata": {
        "id": "GKqiC38oNm69",
        "colab": {
          "base_uri": "https://localhost:8080/"
        },
        "outputId": "5856b1b2-92ab-4738-8585-49ec8b794b49"
      },
      "source": [
        "from google.colab import drive\n",
        "drive.mount('/content/drive')"
      ],
      "execution_count": null,
      "outputs": [
        {
          "output_type": "stream",
          "name": "stdout",
          "text": [
            "Mounted at /content/drive\n"
          ]
        }
      ]
    },
    {
      "cell_type": "markdown",
      "metadata": {
        "id": "ZooCH2B_uLTP"
      },
      "source": [
        "\n",
        "---\n",
        "##**簡單分支**##"
      ]
    },
    {
      "cell_type": "markdown",
      "metadata": {
        "id": "7HIE1ZAFbBrF"
      },
      "source": [
        "<mark>問題：輸入身高(公尺)，體重(公斤)，計算並輸出相對應的BMI。若BMI大於等於35時，請輸出：重度肥胖。"
      ]
    },
    {
      "cell_type": "code",
      "metadata": {
        "colab": {
          "base_uri": "https://localhost:8080/"
        },
        "id": "yRx0cEpYbCP2",
        "outputId": "1644961c-e3a8-4580-9dd3-fb0fcc4104ac"
      },
      "source": [
        "height = float(input(\"輸入身高(公尺): \"))\n",
        "weight = float(input(\"輸入體重(公斤): \"))\n",
        "bmi = weight/(height**2)\n",
        "print(\"BMI為{:10.2f}\".format(bmi))\n",
        "if bmi > 35 :\n",
        "  print(\"重度肥胖\")"
      ],
      "execution_count": null,
      "outputs": [
        {
          "output_type": "stream",
          "text": [
            "輸入身高(公尺): 1.6\n",
            "輸入體重(公斤): 91\n",
            "BMI為     35.55\n",
            "重度肥胖\n"
          ],
          "name": "stdout"
        }
      ]
    },
    {
      "cell_type": "markdown",
      "metadata": {
        "id": "o9mqn_MqbQsX"
      },
      "source": [
        "---\n",
        "##**完整分支**##"
      ]
    },
    {
      "cell_type": "markdown",
      "metadata": {
        "id": "8Q2zOpdpd1WN"
      },
      "source": [
        "<mark>問題：國軍定義的危險係數公式如下，依照危險係數來判斷是否能外出操課。\n",
        "\n",
        "<mark>危險係數 = 室外溫度(℃)+室外相對溼度(%)*0.1\n",
        "\n",
        "<mark>輸入室外溫度(℃)，輸入室外相對溼度，輸出相對應的危險係數。若危險係數大於等於38時，輸出：禁止外出操課；小於38時，輸出：可以外出操課。"
      ]
    },
    {
      "cell_type": "code",
      "metadata": {
        "colab": {
          "base_uri": "https://localhost:8080/"
        },
        "id": "Fc8QQN7ad14L",
        "outputId": "b8b170d7-483b-42c6-f4b5-418483d77b05"
      },
      "source": [
        "c = float(input(\"輸入室外溫度: \"))\n",
        "h = float(input(\"輸入室外相對溼度: \"))\n",
        "d = c+h*0.1\n",
        "print(\"室外溫度:{:10.2f} 室外相對溼度:{:10.2f} 危險係數:{:10.2f}\".format(c, h, d))\n",
        "if d >= 38:\n",
        "  print(\"禁止外出操課\")\n",
        "else:\n",
        "  print(\"可以外出操課\")"
      ],
      "execution_count": null,
      "outputs": [
        {
          "output_type": "stream",
          "text": [
            "輸入室外溫度: 32.5\n",
            "輸入室外相對溼度: 80\n",
            "室外溫度:     32.50 室外相對溼度:     80.00 危險係數:     40.50\n",
            "禁止外出操課\n"
          ],
          "name": "stdout"
        }
      ]
    },
    {
      "cell_type": "code",
      "metadata": {
        "colab": {
          "base_uri": "https://localhost:8080/"
        },
        "id": "zxC-JgZKhHZu",
        "outputId": "7426880d-fcb4-4e8c-a84d-90ba4779f1f0"
      },
      "source": [
        "import random\n",
        "號碼=random.randint(1,20)\n",
        "隊伍 = 1 if 號碼%2 ==0 else 2  #像英文句子\n",
        "print('號碼{}, 第{}隊'.format(號碼, 隊伍))"
      ],
      "execution_count": null,
      "outputs": [
        {
          "output_type": "stream",
          "text": [
            "號碼13, 第2隊\n"
          ],
          "name": "stdout"
        }
      ]
    },
    {
      "cell_type": "markdown",
      "metadata": {
        "id": "02PJv9s1uUwR"
      },
      "source": [
        "# **進階分支結構**"
      ]
    },
    {
      "cell_type": "markdown",
      "metadata": {
        "id": "sRe50u_OeD8l"
      },
      "source": [
        "---\n",
        "##**多層分支**##"
      ]
    },
    {
      "cell_type": "markdown",
      "metadata": {
        "id": "XJhZGq10eGk9"
      },
      "source": [
        "<mark>問題：輸入一個學生分數(0~100)，以如下的方式輸出結果 (超出範圍時給錯誤訊息)： \n",
        "\n",
        "若90<=分數 \t   輸出：A  <br>\n",
        "若80<=分數<90 \t輸出：B  <br>\n",
        "若70<=分數<80 \t輸出：C  <br>\n",
        "若60<=分數<70 \t輸出：D  <br>\n",
        "若分數<60 \t    輸出：E <br>"
      ]
    },
    {
      "cell_type": "code",
      "metadata": {
        "colab": {
          "base_uri": "https://localhost:8080/"
        },
        "id": "MRm55K_aeEXG",
        "outputId": "46de7356-9c78-4680-c03f-c5be6687ebf7"
      },
      "source": [
        "score = float(input(\"輸入一個學生分數(0~100)\"))\n",
        "if score < 0 or score > 100: \n",
        "  print(\"輸入範圍錯誤\")\n",
        "else:  \n",
        "  if 90 <= score:\n",
        "    print('A')\n",
        "  elif 80<=score and score<90:\n",
        "    print('B')\n",
        "  elif 70<=score and score<80:\n",
        "    print('C')\n",
        "  elif 60<=score and score<70:\n",
        "    print('D')\n",
        "  else:\n",
        "    print('E')"
      ],
      "execution_count": null,
      "outputs": [
        {
          "output_type": "stream",
          "text": [
            "輸入一個學生分數(0~100)82.5\n",
            "B\n"
          ],
          "name": "stdout"
        }
      ]
    },
    {
      "cell_type": "markdown",
      "metadata": {
        "id": "StKFpUWAeO12"
      },
      "source": [
        "---\n",
        "##**Python特殊的運算規則**##"
      ]
    },
    {
      "cell_type": "code",
      "metadata": {
        "colab": {
          "base_uri": "https://localhost:8080/"
        },
        "id": "N-TcDhLyePHt",
        "outputId": "b41cb933-d29d-4d5a-b6e5-31b87e4982fb"
      },
      "source": [
        "x, y, z = -2, 0, 1\n",
        "if x : print(x,'True')\n",
        "if y : print(y,'True')\n",
        "if z : print(z,'True')"
      ],
      "execution_count": null,
      "outputs": [
        {
          "output_type": "stream",
          "text": [
            "-2 True\n",
            "1 True\n"
          ],
          "name": "stdout"
        }
      ]
    },
    {
      "cell_type": "markdown",
      "metadata": {
        "id": "0DMhVNq1iFNc"
      },
      "source": [
        "---\n",
        "##**巢狀分支**##"
      ]
    },
    {
      "cell_type": "code",
      "metadata": {
        "colab": {
          "base_uri": "https://localhost:8080/"
        },
        "id": "wLwo1rL3iDbe",
        "outputId": "f82bef4f-0c48-4c02-f7a5-5e7dbfc33171"
      },
      "source": [
        "score = float(input(\"輸入一個學生分數(0~100)\"))\n",
        "if score < 0 or score > 100: \n",
        "  print(\"輸入範圍錯誤\")\n",
        "if 90 <= score:\n",
        "  print('A')\n",
        "else:\n",
        "  if 80<=score:\n",
        "    print('B')\n",
        "  else:\n",
        "    if 70<=score:\n",
        "      print('C')\n",
        "    else:\n",
        "      if 60<=score:\n",
        "        print('D')\n",
        "      else:\n",
        "        print('E')"
      ],
      "execution_count": null,
      "outputs": [
        {
          "output_type": "stream",
          "text": [
            "輸入一個學生分數(0~100)72.5\n",
            "C\n"
          ],
          "name": "stdout"
        }
      ]
    },
    {
      "cell_type": "markdown",
      "metadata": {
        "id": "Of1qUu18ei_F"
      },
      "source": [
        "\n",
        "\n",
        "\n",
        "<mark>問題：「2017年國軍體能訓測實施計畫」內規定，男女兵接受三項體能測驗的首要條件是BMI值，但男性標準是31，女性卻是26。輸入性別，身高(公尺)，體重(公斤)，計算並輸出相對應的BMI。若符合標準，輸出：合格；若不符合標準，輸出：不合格。"
      ]
    },
    {
      "cell_type": "code",
      "metadata": {
        "colab": {
          "base_uri": "https://localhost:8080/"
        },
        "id": "0fsNpQU9ekWF",
        "outputId": "5cd91c30-5f8c-4bfe-916e-d7b6ad0f75f0"
      },
      "source": [
        "gender = input('輸入性別(m/f):')\n",
        "height = float(input('輸入身高(公尺):'))\n",
        "weight = float(input('輸入體重(公斤):'))\n",
        "bmi=weight/height/height\n",
        "print(\"BMI為{:10.2f}:\".format(bmi))\n",
        "if gender == 'f':\n",
        "  if bmi >=26:\n",
        "    print('不合格')\n",
        "  else:\n",
        "    print('合格')\n",
        "else:\n",
        "  if bmi >=31:\n",
        "    print('不合格')\n",
        "  else:\n",
        "    print('合格')\n"
      ],
      "execution_count": null,
      "outputs": [
        {
          "output_type": "stream",
          "text": [
            "輸入性別(m/f):f\n",
            "輸入身高(公尺):1.6\n",
            "輸入體重(公斤):58\n",
            "BMI為     22.66:\n",
            "合格\n"
          ],
          "name": "stdout"
        }
      ]
    }
  ]
}