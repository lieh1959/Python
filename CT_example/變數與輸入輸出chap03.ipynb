{
  "nbformat": 4,
  "nbformat_minor": 0,
  "metadata": {
    "colab": {
      "name": "chap03",
      "provenance": [],
      "collapsed_sections": [],
      "toc_visible": true
    },
    "kernelspec": {
      "name": "python3",
      "display_name": "Python 3"
    },
    "language_info": {
      "name": "python"
    }
  },
  "cells": [
    {
      "cell_type": "markdown",
      "metadata": {
        "id": "mpxsRchArbuU"
      },
      "source": [
        "# **變數與輸入輸出**\n",
        "**宣告變數**"
      ]
    },
    {
      "cell_type": "code",
      "metadata": {
        "id": "twCCVDm4r-ld"
      },
      "source": [
        "var = 12\n",
        "var = \"hello, world!\""
      ],
      "execution_count": null,
      "outputs": []
    },
    {
      "cell_type": "markdown",
      "metadata": {
        "id": "cyXY9ibouzjS"
      },
      "source": [
        "##關鍵字## "
      ]
    },
    {
      "cell_type": "code",
      "metadata": {
        "colab": {
          "base_uri": "https://localhost:8080/"
        },
        "id": "2xedDdeos-7O",
        "outputId": "295b1ab4-5e23-4259-91e7-492ba4e3f152"
      },
      "source": [
        "import keyword\n",
        "\n",
        "print(keyword.kwlist)"
      ],
      "execution_count": null,
      "outputs": [
        {
          "output_type": "stream",
          "text": [
            "['False', 'None', 'True', 'and', 'as', 'assert', 'async', 'await', 'break', 'class', 'continue', 'def', 'del', 'elif', 'else', 'except', 'finally', 'for', 'from', 'global', 'if', 'import', 'in', 'is', 'lambda', 'nonlocal', 'not', 'or', 'pass', 'raise', 'return', 'try', 'while', 'with', 'yield']\n"
          ],
          "name": "stdout"
        }
      ]
    },
    {
      "cell_type": "markdown",
      "metadata": {
        "id": "V9T5MFcYvH-l"
      },
      "source": [
        "##布林變數##"
      ]
    },
    {
      "cell_type": "code",
      "metadata": {
        "id": "A3jt6F7wvN4z"
      },
      "source": [
        "var=True\n",
        "print(var)\n",
        "print(3 > 5)"
      ],
      "execution_count": null,
      "outputs": []
    },
    {
      "cell_type": "markdown",
      "metadata": {
        "id": "zWG6se-XvVDF"
      },
      "source": [
        "##**數字型別**##"
      ]
    },
    {
      "cell_type": "code",
      "metadata": {
        "colab": {
          "base_uri": "https://localhost:8080/"
        },
        "id": "hb7NilQPvYZG",
        "outputId": "d6de26bc-0253-4bd7-800b-3e6a80a62176"
      },
      "source": [
        "var = 987654321098765432109876543210987654321098765432109876543210\n",
        "\n",
        "print(var+1)"
      ],
      "execution_count": null,
      "outputs": [
        {
          "output_type": "stream",
          "text": [
            "987654321098765432109876543210987654321098765432109876543211\n"
          ],
          "name": "stdout"
        }
      ]
    },
    {
      "cell_type": "code",
      "metadata": {
        "id": "J7Vj2RWEvjLu"
      },
      "source": [
        "import math\n",
        "print(min(1.5, 6.3), max(1.5,6.3))\n",
        "print(math.floor(5/2), math.exp(1))"
      ],
      "execution_count": null,
      "outputs": []
    },
    {
      "cell_type": "markdown",
      "metadata": {
        "id": "2ALa_WOav64t"
      },
      "source": [
        "##**字串變數**##"
      ]
    },
    {
      "cell_type": "code",
      "metadata": {
        "id": "ursltw5mv7eG"
      },
      "source": [
        "s1 = '太平洋'\n",
        "s2 = \"Peterson's Guide\"\n",
        "s3 = '''赤道'''\n",
        "s4 = \"\"\"大溪地\"\"\""
      ],
      "execution_count": null,
      "outputs": []
    },
    {
      "cell_type": "markdown",
      "metadata": {
        "id": "Mrd8JbxzwJu2"
      },
      "source": [
        "##**字串函數**##\n",
        "*   capitalize()\n",
        "*   upper()   "
      ]
    },
    {
      "cell_type": "code",
      "metadata": {
        "id": "Tvo3WJAjwNmu"
      },
      "source": [
        "s1 = \"hello, 'python\\\"!\"\n",
        "\n",
        "print(s1.capitalize())  #首字大寫\n",
        "print(s1.upper())     #全部大寫\n",
        "print(int(\"56\"), float(\"12.34\"))"
      ],
      "execution_count": null,
      "outputs": []
    },
    {
      "cell_type": "code",
      "metadata": {
        "id": "OtGsU2UexQpm"
      },
      "source": [
        "a, b = 12, \"Taipei\"\n",
        "print(type(a), id(a))\n",
        "print(type(b), id(b))"
      ],
      "execution_count": null,
      "outputs": []
    },
    {
      "cell_type": "markdown",
      "metadata": {
        "id": "WxFi0DrfxZ2k"
      },
      "source": [
        "# **運算子**"
      ]
    },
    {
      "cell_type": "markdown",
      "metadata": {
        "id": "vGZUiks_yFh1"
      },
      "source": [
        "##**設值運算子**##"
      ]
    },
    {
      "cell_type": "code",
      "metadata": {
        "id": "hjLe3QrGyRxt"
      },
      "source": [
        "A體重 = 74.3\n",
        "B體重, C體重 = 45, 65.5\n",
        "print(B體重, C體重)\n",
        "B體重, C體重 = C體重, B體重\n",
        "print(B體重, C體重)"
      ],
      "execution_count": null,
      "outputs": []
    },
    {
      "cell_type": "markdown",
      "metadata": {
        "id": "1hx46_Z6yhEn"
      },
      "source": [
        "##**算數運算子**##"
      ]
    },
    {
      "cell_type": "code",
      "metadata": {
        "id": "nlUURJd0ypP0"
      },
      "source": [
        "print(240//12//2)\n",
        "print(240//(12//2))\n",
        "print(2**3**2)\n",
        "print((2**3)**2)"
      ],
      "execution_count": null,
      "outputs": []
    },
    {
      "cell_type": "code",
      "metadata": {
        "id": "eSTT3b8ryzje"
      },
      "source": [
        "x, y, z = 1, 2, 3\n",
        "x = y = z\n",
        "print(x, y, z)"
      ],
      "execution_count": null,
      "outputs": []
    },
    {
      "cell_type": "markdown",
      "metadata": {
        "id": "IrLiozIutVRb"
      },
      "source": [
        ""
      ]
    },
    {
      "cell_type": "markdown",
      "metadata": {
        "id": "XxekUUPAy9kl"
      },
      "source": [
        "##**算術設值運算**##"
      ]
    },
    {
      "cell_type": "markdown",
      "metadata": {
        "id": "NZ1WxrlczI7n"
      },
      "source": [
        "<mark>問題：若一瓶飲料的熱量是250大卡，小樂喝了三瓶，計算並輸出總熱量。"
      ]
    },
    {
      "cell_type": "code",
      "metadata": {
        "id": "a9ceV9IUzFtu"
      },
      "source": [
        "熱量, 瓶 = 250, 3\n",
        "print('熱量*瓶=', 熱量*瓶)"
      ],
      "execution_count": null,
      "outputs": []
    },
    {
      "cell_type": "markdown",
      "metadata": {
        "id": "2gfLqrT7zhoX"
      },
      "source": [
        "<mark>問題：若今天氣溫是攝氏溫度38.5度，請輸出相對應的華氏溫度。"
      ]
    },
    {
      "cell_type": "code",
      "metadata": {
        "id": "X02mL30Pzky9"
      },
      "source": [
        "c=38.5\n",
        "f= c*9/5+32\n",
        "print(\"攝氏溫度\", c, \"等於華氏溫度\", f)"
      ],
      "execution_count": null,
      "outputs": []
    },
    {
      "cell_type": "markdown",
      "metadata": {
        "id": "UXKNSK1qz2Xu"
      },
      "source": [
        "##**邏輯判斷**##"
      ]
    },
    {
      "cell_type": "code",
      "metadata": {
        "id": "mqAzoNss0EdH"
      },
      "source": [
        "a, b = 5, 3\n",
        "print(a > b)\n",
        "print(a <= b)\n",
        "print((a>b)or(a<=b))"
      ],
      "execution_count": null,
      "outputs": []
    },
    {
      "cell_type": "markdown",
      "metadata": {
        "id": "UMf0KZ9X0iwG"
      },
      "source": [
        "<mark>問題：隨機產生一個介於1與100之間的整數，若它是偶數輸出True；奇數輸出False。"
      ]
    },
    {
      "cell_type": "code",
      "metadata": {
        "id": "O5K5G0ZK0ub8"
      },
      "source": [
        "import random\n",
        "no=random.randint(1,100)\n",
        "print(no, no%2==0)"
      ],
      "execution_count": null,
      "outputs": []
    },
    {
      "cell_type": "markdown",
      "metadata": {
        "id": "IkAst9kY32fe"
      },
      "source": [
        "# **輸入與輸出**"
      ]
    },
    {
      "cell_type": "markdown",
      "metadata": {
        "id": "yGa-Vd_A00ns"
      },
      "source": [
        "##**輸入資料**##"
      ]
    },
    {
      "cell_type": "code",
      "metadata": {
        "id": "lDDughac068_"
      },
      "source": [
        "name = input('Enter your name: ')\n",
        "print(name)"
      ],
      "execution_count": null,
      "outputs": []
    },
    {
      "cell_type": "code",
      "metadata": {
        "id": "8cdBYgPJ1Akm"
      },
      "source": [
        "age=input('Enter your age:')\n",
        "print(age, type(age))\n",
        "age=int(age)\n",
        "print(age, type(age))\n",
        "#age=int(input('Enter your age:'))\n",
        "#print(age, type(age))"
      ],
      "execution_count": null,
      "outputs": []
    },
    {
      "cell_type": "markdown",
      "metadata": {
        "id": "g3FxrMgt1SeY"
      },
      "source": [
        "問題：輸入每一瓶飲料的熱量(大卡)與喝了幾瓶，計算並輸出總熱量。"
      ]
    },
    {
      "cell_type": "code",
      "metadata": {
        "id": "AhPkrJtu1Xd3"
      },
      "source": [
        "cal = int(input('每瓶熱量'))\n",
        "btl = int(input('攝取瓶數'))\n",
        "print('熱量*瓶=', cal*btl)"
      ],
      "execution_count": null,
      "outputs": []
    },
    {
      "cell_type": "markdown",
      "metadata": {
        "id": "vYM0uP7S1fhY"
      },
      "source": [
        "問題：輸入今天氣溫度(攝氏)，請輸出相對應的華氏溫度。"
      ]
    },
    {
      "cell_type": "code",
      "metadata": {
        "colab": {
          "base_uri": "https://localhost:8080/"
        },
        "id": "vzCiwIG31gps",
        "outputId": "5ca2d5c4-eb85-424b-d906-2da13893a689"
      },
      "source": [
        "c=float(input('攝氏溫度:'))\n",
        "f= c*9/5+32\n",
        "print(\"攝氏溫度:\", c, \"等於華氏溫度:\", f)"
      ],
      "execution_count": null,
      "outputs": [
        {
          "output_type": "stream",
          "text": [
            "攝氏溫度:26\n",
            "攝氏溫度: 26.0 等於華氏溫度: 78.8\n"
          ],
          "name": "stdout"
        }
      ]
    },
    {
      "cell_type": "markdown",
      "metadata": {
        "id": "hln3PDGs13yV"
      },
      "source": [
        "##**輸出資料**##"
      ]
    },
    {
      "cell_type": "code",
      "metadata": {
        "colab": {
          "base_uri": "https://localhost:8080/"
        },
        "id": "EzfKjam51-Vt",
        "outputId": "d6814531-2614-43b7-9643-694113435071"
      },
      "source": [
        "print('Hello,', end='')\n",
        "print(' Python')\n",
        "print(123, 456, sep=':')"
      ],
      "execution_count": null,
      "outputs": [
        {
          "output_type": "stream",
          "text": [
            "Hello, Python\n",
            "123:456\n"
          ],
          "name": "stdout"
        }
      ]
    },
    {
      "cell_type": "code",
      "metadata": {
        "colab": {
          "base_uri": "https://localhost:8080/"
        },
        "id": "676giYLA2reA",
        "outputId": "54b68c93-af87-4019-aef8-09b62e16dbf3"
      },
      "source": [
        "#字串中的跳脫字元\n",
        "\n",
        "print('Hello\\nPython\\t!')\n",
        "print('\\\\n\\\\')"
      ],
      "execution_count": null,
      "outputs": [
        {
          "output_type": "stream",
          "text": [
            "Hello\n",
            "Python\t!\n",
            "\\n\\\n"
          ],
          "name": "stdout"
        }
      ]
    },
    {
      "cell_type": "code",
      "metadata": {
        "colab": {
          "base_uri": "https://localhost:8080/"
        },
        "id": "8aYFHXc42xeI",
        "outputId": "2ac25cce-4240-4b0f-83b9-5eb155d5add1"
      },
      "source": [
        "# 格式化輸出字串範例\n",
        "s1, s2 = 'Hello', 'Python!'\n",
        "print('{}, {}'.format(s1, s2))"
      ],
      "execution_count": null,
      "outputs": [
        {
          "output_type": "stream",
          "text": [
            "Hello, Python!\n"
          ],
          "name": "stdout"
        }
      ]
    },
    {
      "cell_type": "code",
      "metadata": {
        "colab": {
          "base_uri": "https://localhost:8080/"
        },
        "id": "hQdxAwT7276X",
        "outputId": "e72c6264-e717-4768-8029-eab156f90db1"
      },
      "source": [
        "# 字串格式\n",
        "s1, s2 = 'Hello', 'Python!'\n",
        "print('[0123456789]==[0123456789]')\n",
        "print('[{:10s}]==[{:>10s}]'.format(s1, s2))"
      ],
      "execution_count": null,
      "outputs": [
        {
          "output_type": "stream",
          "text": [
            "[0123456789]==[0123456789]\n",
            "[Hello     ]==[   Python!]\n"
          ],
          "name": "stdout"
        }
      ]
    },
    {
      "cell_type": "code",
      "metadata": {
        "id": "pEY7zdYK3NCQ"
      },
      "source": [
        "# 整數格式\n",
        "a, b = -123, 456\n",
        "print('[0123456789]==[0123456789]')\n",
        "print('[{:<10d}]==[{:>10d}]'.format(a, b))\n",
        "print('[{:010d}]==[{:010d}]'.format(a, b))"
      ],
      "execution_count": null,
      "outputs": []
    },
    {
      "cell_type": "code",
      "metadata": {
        "id": "ieaQqaOS3VSY"
      },
      "source": [
        "# 浮點數格式\n",
        "a, b = -12.3, 45.6\n",
        "print('[0123456789]==[0123456789]')\n",
        "print('[{:10f}]==[{:10.3f}]'.format(a, b))\n",
        "print('[{:<10.3f}]==[{:>10.3f}]'.format(a, b))\n",
        "print('[{:<010.3f}]==[{:010.3f}]'.format(a, b))\n",
        "print('[{:<.3f}]==[{:>.3f}]'.format(a, b))"
      ],
      "execution_count": null,
      "outputs": []
    },
    {
      "cell_type": "markdown",
      "metadata": {
        "id": "KhkXlfCW3gsA"
      },
      "source": [
        "問題：輸入身高(m)，體重(kg)，請輸出相對應的BMI(小數點下2位)。"
      ]
    },
    {
      "cell_type": "code",
      "metadata": {
        "id": "itIco2HU3iAi"
      },
      "source": [
        "height = float(input('輸入身高(公尺)：'))\n",
        "weight = float(input('體重(公斤)：'))\n",
        "bmi = weight/height/height\n",
        "print('BMI為{:10.2f}'.format(bmi))"
      ],
      "execution_count": null,
      "outputs": []
    }
  ]
}