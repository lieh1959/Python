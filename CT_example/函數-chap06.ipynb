{
  "nbformat": 4,
  "nbformat_minor": 0,
  "metadata": {
    "colab": {
      "name": "chap06",
      "provenance": [],
      "collapsed_sections": [],
      "toc_visible": true
    },
    "kernelspec": {
      "name": "python3",
      "display_name": "Python 3"
    },
    "language_info": {
      "name": "python"
    }
  },
  "cells": [
    {
      "cell_type": "markdown",
      "metadata": {
        "id": "-YSITI_5auWv"
      },
      "source": [
        "# **函數的使用與製作**\n",
        "---"
      ]
    },
    {
      "cell_type": "code",
      "metadata": {
        "id": "LvhlW8yhA97h"
      },
      "source": [
        "BasePath = '/content/drive/MyDrive/Python/'\n",
        "\n",
        "fileName1=BasePath+'supData/data01.txt'\n",
        "fileName2=BasePath+'supData/data02.txt'\n",
        "fileName3=BasePath+'supData/data03.txt'\n",
        "fileName4=BasePath+'supData/data04.txt'\n",
        "fileName5=BasePath+'supData/u11461data.txt'\n",
        "fileName6=BasePath+'supData/u10055data.txt'"
      ],
      "execution_count": null,
      "outputs": []
    },
    {
      "cell_type": "markdown",
      "metadata": {
        "id": "SvmdNtFRAxE7"
      },
      "source": [
        "# **函數簡介**"
      ]
    },
    {
      "cell_type": "markdown",
      "metadata": {
        "id": "jYnWVGaBGtKJ"
      },
      "source": [
        "##定義函數##"
      ]
    },
    {
      "cell_type": "code",
      "metadata": {
        "id": "Y-ZR_TftA39Q"
      },
      "source": [
        "def f():      # 函數名稱加 ()\n",
        "\tprint('Hello, Python!')"
      ],
      "execution_count": null,
      "outputs": []
    },
    {
      "cell_type": "code",
      "metadata": {
        "colab": {
          "base_uri": "https://localhost:8080/"
        },
        "id": "RUrNU_d1A59I",
        "outputId": "f4a2a3b7-2f3e-49c1-cbb3-74651ec9bb96"
      },
      "source": [
        "f()     #call 函數"
      ],
      "execution_count": null,
      "outputs": [
        {
          "output_type": "stream",
          "name": "stdout",
          "text": [
            "Hello, Python!\n"
          ]
        }
      ]
    },
    {
      "cell_type": "code",
      "metadata": {
        "colab": {
          "base_uri": "https://localhost:8080/"
        },
        "id": "ePtqUraRBFog",
        "outputId": "634908c9-4dc7-4085-c9c2-7976d7b1fae3"
      },
      "source": [
        "import random   #import random模組\n",
        "def 運動():   # 函數名稱 運動()\n",
        "  運動時間 = random.randint(30,120)\n",
        "  print(\"開始運動....\", 運動時間,\"分鐘....完成運動\")\n",
        "\n",
        "for i in range(3):  # 3次迴圈\n",
        "  運動() "
      ],
      "execution_count": null,
      "outputs": [
        {
          "output_type": "stream",
          "name": "stdout",
          "text": [
            "開始運動.... 43 分鐘....完成運動\n",
            "開始運動.... 116 分鐘....完成運動\n",
            "開始運動.... 60 分鐘....完成運動\n"
          ]
        }
      ]
    },
    {
      "cell_type": "markdown",
      "metadata": {
        "id": "28ECdo27GzhZ"
      },
      "source": [
        "#\t**函數的參數**"
      ]
    },
    {
      "cell_type": "markdown",
      "metadata": {
        "id": "dRgsfU6gokoO"
      },
      "source": [
        "##必要參數##"
      ]
    },
    {
      "cell_type": "code",
      "metadata": {
        "id": "SZ6K8kW3agQB"
      },
      "source": [
        "# 定義函數,有參數w\n",
        "def winfo(w):\n",
        "  print(\"體重{}公斤={:.1f}磅\".format(w, w*2.2)) "
      ],
      "execution_count": null,
      "outputs": []
    },
    {
      "cell_type": "code",
      "metadata": {
        "id": "u0chnF6nGj2o"
      },
      "source": [
        "w = float(input('輸入現在體重(公斤): '))  \n",
        "winfo(w)    #call winfo() "
      ],
      "execution_count": null,
      "outputs": []
    },
    {
      "cell_type": "markdown",
      "metadata": {
        "id": "0G_H9PtwBZ1o"
      },
      "source": [
        "---"
      ]
    },
    {
      "cell_type": "code",
      "metadata": {
        "id": "Uei8aN3EBYvc"
      },
      "source": [
        "# 兩個輸入參數(順序相關)\n",
        "def cal_bmi(w, h):\n",
        "  print(\"體重 {:.1f}公斤, 身高 {:.2f}公尺, BMI為 {:.1f}\".format(w,h,w/(h**2)))"
      ],
      "execution_count": null,
      "outputs": []
    },
    {
      "cell_type": "code",
      "metadata": {
        "id": "_Yp9LAqWBbtZ",
        "colab": {
          "base_uri": "https://localhost:8080/"
        },
        "outputId": "e48e68e6-4dcf-4fa6-a778-84de32ef63bb"
      },
      "source": [
        "cal_bmi(53, 1.65)\n",
        "cal_bmi (h=1.85, w=53)"
      ],
      "execution_count": null,
      "outputs": [
        {
          "output_type": "stream",
          "name": "stdout",
          "text": [
            "體重 53.0公斤, 身高 1.65公尺, BMI為 19.5\n",
            "體重 53.0公斤, 身高 1.85公尺, BMI為 15.5\n"
          ]
        }
      ]
    },
    {
      "cell_type": "markdown",
      "metadata": {
        "id": "lRXhgiInBxrS"
      },
      "source": [
        "---"
      ]
    },
    {
      "cell_type": "code",
      "metadata": {
        "id": "aW5jstNrByj4",
        "colab": {
          "base_uri": "https://localhost:8080/"
        },
        "outputId": "54cf295c-d287-4803-8f63-607ae2b423c2"
      },
      "source": [
        "with open(fileName2, 'r') as f:    # 讀入資料\n",
        "  for s in f:\n",
        "    w, h =map(int,s.split())\n",
        "    cal_bmi(w, h/100)"
      ],
      "execution_count": null,
      "outputs": [
        {
          "output_type": "stream",
          "name": "stdout",
          "text": [
            "體重 75.0公斤, 身高 1.68公尺, BMI為 26.6\n",
            "體重 62.0公斤, 身高 1.52公尺, BMI為 26.8\n",
            "體重 78.0公斤, 身高 1.72公尺, BMI為 26.4\n",
            "體重 91.0公斤, 身高 1.80公尺, BMI為 28.1\n",
            "體重 39.0公斤, 身高 1.49公尺, BMI為 17.6\n",
            "體重 42.0公斤, 身高 1.55公尺, BMI為 17.5\n",
            "體重 46.0公斤, 身高 1.59公尺, BMI為 18.2\n",
            "體重 41.0公斤, 身高 1.62公尺, BMI為 15.6\n"
          ]
        }
      ]
    },
    {
      "cell_type": "markdown",
      "metadata": {
        "id": "8oAYUUGrB7DJ"
      },
      "source": [
        "##非必要參數##"
      ]
    },
    {
      "cell_type": "code",
      "metadata": {
        "id": "qKAxAB7rB9mf"
      },
      "source": [
        "def cal_bmi(w=65, h=1.80):\n",
        "  print(\"體重 {:.1f}公斤, 身高 {:.2f}公尺, BMI為 {:.1f}\".format(w,h,w/(h**2)))"
      ],
      "execution_count": null,
      "outputs": []
    },
    {
      "cell_type": "code",
      "metadata": {
        "id": "lgru-eLdpPYo",
        "colab": {
          "base_uri": "https://localhost:8080/"
        },
        "outputId": "3086167c-b608-4777-9b7f-985e2293d1f3"
      },
      "source": [
        "from google.colab import drive\n",
        "drive.mount('/content/drive')"
      ],
      "execution_count": null,
      "outputs": [
        {
          "output_type": "stream",
          "name": "stdout",
          "text": [
            "Drive already mounted at /content/drive; to attempt to forcibly remount, call drive.mount(\"/content/drive\", force_remount=True).\n"
          ]
        }
      ]
    },
    {
      "cell_type": "code",
      "metadata": {
        "id": "3HHsJumACD_4",
        "colab": {
          "base_uri": "https://localhost:8080/"
        },
        "outputId": "f3ea43fd-9e31-46da-e58c-c8862f36db77"
      },
      "source": [
        "cal_bmi()\n",
        "with open(fileName2, 'r') as f:    # 讀入資料\n",
        "  for s in f:\n",
        "    weight, height =map(int,s.split())\n",
        "    cal_bmi(h=height/100, w=weight)"
      ],
      "execution_count": null,
      "outputs": [
        {
          "output_type": "stream",
          "name": "stdout",
          "text": [
            "體重 65.0公斤, 身高 1.80公尺, BMI為 20.1\n",
            "體重 75.0公斤, 身高 1.68公尺, BMI為 26.6\n",
            "體重 62.0公斤, 身高 1.52公尺, BMI為 26.8\n",
            "體重 78.0公斤, 身高 1.72公尺, BMI為 26.4\n",
            "體重 91.0公斤, 身高 1.80公尺, BMI為 28.1\n",
            "體重 39.0公斤, 身高 1.49公尺, BMI為 17.6\n",
            "體重 42.0公斤, 身高 1.55公尺, BMI為 17.5\n",
            "體重 46.0公斤, 身高 1.59公尺, BMI為 18.2\n",
            "體重 41.0公斤, 身高 1.62公尺, BMI為 15.6\n"
          ]
        }
      ]
    },
    {
      "cell_type": "markdown",
      "metadata": {
        "id": "B0znH3PyGoQ6"
      },
      "source": [
        "# 函數的回傳"
      ]
    },
    {
      "cell_type": "markdown",
      "metadata": {
        "id": "95fxM4RKrxhe"
      },
      "source": [
        "##return指令##"
      ]
    },
    {
      "cell_type": "code",
      "metadata": {
        "id": "lEMrCxxCHSsi"
      },
      "source": [
        "def bmi_level(bmi):\n",
        "  if bmi < 18.5: return \"過輕\"\n",
        "  if 18.5 <= bmi < 24:  return \"正常\"\n",
        "  if 24 <= bmi:  return \"異常\"  \n",
        "\n",
        "def cal_bmic(weight=65, height=1.80): #函數中呼叫其他自定函數\n",
        "  return weight/(height**2), bmi_level(weight/(height**2))"
      ],
      "execution_count": null,
      "outputs": []
    },
    {
      "cell_type": "code",
      "metadata": {
        "id": "rdg5KZIBClla",
        "colab": {
          "base_uri": "https://localhost:8080/"
        },
        "outputId": "18e8656d-b9b6-4497-f63d-99569b998e78"
      },
      "source": [
        "with open(fileName2, 'r') as f:    # 讀入資料\n",
        "  for s in f:\n",
        "    w, h =map(int,s.split())\n",
        "    bmi, cmt = cal_bmic(weight=w, height=h/100)\n",
        "    format_str = \"體重 {:.1f}公斤, 身高 {:.2f}公尺, BMI為 {:.1f} {}\"\n",
        "    print(format_str.format(w,h,bmi, cmt))"
      ],
      "execution_count": null,
      "outputs": [
        {
          "output_type": "stream",
          "name": "stdout",
          "text": [
            "體重 75.0公斤, 身高 168.00公尺, BMI為 26.6 異常\n",
            "體重 62.0公斤, 身高 152.00公尺, BMI為 26.8 異常\n",
            "體重 78.0公斤, 身高 172.00公尺, BMI為 26.4 異常\n",
            "體重 91.0公斤, 身高 180.00公尺, BMI為 28.1 異常\n",
            "體重 39.0公斤, 身高 149.00公尺, BMI為 17.6 過輕\n",
            "體重 42.0公斤, 身高 155.00公尺, BMI為 17.5 過輕\n",
            "體重 46.0公斤, 身高 159.00公尺, BMI為 18.2 過輕\n",
            "體重 41.0公斤, 身高 162.00公尺, BMI為 15.6 過輕\n"
          ]
        }
      ]
    },
    {
      "cell_type": "markdown",
      "metadata": {
        "id": "wBRIEyXeCn3A"
      },
      "source": [
        "##不同個數的回傳值##\n"
      ]
    },
    {
      "cell_type": "code",
      "metadata": {
        "id": "mlw8n63MCodX"
      },
      "source": [
        "# 回傳不同個數的函數\n",
        "def cal_bmi_cb(w=65, h=1.80, option=\"default\"):\n",
        "  if   option==\"concise\":\n",
        "    return w/(h**2)\n",
        "  elif option==\"default\":\n",
        "    return w/(h**2), bmi_level(w/(h**2))   \n",
        "  elif option==\"full\":   \n",
        "    format_str=\"體重 {:.1f}公斤, 身高 {:.2f}公尺, BMI為 {:.1f} {}\"\n",
        "    return format_str.format(w,h,w/(h**2),bmi_level(w/(h**2)))"
      ],
      "execution_count": null,
      "outputs": []
    },
    {
      "cell_type": "markdown",
      "metadata": {
        "id": "Kj24iwIenRdd"
      },
      "source": [
        "---\n",
        "<mark><b><font size=4>完整的 bmi_level()，使用如圖4-31的定義，圖6-15使用此完整版的BMI定義"
      ]
    },
    {
      "cell_type": "code",
      "metadata": {
        "id": "LTt-3Tz3Grr4"
      },
      "source": [
        "def bmi_level(bmi):\n",
        "  if bmi < 18.5:       return \"過輕\"\n",
        "  if 18.5 <= bmi < 24: return \"正常\"\n",
        "  if 24   <= bmi < 27: return \"過重\"  \n",
        "  if 27   <= bmi < 30: return \"輕度肥胖\"  \n",
        "  if 30   <= bmi < 35: return \"中度肥胖\"      \n",
        "  return \"重度肥胖\""
      ],
      "execution_count": null,
      "outputs": []
    },
    {
      "cell_type": "code",
      "metadata": {
        "id": "750Hsd1VCyUo",
        "colab": {
          "base_uri": "https://localhost:8080/"
        },
        "outputId": "9bb585bc-00e8-46df-f088-5b1a10d4b3a5"
      },
      "source": [
        "with open(fileName2, 'r') as f:    # 讀入資料, 回傳兩項\n",
        "  for s in f:\n",
        "    weight,height=map(int,s.split())\n",
        "    bmi,cmt=cal_bmi_cb(w=weight,h=height/100)  #call cal_bmi_cb() 以決定體位\n",
        "    print(\"BMI: {:.1f}  {}\".format(bmi, cmt))"
      ],
      "execution_count": null,
      "outputs": [
        {
          "output_type": "stream",
          "name": "stdout",
          "text": [
            "BMI: 26.6  過重\n",
            "BMI: 26.8  過重\n",
            "BMI: 26.4  過重\n",
            "BMI: 28.1  輕度肥胖\n",
            "BMI: 17.6  過輕\n",
            "BMI: 17.5  過輕\n",
            "BMI: 18.2  過輕\n",
            "BMI: 15.6  過輕\n"
          ]
        }
      ]
    },
    {
      "cell_type": "markdown",
      "metadata": {
        "id": "0PV78ESHDJsZ"
      },
      "source": [
        "---"
      ]
    },
    {
      "cell_type": "code",
      "metadata": {
        "id": "1_q1qTfWDKbB",
        "colab": {
          "base_uri": "https://localhost:8080/"
        },
        "outputId": "36d77975-e0d3-41d4-8fbe-8bf6a626e5f0"
      },
      "source": [
        "with open(fileName2, 'r') as f:    # 讀入資料, 回傳一項\n",
        "  for s in f:\n",
        "    weight,height =map(int,s.split())\n",
        "    res = cal_bmi_cb(w=weight,h=height/100, option=\"full\")\n",
        "    print(\"{}\".format(res))  "
      ],
      "execution_count": null,
      "outputs": [
        {
          "output_type": "stream",
          "name": "stdout",
          "text": [
            "體重 75.0公斤, 身高 1.68公尺, BMI為 26.6 過重\n",
            "體重 62.0公斤, 身高 1.52公尺, BMI為 26.8 過重\n",
            "體重 78.0公斤, 身高 1.72公尺, BMI為 26.4 過重\n",
            "體重 91.0公斤, 身高 1.80公尺, BMI為 28.1 輕度肥胖\n",
            "體重 39.0公斤, 身高 1.49公尺, BMI為 17.6 過輕\n",
            "體重 42.0公斤, 身高 1.55公尺, BMI為 17.5 過輕\n",
            "體重 46.0公斤, 身高 1.59公尺, BMI為 18.2 過輕\n",
            "體重 41.0公斤, 身高 1.62公尺, BMI為 15.6 過輕\n"
          ]
        }
      ]
    },
    {
      "cell_type": "markdown",
      "metadata": {
        "id": "Y4sG0qO2DV_I"
      },
      "source": [
        "##變數的範圍##"
      ]
    },
    {
      "cell_type": "code",
      "metadata": {
        "id": "Q4KATFxxDYxQ"
      },
      "source": [
        "def f():\n",
        "  data=10   #local variable\n",
        "\n",
        "f()\n",
        "print(data)"
      ],
      "execution_count": null,
      "outputs": []
    },
    {
      "cell_type": "code",
      "metadata": {
        "id": "xKLbI0d-DhQw"
      },
      "source": [
        "def g():\n",
        "  print(data)"
      ],
      "execution_count": null,
      "outputs": []
    },
    {
      "cell_type": "code",
      "metadata": {
        "id": "SYbh5sztDh9n",
        "colab": {
          "base_uri": "https://localhost:8080/"
        },
        "outputId": "df2a1a27-2a91-46dd-b041-9595f2fac8d6"
      },
      "source": [
        "data=10\n",
        "g()"
      ],
      "execution_count": null,
      "outputs": [
        {
          "output_type": "stream",
          "name": "stdout",
          "text": [
            "10\n"
          ]
        }
      ]
    },
    {
      "cell_type": "code",
      "metadata": {
        "id": "vwcA5XM2DnJU"
      },
      "source": [
        "def h():\n",
        "  global gdata    # global variable\n",
        "  gdata = 12"
      ],
      "execution_count": null,
      "outputs": []
    },
    {
      "cell_type": "code",
      "metadata": {
        "id": "IM6wRjdHDn2I",
        "colab": {
          "base_uri": "https://localhost:8080/"
        },
        "outputId": "c66974dd-c4f2-4891-d641-5236c9466b36"
      },
      "source": [
        "h()\n",
        "print(gdata)"
      ],
      "execution_count": null,
      "outputs": [
        {
          "output_type": "stream",
          "name": "stdout",
          "text": [
            "12\n"
          ]
        }
      ]
    },
    {
      "cell_type": "code",
      "metadata": {
        "id": "Cf-SoY2fDscv",
        "colab": {
          "base_uri": "https://localhost:8080/"
        },
        "outputId": "e9e9b474-c7cd-404b-b79e-decd641f768c"
      },
      "source": [
        "if True: \n",
        "  data = 12\n",
        "print(data)"
      ],
      "execution_count": null,
      "outputs": [
        {
          "output_type": "stream",
          "name": "stdout",
          "text": [
            "12\n"
          ]
        }
      ]
    },
    {
      "cell_type": "code",
      "metadata": {
        "id": "5UiEgTq6n2Jt"
      },
      "source": [
        "def f1():\n",
        "  d1=10\n",
        "  def f2():\n",
        "    d2=10\n",
        "    print(d1)\n",
        "  print(d2)\n",
        "f1()"
      ],
      "execution_count": null,
      "outputs": []
    },
    {
      "cell_type": "markdown",
      "metadata": {
        "id": "BDF5fODMD1AJ"
      },
      "source": [
        "# 函數的應用"
      ]
    },
    {
      "cell_type": "markdown",
      "metadata": {
        "id": "oBoo0hVEGjaZ"
      },
      "source": [
        "<mark>UVa 10055：勇敢的Hashmat將軍帶領他的士兵四處征戰。每次開戰之前，Hashmat將軍都會計算一下敵人士兵人數與他的士兵人數到底相差多少，以便決定是否開打。Hashmat將軍士兵人數永遠比敵人少。</mark> <br><br>\n",
        "<b>輸入：檔案中每列包含兩個數字，分別代表Hashmat將軍的士兵人數與敵人的士兵人數。士兵人數不會大於$2^{32}$。\n",
        "\n",
        "輸出：對於每列的輸入，列印Hashmat將軍的士兵人數與敵人士兵人數的差。</b><br>\n",
        "```\n",
        "輸入範例：      輸出範例：\n",
        " 10 12         2\n",
        " 10 14         4\n",
        " 100 200       100\n",
        "```"
      ]
    },
    {
      "cell_type": "code",
      "metadata": {
        "id": "INIMdcEeHu-6"
      },
      "source": [
        "#定義函數處理個別案例\n",
        "def uva10055(num1, num2):\n",
        "  return abs(num1-num2)"
      ],
      "execution_count": null,
      "outputs": []
    },
    {
      "cell_type": "code",
      "metadata": {
        "id": "NQeMeEs4Epww",
        "colab": {
          "base_uri": "https://localhost:8080/"
        },
        "outputId": "e45913d8-c6f1-4e0e-fbf2-fa661b5b2f51"
      },
      "source": [
        "with open(fileName6, 'r') as f:    # 讀入資料, 回傳兩項\n",
        "  for s in f:\n",
        "    n1, n2 =map(int,s.split())\n",
        "    print(\"{:10n} {:10n} {:10n}\".format(n1, n2, uva10055(n1, n2)))"
      ],
      "execution_count": null,
      "outputs": [
        {
          "output_type": "stream",
          "text": [
            "        10         12          2\n",
            "        10         14          4\n",
            "       100        200        100\n",
            "      4500      21000      16500\n",
            "     43987       2783      41204\n",
            "4294967290 4294967296          6\n",
            "         1 4294967296 4294967295\n",
            "4294967296 4294967290          6\n",
            "4294967296          1 4294967295\n"
          ],
          "name": "stdout"
        }
      ]
    },
    {
      "cell_type": "markdown",
      "metadata": {
        "id": "6lL-KKwXH1Ug"
      },
      "source": [
        "<mark>UVA 11461:所謂的「平方數」(或「完全平方數」)指的是那些「平方根」為整數的數字。例如 1, 4, 81都是「平方數」。若給你兩個數字a, b，你的工作是找出a, b之間(包含a, b)有多少個「平方數」。</mark><br><br> \n",
        "\n",
        "<b>輸入：輸入檔案中最多200行。每行包含1對a, b (0 < a ≤ b ≤ 100000)。\n",
        "\n",
        "輸出：對於每行的測試案例，列印a, b之間有多少個「平方數」(包含a, b) </b>\n",
        "<pre>\n",
        "輸入範例：\t輸出範例：\n",
        "1 4          2\n",
        "1 10         3"
      ]
    },
    {
      "cell_type": "code",
      "metadata": {
        "id": "M7ZzCi_iH-M0"
      },
      "source": [
        "import math\n",
        "def uva11461_a(a, b):\n",
        "  res = 0\n",
        "  for e in range(a,b+1):\n",
        "    if e == int(math.sqrt(e))**2: res+=1\n",
        "  return res"
      ],
      "execution_count": null,
      "outputs": []
    },
    {
      "cell_type": "code",
      "metadata": {
        "id": "6tWXT-6xFWE_",
        "colab": {
          "base_uri": "https://localhost:8080/"
        },
        "outputId": "2dabb4fe-66a6-49d4-ff32-df14f752ed40"
      },
      "source": [
        "with open(fileName5, 'r') as f: # 讀入資料, 回傳兩項\n",
        "  for s in f:\n",
        "    a, b =map(int,s.split())\n",
        "    print(a, b, uva11461_a(a,b))"
      ],
      "execution_count": null,
      "outputs": [
        {
          "output_type": "stream",
          "name": "stdout",
          "text": [
            "1 4 2\n",
            "4 15 2\n",
            "3 16 3\n",
            "1 10 3\n",
            "9 38 4\n",
            "99999 100000 0\n",
            "4321 54321 168\n",
            "1 100000 316\n"
          ]
        }
      ]
    },
    {
      "cell_type": "markdown",
      "metadata": {
        "id": "c-38fhMcFX1p"
      },
      "source": [
        "---"
      ]
    },
    {
      "cell_type": "code",
      "metadata": {
        "id": "qaCTaUFEFYh4"
      },
      "source": [
        "import math\n",
        "def uva11461_b(a, b):   #平方數? 例如 9,25,81\n",
        "  b2 = math.floor(math.sqrt(b))\n",
        "  ad = 1 if (a == int(math.sqrt(a))**2) else 0\n",
        "  a2 = math.floor(math.sqrt(a)) \n",
        "  return b2-a2+ad"
      ],
      "execution_count": null,
      "outputs": []
    },
    {
      "cell_type": "code",
      "metadata": {
        "id": "14DGmmALFbDw",
        "colab": {
          "base_uri": "https://localhost:8080/"
        },
        "outputId": "a51b154c-7fbb-4a28-f19b-c94b94be08b7"
      },
      "source": [
        "with open(fileName5, 'r') as f: # 讀入資料, 回傳兩項\n",
        "  for s in f:\n",
        "    a, b =map(int,s.split())\n",
        "    print(a, b, uva11461_b(a,b))"
      ],
      "execution_count": null,
      "outputs": [
        {
          "output_type": "stream",
          "name": "stdout",
          "text": [
            "1 4 2\n",
            "4 15 2\n",
            "3 16 3\n",
            "1 10 3\n",
            "9 38 4\n",
            "99999 100000 0\n",
            "4321 54321 168\n",
            "1 100000 316\n"
          ]
        }
      ]
    }
  ]
}