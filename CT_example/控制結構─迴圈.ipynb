{
  "nbformat": 4,
  "nbformat_minor": 0,
  "metadata": {
    "colab": {
      "name": "chap05",
      "provenance": [],
      "collapsed_sections": [],
      "toc_visible": true
    },
    "kernelspec": {
      "name": "python3",
      "display_name": "Python 3"
    },
    "language_info": {
      "name": "python"
    }
  },
  "cells": [
    {
      "cell_type": "code",
      "metadata": {
        "id": "3TyKb2Ilr70Y"
      },
      "source": [
        ""
      ],
      "execution_count": null,
      "outputs": []
    },
    {
      "cell_type": "markdown",
      "metadata": {
        "id": "-YSITI_5auWv"
      },
      "source": [
        "# **控制結構 ─ 迴圈**\n",
        "\n",
        "---"
      ]
    },
    {
      "cell_type": "code",
      "metadata": {
        "id": "6raYOmrusNoI",
        "colab": {
          "base_uri": "https://localhost:8080/"
        },
        "outputId": "18e929e1-c7a1-481c-9f46-182168cfa2e2"
      },
      "source": [
        "from google.colab import drive\n",
        "drive.mount('/content/drive')"
      ],
      "execution_count": null,
      "outputs": [
        {
          "output_type": "stream",
          "name": "stdout",
          "text": [
            "Mounted at /content/drive\n"
          ]
        }
      ]
    },
    {
      "cell_type": "code",
      "metadata": {
        "id": "_fhkxLTjKAiZ"
      },
      "source": [
        "BasePath = '/content/drive/MyDrive/Python/'   #檔案存放基本路徑\n",
        "\n",
        "fileName1=BasePath+'supData/data01.txt'\n",
        "fileName2=BasePath+'supData/data02.txt'\n",
        "fileName3=BasePath+'supData/data03.txt'\n",
        "fileName4=BasePath+'supData/data04.txt'"
      ],
      "execution_count": null,
      "outputs": []
    },
    {
      "cell_type": "markdown",
      "metadata": {
        "id": "28ECdo27GzhZ"
      },
      "source": [
        "# **While迴圈結構**"
      ]
    },
    {
      "cell_type": "code",
      "metadata": {
        "colab": {
          "base_uri": "https://localhost:8080/"
        },
        "id": "SZ6K8kW3agQB",
        "outputId": "79b19b1d-85f6-4d6f-db7e-113137e1637e"
      },
      "source": [
        "次數, 目標=0, 5\n",
        "while 次數 < 目標:\n",
        "  print(\"已經練習了{}次\\t開始第{}次的練習\".format(次數, 次數+1))\n",
        "  次數 += 1\n",
        "else:\n",
        "  print(\"達成目標，一共練習了{}次\".format(次數))  "
      ],
      "execution_count": null,
      "outputs": [
        {
          "output_type": "stream",
          "text": [
            "已經練習了0次\t開始第1次的練習\n",
            "已經練習了1次\t開始第2次的練習\n",
            "已經練習了2次\t開始第3次的練習\n",
            "已經練習了3次\t開始第4次的練習\n",
            "已經練習了4次\t開始第5次的練習\n",
            "達成目標，一共練習了5次\n"
          ],
          "name": "stdout"
        }
      ]
    },
    {
      "cell_type": "code",
      "metadata": {
        "colab": {
          "base_uri": "https://localhost:8080/"
        },
        "id": "u0chnF6nGj2o",
        "outputId": "44abecb1-a392-4a3a-dd3f-24cc0091a723"
      },
      "source": [
        "次數 = 0\n",
        "目標 = int(input('輸入練習次數: '))\n",
        "while 次數 < 目標:\n",
        "  print(\"練習第{}次\".format(次數+1))\n",
        "  次數 += 1\n",
        "else:\n",
        "  print(\"達成目標，一共練習了{}次\".format(次數))  "
      ],
      "execution_count": null,
      "outputs": [
        {
          "output_type": "stream",
          "text": [
            "輸入練習次數: 3\n",
            "練習第1次\n",
            "練習第2次\n",
            "練習第3次\n",
            "達成目標，一共練習了3次\n"
          ],
          "name": "stdout"
        }
      ]
    },
    {
      "cell_type": "markdown",
      "metadata": {
        "id": "B0znH3PyGoQ6"
      },
      "source": [
        "---\n",
        "##**無窮迴圈(不執行)**##"
      ]
    },
    {
      "cell_type": "code",
      "metadata": {
        "id": "LTt-3Tz3Grr4"
      },
      "source": [
        "次數, 目標=0, 5\n",
        "while 次數 < 目標:\n",
        "  print(\"已經練習了{}次\\t開始第{}次的練習\".format(次數, 次數+1))\n",
        "else:\n",
        "  print(\"達成目標，一共練習了{}次\".format(次數))"
      ],
      "execution_count": null,
      "outputs": []
    },
    {
      "cell_type": "code",
      "metadata": {
        "colab": {
          "base_uri": "https://localhost:8080/"
        },
        "id": "lEMrCxxCHSsi",
        "outputId": "7735acd8-e030-41c4-c771-75a0dc2ecf98"
      },
      "source": [
        "DEBUG = True\n",
        "c, n =1, 2\n",
        "while c <= n:\n",
        "  if DEBUG: print(c, \"Hello Python!\")\n",
        "  c=c+1"
      ],
      "execution_count": null,
      "outputs": [
        {
          "output_type": "stream",
          "text": [
            "1 Hello Python!\n",
            "2 Hello Python!\n"
          ],
          "name": "stdout"
        }
      ]
    },
    {
      "cell_type": "markdown",
      "metadata": {
        "id": "oBoo0hVEGjaZ"
      },
      "source": [
        "<mark>問題：輸入整數N，並輸出1,2,3,…,N。"
      ]
    },
    {
      "cell_type": "code",
      "metadata": {
        "colab": {
          "base_uri": "https://localhost:8080/"
        },
        "id": "INIMdcEeHu-6",
        "outputId": "969bc4b9-a87c-49f4-85ac-0dae9877b789"
      },
      "source": [
        "n = int(input('輸入整數N:'))\n",
        "c = 1\n",
        "while c < n:\n",
        "  print(c, end=', ')\n",
        "  c+=1\n",
        "else:\n",
        "  print(c)"
      ],
      "execution_count": null,
      "outputs": [
        {
          "output_type": "stream",
          "text": [
            "輸入整數N:6\n",
            "1, 2, 3, 4, 5, 6\n"
          ],
          "name": "stdout"
        }
      ]
    },
    {
      "cell_type": "markdown",
      "metadata": {
        "id": "6lL-KKwXH1Ug"
      },
      "source": [
        "<mark>問題：輸入偶數N，並輸出1,3,5…,N-1。"
      ]
    },
    {
      "cell_type": "code",
      "metadata": {
        "colab": {
          "base_uri": "https://localhost:8080/"
        },
        "id": "M7ZzCi_iH-M0",
        "outputId": "ee7fcc3e-ddf4-480b-caf4-5cbd65632d20"
      },
      "source": [
        "n = int(input('輸入整數N:'))\n",
        "c = 1\n",
        "while c < n-1:\n",
        "  print(c, end=', ')\n",
        "  c+=2\n",
        "else:\n",
        "  print(c) "
      ],
      "execution_count": null,
      "outputs": [
        {
          "output_type": "stream",
          "text": [
            "輸入整數N:20\n",
            "1, 3, 5, 7, 9, 11, 13, 15, 17, 19\n"
          ],
          "name": "stdout"
        }
      ]
    },
    {
      "cell_type": "markdown",
      "metadata": {
        "id": "Ty4TT39MGjdg"
      },
      "source": [
        "<mark>問題：輸入N，並輸出N, N-1,…, 3, 2, 1。"
      ]
    },
    {
      "cell_type": "code",
      "metadata": {
        "colab": {
          "base_uri": "https://localhost:8080/"
        },
        "id": "7eKXww72IIoD",
        "outputId": "8e79495d-399f-4f78-ad6d-f843b9ed2fb6"
      },
      "source": [
        "n = int(input('輸入整數N:'))\n",
        "while n > 1:\n",
        "  print(n, end=', ')\n",
        "  n-=1\n",
        "else:\n",
        "  print(n) "
      ],
      "execution_count": null,
      "outputs": [
        {
          "output_type": "stream",
          "text": [
            "輸入整數N:8\n",
            "8, 7, 6, 5, 4, 3, 2, 1\n"
          ],
          "name": "stdout"
        }
      ]
    },
    {
      "cell_type": "markdown",
      "metadata": {
        "id": "6yClGvCjGjgf"
      },
      "source": [
        "<mark><b>問題：輸入偶數N，並輸出(1, 1)(2, 3)(3, 5)…，一共輸出N對。"
      ]
    },
    {
      "cell_type": "code",
      "metadata": {
        "colab": {
          "base_uri": "https://localhost:8080/"
        },
        "id": "ZWdsVOqPIS-7",
        "outputId": "935f2f41-20b9-42ed-be10-d38aa52f5099"
      },
      "source": [
        "n = int(input('輸入整數N: '))\n",
        "c, d = 1, 1\n",
        "while c < n:\n",
        "  print(\"({}, {})\".format(c,d), end=', ')\n",
        "  c+=1\n",
        "  d+=2\n",
        "else:\n",
        "  print(\"({}, {})\".format(c,d)) "
      ],
      "execution_count": null,
      "outputs": [
        {
          "output_type": "stream",
          "text": [
            "輸入整數N: 5\n",
            "(1, 1), (2, 3), (3, 5), (4, 7), (5, 9)\n"
          ],
          "name": "stdout"
        }
      ]
    },
    {
      "cell_type": "markdown",
      "metadata": {
        "id": "jHhCdi7PGjjg"
      },
      "source": [
        "# **For迴圈結構**"
      ]
    },
    {
      "cell_type": "code",
      "metadata": {
        "colab": {
          "base_uri": "https://localhost:8080/"
        },
        "id": "EtlWOr5za0hW",
        "outputId": "6a5c233e-7f1d-4be8-a2b4-f5b63277e57a"
      },
      "source": [
        "data = ['Mon.','Tue.','Wed.','Thr.','Fri.'] #串列 data\n",
        "for c in data:\n",
        "  print(c, end=' ') "
      ],
      "execution_count": null,
      "outputs": [
        {
          "output_type": "stream",
          "name": "stdout",
          "text": [
            "Mon. Tue. Wed. Thr. Fri. "
          ]
        }
      ]
    },
    {
      "cell_type": "code",
      "metadata": {
        "colab": {
          "base_uri": "https://localhost:8080/"
        },
        "id": "_JlsqVNHJGSc",
        "outputId": "87501a9b-f8a8-42ac-eae6-e9f91ededc20"
      },
      "source": [
        "data = ['Mon','Tue','Wed','Thr','Fri']\n",
        "for c in data:\n",
        "  print(c, end='. ') \n",
        "else:\n",
        "  print()\n",
        "print('========================') "
      ],
      "execution_count": null,
      "outputs": [
        {
          "output_type": "stream",
          "name": "stdout",
          "text": [
            "Mon. Tue. Wed. Thr. Fri. \n",
            "========================\n"
          ]
        }
      ]
    },
    {
      "cell_type": "markdown",
      "metadata": {
        "id": "BO3hPyWNJLaw"
      },
      "source": [
        "##**range函數**##"
      ]
    },
    {
      "cell_type": "code",
      "metadata": {
        "colab": {
          "base_uri": "https://localhost:8080/"
        },
        "id": "YJ7jKjabJMou",
        "outputId": "d0c702a6-dd79-484c-a285-fd67ac8ca7c0"
      },
      "source": [
        "seq = range(5)    # range()會產生一個iterator物件\n",
        "print(seq)\n",
        "for c in seq:\n",
        "  print(c, end='. ') "
      ],
      "execution_count": null,
      "outputs": [
        {
          "output_type": "stream",
          "text": [
            "range(0, 5)\n",
            "0. 1. 2. 3. 4. "
          ],
          "name": "stdout"
        }
      ]
    },
    {
      "cell_type": "markdown",
      "metadata": {
        "id": "7HIE1ZAFbBrF"
      },
      "source": [
        "<mark><font size=4><b>問題：輸入N，並輸出1,2,3,…,N。"
      ]
    },
    {
      "cell_type": "code",
      "metadata": {
        "colab": {
          "base_uri": "https://localhost:8080/"
        },
        "id": "yRx0cEpYbCP2",
        "outputId": "5ebcb60f-cede-4b02-b13d-2ac5df6ff27a"
      },
      "source": [
        "n=int(input('輸入整數N: '))\n",
        "for i in range(1,n):\n",
        "  print(i, end=', ')\n",
        "else:\n",
        "  print(i+1) "
      ],
      "execution_count": null,
      "outputs": [
        {
          "output_type": "stream",
          "name": "stdout",
          "text": [
            "輸入整數N: 7\n",
            "1, 2, 3, 4, 5, 6, 7\n"
          ]
        }
      ]
    },
    {
      "cell_type": "markdown",
      "metadata": {
        "id": "eJSJ06PZJmWb"
      },
      "source": [
        "<mark><font size=4>問題：輸入偶數N，並輸出1,3,5…,N-1。"
      ]
    },
    {
      "cell_type": "code",
      "metadata": {
        "colab": {
          "base_uri": "https://localhost:8080/"
        },
        "id": "_fHQ6ereJpvP",
        "outputId": "c095cda7-6101-4ede-aef2-72ba40f92cbd"
      },
      "source": [
        "n=int(input('輸入偶數 N: '))\n",
        "for c in range(1,n-1,2):\n",
        "  print(c, ', ', sep='', end='')\n",
        "else:\n",
        "  print(n-1) "
      ],
      "execution_count": null,
      "outputs": [
        {
          "output_type": "stream",
          "name": "stdout",
          "text": [
            "輸入偶數 N: 10\n",
            "1, 3, 5, 7, 9\n"
          ]
        }
      ]
    },
    {
      "cell_type": "markdown",
      "metadata": {
        "id": "VLD6NUBXJ58a"
      },
      "source": [
        "#\t**檔案資料讀取**"
      ]
    },
    {
      "cell_type": "code",
      "metadata": {
        "id": "0XCS7kRdbRB2",
        "colab": {
          "base_uri": "https://localhost:8080/"
        },
        "outputId": "5cff7af0-42b7-4282-f587-73d09c3a9b46"
      },
      "source": [
        "f = open(fileName1, 'r')\n",
        "for s in f:\n",
        " #以下用.split()函數，將字串依','分開拆分出來的2個值，分別對應給int()完成轉型\n",
        "  w, h =map(int,s.split(',')) \n",
        "  print(\"體重:{} 身高:{}\".format(w,h))"
      ],
      "execution_count": null,
      "outputs": [
        {
          "output_type": "stream",
          "name": "stdout",
          "text": [
            "體重:75 身高:168\n",
            "體重:62 身高:152\n",
            "體重:78 身高:172\n",
            "體重:91 身高:180\n",
            "體重:39 身高:149\n",
            "體重:42 身高:155\n",
            "體重:46 身高:159\n",
            "體重:41 身高:162\n"
          ]
        }
      ]
    },
    {
      "cell_type": "code",
      "metadata": {
        "id": "36aLFWS0MOup"
      },
      "source": [
        "o = open(BasePath+\"results/res01.txt\", 'w') # 寫出結果\n",
        "with open(fileName2, 'r') as f:   #open()檔案若失敗,系統不會執行3~5行,會自動關閉資源\n",
        "  for s in f:\n",
        "    w, h =map(int,s.split())\n",
        "    o.write(\"體重:{} 身高:{} BMI:{:.2f}\\n\".format(w,h, w*10000/h**2))\n",
        "\n",
        "o.close()    "
      ],
      "execution_count": null,
      "outputs": []
    },
    {
      "cell_type": "markdown",
      "metadata": {
        "id": "J9BpdkaHNfb-"
      },
      "source": [
        "# **巢狀迴圈結構**"
      ]
    },
    {
      "cell_type": "code",
      "metadata": {
        "colab": {
          "base_uri": "https://localhost:8080/"
        },
        "id": "Ie_lnQ11bWxO",
        "outputId": "b933e0d9-d358-4236-a81f-501145cbd1cc"
      },
      "source": [
        "data = ['Mon.', 'Tue.', 'Wed.', 'Thr.', 'Fri.']\n",
        "for c in data:\n",
        "  print(c, end=' ')\n",
        "  次數, 目標=0, 5\n",
        "  while 次數 < 目標:\n",
        "    print(\"練習第{}次 \".format(次數+1), end=' ')\n",
        "    次數 += 1\n",
        "  else:\n",
        "    print()"
      ],
      "execution_count": null,
      "outputs": [
        {
          "output_type": "stream",
          "text": [
            "Mon. 練習第1次  練習第2次  練習第3次  練習第4次  練習第5次  \n",
            "Tue. 練習第1次  練習第2次  練習第3次  練習第4次  練習第5次  \n",
            "Wed. 練習第1次  練習第2次  練習第3次  練習第4次  練習第5次  \n",
            "Thr. 練習第1次  練習第2次  練習第3次  練習第4次  練習第5次  \n",
            "Fri. 練習第1次  練習第2次  練習第3次  練習第4次  練習第5次  \n"
          ],
          "name": "stdout"
        }
      ]
    },
    {
      "cell_type": "markdown",
      "metadata": {
        "id": "fDimBIY2dL5O"
      },
      "source": [
        "<mark><font size=4>問題：輸入正整數 M，重複輸出M列，每列包含M個*。\n",
        "```\n",
        "  * *  … *    一列 M 個 *\n",
        "     :\n",
        "  * *  … *    共 M 列\n",
        "```"
      ]
    },
    {
      "cell_type": "code",
      "metadata": {
        "id": "F8qMI7ZdOCjx"
      },
      "source": [
        "M = int(input('輸入方陣邊長: '))\n",
        "for x in range(M):    #重覆m列\n",
        "  print(\"第{}列: \".format(x+1), end=\" \")\n",
        "  for y in range(M):    #每列有m個\n",
        "    print('*', end=' ')\n",
        "  else:\n",
        "    print()"
      ],
      "execution_count": null,
      "outputs": []
    },
    {
      "cell_type": "markdown",
      "metadata": {
        "id": "79fOalONOLUH"
      },
      "source": [
        "<mark><font size=4>輸入正整數 M，重複輸出M列。範例如下：當M=3時，輸出。\n",
        "```\n",
        "  1, 2, 3    一列 3 項\n",
        "  1, 2, 3\n",
        "  1, 2, 3    共 3 列\n",
        "```"
      ]
    },
    {
      "cell_type": "code",
      "metadata": {
        "colab": {
          "base_uri": "https://localhost:8080/"
        },
        "id": "BObWEd2UOcOe",
        "outputId": "aa79a867-7d59-4a76-c50d-9cc11721247a"
      },
      "source": [
        "M=int(input('輸入整數M: '))\n",
        "for c in range(M):\n",
        "  for i in range(1,M):\n",
        "    print(i, end=', ')\n",
        "  else:\n",
        "    print(i+1)"
      ],
      "execution_count": null,
      "outputs": [
        {
          "output_type": "stream",
          "text": [
            "輸入整數M: 3\n",
            "1, 2, 3\n",
            "1, 2, 3\n",
            "1, 2, 3\n"
          ],
          "name": "stdout"
        }
      ]
    },
    {
      "cell_type": "markdown",
      "metadata": {
        "id": "YfkFUtieOmTF"
      },
      "source": [
        "<mark> <font size=4>輸入2正整數 m, n，重複輸出m列，每列包含n個*。\n",
        "```\n",
        "  * * * * … *    一列 n 個 *\n",
        "     :\n",
        "  * * * * … *    共 m 列\n",
        "```"
      ]
    },
    {
      "cell_type": "code",
      "metadata": {
        "colab": {
          "base_uri": "https://localhost:8080/"
        },
        "id": "HZW2RA6JOw5E",
        "outputId": "feee8795-9b95-4a84-b985-d928a431a98e"
      },
      "source": [
        "M=int(input('輸入正整數 m: '))\n",
        "N=int(input('輸入正整數 n: '))\n",
        "for m in range(M):\n",
        "  for n in range(N):\n",
        "    print('* ', end='')\n",
        "  else:\n",
        "    print()  "
      ],
      "execution_count": null,
      "outputs": [
        {
          "output_type": "stream",
          "text": [
            "輸入正整數 m: 3\n",
            "輸入正整數 n: 8\n",
            "* * * * * * * * \n",
            "* * * * * * * * \n",
            "* * * * * * * * \n"
          ],
          "name": "stdout"
        }
      ]
    },
    {
      "cell_type": "markdown",
      "metadata": {
        "id": "GLgeDockO6Yj"
      },
      "source": [
        "<mark> <font size=4>請使用者輸入2正整數 m, n，重複輸出m列。當m=2, n=3時的輸出範例如下。\n",
        "```\n",
        "  1 2 3\n",
        "  4 5 6   共 2 列。\n",
        "```"
      ]
    },
    {
      "cell_type": "code",
      "metadata": {
        "colab": {
          "base_uri": "https://localhost:8080/"
        },
        "id": "4pCRAvAEPCgE",
        "outputId": "74d78f95-c55b-4a2a-c46e-1056cfc4b042"
      },
      "source": [
        "M=int(input('輸入正整數 m: '))\n",
        "N=int(input('輸入正整數 n: '))\n",
        "no=1\n",
        "for m in range(M):\n",
        "  for n in range(N):\n",
        "    print(no, end=' ')\n",
        "    no+=1\n",
        "  else:\n",
        "    print() "
      ],
      "execution_count": null,
      "outputs": [
        {
          "output_type": "stream",
          "text": [
            "輸入正整數 m: 2\n",
            "輸入正整數 n: 3\n",
            "1 2 3 \n",
            "4 5 6 \n"
          ],
          "name": "stdout"
        }
      ]
    },
    {
      "cell_type": "markdown",
      "metadata": {
        "id": "o9mqn_MqbQsX"
      },
      "source": [
        "# **迴圈中斷與續做**"
      ]
    },
    {
      "cell_type": "markdown",
      "metadata": {
        "id": "SgBFIYwZPkul"
      },
      "source": [
        "##**迴圈中斷**##"
      ]
    },
    {
      "cell_type": "markdown",
      "metadata": {
        "id": "r93_DlSLdZOd"
      },
      "source": [
        "<mark><font size=4>問題：從資料檔中循序選出前五名參加啦啦隊。"
      ]
    },
    {
      "cell_type": "code",
      "metadata": {
        "colab": {
          "base_uri": "https://localhost:8080/"
        },
        "id": "V31bGzeXdE-2",
        "outputId": "2d3a8f36-d560-4349-c48f-21a91c70aa2d"
      },
      "source": [
        "with open(fileName4, 'r') as f:\n",
        "  c = 1\n",
        "  for s in f:\n",
        "    data = s.split(',')\n",
        "    n, w, h, g = data[0], float(data[1]), float(data[2]), data[3]\n",
        "    print(\"第{}位啦啦隊員: 姓名({})性別({})\".format(c,n,g))\n",
        "    c+=1\n",
        "    if c>5: break  #中斷迴圈"
      ],
      "execution_count": null,
      "outputs": [
        {
          "output_type": "stream",
          "name": "stdout",
          "text": [
            "第1位啦啦隊員: 姓名(王一)性別(M\n",
            ")\n",
            "第2位啦啦隊員: 姓名(王二)性別(F\n",
            ")\n",
            "第3位啦啦隊員: 姓名(王三)性別(M\n",
            ")\n",
            "第4位啦啦隊員: 姓名(王四)性別(M\n",
            ")\n",
            "第5位啦啦隊員: 姓名(丁一)性別(F\n",
            ")\n"
          ]
        }
      ]
    },
    {
      "cell_type": "markdown",
      "metadata": {
        "id": "SRjw6cL1dt8N"
      },
      "source": [
        "<mark><font size=4>問題：A小姐每天都會運動，並輸入每天的BMI值，她計畫持續運動直到BMI小於25。"
      ]
    },
    {
      "cell_type": "code",
      "metadata": {
        "colab": {
          "base_uri": "https://localhost:8080/"
        },
        "id": "SLFsaf08dbEe",
        "outputId": "13f473db-efd5-47e9-d68d-c538ee5099ee"
      },
      "source": [
        "while True:\n",
        "  print(\"持續運動..\", end=\" \")\n",
        "  bmi = float(input(\"請輸入目前BMI:\"))\n",
        "  if bmi < 25:\n",
        "    print(\"體脂肪達標\")\n",
        "    break"
      ],
      "execution_count": null,
      "outputs": [
        {
          "output_type": "stream",
          "text": [
            "持續運動.. 請輸入目前BMI:31.1\n",
            "持續運動.. 請輸入目前BMI:28.5\n",
            "持續運動.. 請輸入目前BMI:26.5\n",
            "持續運動.. 請輸入目前BMI:23\n",
            "體脂肪達標\n"
          ],
          "name": "stdout"
        }
      ]
    },
    {
      "cell_type": "markdown",
      "metadata": {
        "id": "jkuULKffQHb1"
      },
      "source": [
        "##**迴圈續做**##"
      ]
    },
    {
      "cell_type": "markdown",
      "metadata": {
        "id": "8Q2zOpdpd1WN"
      },
      "source": [
        "<mark><font size=4>問題：從資料檔中循序選出前五名女生參加啦啦隊，輸出他們的姓名與BMI。"
      ]
    },
    {
      "cell_type": "code",
      "metadata": {
        "colab": {
          "base_uri": "https://localhost:8080/"
        },
        "id": "Fc8QQN7ad14L",
        "outputId": "88cf0135-4ba5-4b0f-d3a8-6185fcbfa905"
      },
      "source": [
        "with open(fileName4, 'r') as f:\n",
        "  c = 1\n",
        "  for s in f:\n",
        "    data = s.split(',')\n",
        "    n, w, h, g = data[0], float(data[1]), float(data[2]), data[3]\n",
        "    if g==\"M\": continue\n",
        "    print(\"姓名({}) BMI({:.1f})\".format(n,w*10000/h**2))\n",
        "    c+=1\n",
        "    if c>5: break"
      ],
      "execution_count": null,
      "outputs": [
        {
          "output_type": "stream",
          "name": "stdout",
          "text": [
            "姓名(王一) BMI(19.6)\n",
            "姓名(王二) BMI(17.5)\n",
            "姓名(王三) BMI(21.2)\n",
            "姓名(王四) BMI(26.8)\n",
            "姓名(丁一) BMI(18.2)\n"
          ]
        }
      ]
    }
  ]
}