{
  "nbformat": 4,
  "nbformat_minor": 0,
  "metadata": {
    "colab": {
      "name": "chap08",
      "provenance": [],
      "collapsed_sections": [],
      "toc_visible": true
    },
    "kernelspec": {
      "name": "python3",
      "display_name": "Python 3"
    },
    "language_info": {
      "name": "python"
    }
  },
  "cells": [
    {
      "cell_type": "markdown",
      "metadata": {
        "id": "-YSITI_5auWv"
      },
      "source": [
        "# **套件簡介**\n",
        "\n",
        "---"
      ]
    },
    {
      "cell_type": "code",
      "metadata": {
        "id": "kDoNALf9OMO-"
      },
      "source": [
        "import numpy as np\n",
        "import pandas as pd\n",
        "import matplotlib.pyplot as plt\n",
        "from matplotlib.font_manager import FontProperties\n",
        "\n",
        "BasePath = '/content/drive/MyDrive/Python/supData/'\n",
        "resultPath = '/content/drive/MyDrive/Python/results/'\n",
        "txtName1 = BasePath + '迴歸資料01.csv' \n",
        "txtName2 = BasePath + '分類資料01.tsv' \n",
        "txtName3 = resultPath + 'result01.xls' \n",
        "outimg1 = resultPath + 'image_res1.png' \n",
        "outimg2 = resultPath + 'image_res2.png' \n",
        "font1 = FontProperties(fname = BasePath + '楷書體.ttf')\n",
        "font2 = FontProperties(fname = BasePath + '隸書體.ttf')"
      ],
      "execution_count": null,
      "outputs": []
    },
    {
      "cell_type": "code",
      "metadata": {
        "id": "wLoc7c90YVHz",
        "colab": {
          "base_uri": "https://localhost:8080/"
        },
        "outputId": "f9a761ac-3950-4a7f-a6e7-dc90ebea0aff"
      },
      "source": [
        "from google.colab import drive\n",
        "drive.mount('/content/drive')"
      ],
      "execution_count": null,
      "outputs": [
        {
          "output_type": "stream",
          "name": "stdout",
          "text": [
            "Drive already mounted at /content/drive; to attempt to forcibly remount, call drive.mount(\"/content/drive\", force_remount=True).\n"
          ]
        }
      ]
    },
    {
      "cell_type": "markdown",
      "metadata": {
        "id": "SvmdNtFRAxE7"
      },
      "source": [
        "# **NumPy**\n",
        "Numerical Python(數值計算套件)"
      ]
    },
    {
      "cell_type": "markdown",
      "metadata": {
        "id": "Ufza4pW6F2Ec"
      },
      "source": [
        "##<b>新增ndarray</b>##\n",
        "<h3>**安排、建置一維, 二維...陣列元素<br>\n",
        "<h3>**很方便的套件<br>"
      ]
    },
    {
      "cell_type": "code",
      "metadata": {
        "id": "Y-ZR_TftA39Q",
        "colab": {
          "base_uri": "https://localhost:8080/"
        },
        "outputId": "70498bd8-1b71-425b-cf68-77af69674503"
      },
      "source": [
        "array = np.zeros((2,3))   #二維陣列zeros()\n",
        "print(array)"
      ],
      "execution_count": null,
      "outputs": [
        {
          "output_type": "stream",
          "text": [
            "[[0. 0. 0.]\n",
            " [0. 0. 0.]]\n"
          ],
          "name": "stdout"
        }
      ]
    },
    {
      "cell_type": "code",
      "metadata": {
        "colab": {
          "base_uri": "https://localhost:8080/"
        },
        "id": "LNkeXfnKIruP",
        "outputId": "1102dff6-a9ab-4540-f568-8250ae21cab9"
      },
      "source": [
        "array = np.zeros((2,3), dtype = np.intc)  #整數型別\n",
        "print(array)"
      ],
      "execution_count": null,
      "outputs": [
        {
          "output_type": "stream",
          "text": [
            "[[0 0 0]\n",
            " [0 0 0]]\n"
          ],
          "name": "stdout"
        }
      ]
    },
    {
      "cell_type": "code",
      "metadata": {
        "colab": {
          "base_uri": "https://localhost:8080/"
        },
        "id": "RUrNU_d1A59I",
        "outputId": "15c01c03-868e-4c90-b54d-cec80261bb12"
      },
      "source": [
        "array = np.ones((2,4), dtype = np.intc)   #全部為1\n",
        "print(array)"
      ],
      "execution_count": null,
      "outputs": [
        {
          "output_type": "stream",
          "text": [
            "[[1 1 1 1]\n",
            " [1 1 1 1]]\n"
          ],
          "name": "stdout"
        }
      ]
    },
    {
      "cell_type": "code",
      "metadata": {
        "colab": {
          "base_uri": "https://localhost:8080/"
        },
        "id": "EIP9ersoJPCo",
        "outputId": "92e375bd-4f5c-4777-d673-6b601d79d105"
      },
      "source": [
        "# 使用array() ，用串列產生陣列\n",
        "array = np.array([[1,2,3],[4,5,6]], dtype = np.intc)\n",
        "print(array)"
      ],
      "execution_count": null,
      "outputs": [
        {
          "output_type": "stream",
          "text": [
            "[[1 2 3]\n",
            " [4 5 6]]\n"
          ],
          "name": "stdout"
        }
      ]
    },
    {
      "cell_type": "code",
      "metadata": {
        "colab": {
          "base_uri": "https://localhost:8080/"
        },
        "id": "ePtqUraRBFog",
        "outputId": "5d82cf99-acda-41b3-f6ef-1f1f127a79eb"
      },
      "source": [
        "# 使用arrange()函數, 可輸入1,2,3個參數\n",
        "array = np.arange(12)   \n",
        "print(array)\n",
        "array = np.arange(12, 20)\n",
        "print(array)\n",
        "array = np.arange(12, 20, 2)\n",
        "print(array)"
      ],
      "execution_count": null,
      "outputs": [
        {
          "output_type": "stream",
          "text": [
            "[ 0  1  2  3  4  5  6  7  8  9 10 11]\n",
            "[12 13 14 15 16 17 18 19]\n",
            "[12 14 16 18]\n"
          ],
          "name": "stdout"
        }
      ]
    },
    {
      "cell_type": "markdown",
      "metadata": {
        "id": "fsmNSTV3O9-M"
      },
      "source": [
        "##<b>存取陣列元素</b>##\n",
        "<h3>使用index<br>"
      ]
    },
    {
      "cell_type": "code",
      "metadata": {
        "colab": {
          "base_uri": "https://localhost:8080/"
        },
        "id": "NNQFudc1JWZF",
        "outputId": "a39d0f9a-3682-43a2-d718-0f112011f438"
      },
      "source": [
        "array = np.arange(12, 20)\n",
        "print(array[0])\n",
        "array = np.array([[1,2,3],[4,5,6]], dtype = np.intc)\n",
        "print(array[0][1])    #只有取出一個元素\n",
        "print(array[0])   #一次存取一列\n",
        "array[0][1]=100   #改變array[0][1]的元素"
      ],
      "execution_count": null,
      "outputs": [
        {
          "output_type": "stream",
          "text": [
            "12\n",
            "2\n",
            "[1 2 3]\n"
          ],
          "name": "stdout"
        }
      ]
    },
    {
      "cell_type": "markdown",
      "metadata": {
        "id": "N2t9YqDyPeL8"
      },
      "source": [
        "##**陣列屬性**##\n",
        "<h3>dtype、size、ndim、shape<br>"
      ]
    },
    {
      "cell_type": "code",
      "metadata": {
        "colab": {
          "base_uri": "https://localhost:8080/"
        },
        "id": "AXJoVXp5JcVg",
        "outputId": "e7182b7a-15cd-420f-9a39-6e461455ae31"
      },
      "source": [
        "array = np.array([[1,2,3],[4,5,6]], dtype = np.intc)\n",
        "print(array.dtype)\n",
        "print(array.size)\n",
        "print(array.ndim)   #維數\n",
        "print(array.shape)    #陣列形狀"
      ],
      "execution_count": null,
      "outputs": [
        {
          "output_type": "stream",
          "text": [
            "int32\n",
            "6\n",
            "2\n",
            "(2, 3)\n"
          ],
          "name": "stdout"
        }
      ]
    },
    {
      "cell_type": "markdown",
      "metadata": {
        "id": "updZqxhTPjmB"
      },
      "source": [
        "##**陣列函數**##"
      ]
    },
    {
      "cell_type": "markdown",
      "metadata": {
        "id": "t7B8F8jmIA6F"
      },
      "source": [
        "<b><mark>empty(),zeros(),ones(),arrange(),fill()\n",
        "reshape(),flatten(),linspace(),meshgrid(),c_() </mark></b>"
      ]
    },
    {
      "cell_type": "code",
      "metadata": {
        "colab": {
          "base_uri": "https://localhost:8080/"
        },
        "id": "zS7QHWYHJfuc",
        "outputId": "6f7319bf-ffd1-4485-e6e2-b8921580be59"
      },
      "source": [
        "array = np.arange(12).reshape((2,6))  #改變陣列形狀 x=2,Y=6\n",
        "print(array)\n",
        "array = np.arange(12).reshape((3,4)) #改變陣列形狀 x=3,Y=4\n",
        "print(array)"
      ],
      "execution_count": null,
      "outputs": [
        {
          "output_type": "stream",
          "text": [
            "[[ 0  1  2  3  4  5]\n",
            " [ 6  7  8  9 10 11]]\n",
            "[[ 0  1  2  3]\n",
            " [ 4  5  6  7]\n",
            " [ 8  9 10 11]]\n"
          ],
          "name": "stdout"
        }
      ]
    },
    {
      "cell_type": "code",
      "metadata": {
        "colab": {
          "base_uri": "https://localhost:8080/"
        },
        "id": "0a8wvjrRPnT7",
        "outputId": "06cfc26c-afd0-4fff-caa1-465c821f1bfc"
      },
      "source": [
        "# reshape(), flatten()\n",
        "array = np.arange(24).reshape((2,3,4))    #改變陣列形狀 z=2,x=3,Y=4 (三維陣列)\n",
        "print(array)\n",
        "array = array.flatten()   #平坦化陣列\n",
        "print(array)"
      ],
      "execution_count": null,
      "outputs": [
        {
          "output_type": "stream",
          "text": [
            "[[[ 0  1  2  3]\n",
            "  [ 4  5  6  7]\n",
            "  [ 8  9 10 11]]\n",
            "\n",
            " [[12 13 14 15]\n",
            "  [16 17 18 19]\n",
            "  [20 21 22 23]]]\n",
            "[ 0  1  2  3  4  5  6  7  8  9 10 11 12 13 14 15 16 17 18 19 20 21 22 23]\n"
          ],
          "name": "stdout"
        }
      ]
    },
    {
      "cell_type": "markdown",
      "metadata": {
        "id": "qriLZ3-CPttR"
      },
      "source": [
        "---"
      ]
    },
    {
      "cell_type": "code",
      "metadata": {
        "colab": {
          "base_uri": "https://localhost:8080/"
        },
        "id": "_qJbizrsPulK",
        "outputId": "727365bb-d3e9-4cea-d103-4dc98b57d956"
      },
      "source": [
        "#  linspace()\n",
        "array = np.linspace(1,10, 4)    # 起點 1，終點 10，等分為3分 \n",
        "print(array)\n",
        "array = np.linspace(-10, 10, 5) # 起點 -10，終點 10，等分為4分\n",
        "print(array)\n",
        "array = np.linspace(1, 2, 4)    # 起點 1，終點 2，等分為3分\n",
        "print(array)"
      ],
      "execution_count": null,
      "outputs": [
        {
          "output_type": "stream",
          "text": [
            "[ 1.  4.  7. 10.]\n",
            "[-10.  -5.   0.   5.  10.]\n",
            "[1.         1.33333333 1.66666667 2.        ]\n"
          ],
          "name": "stdout"
        }
      ]
    },
    {
      "cell_type": "code",
      "metadata": {
        "colab": {
          "base_uri": "https://localhost:8080/"
        },
        "id": "XI4QAiS6PriS",
        "outputId": "9111c18c-a01a-4832-886e-dd725c92ceb6"
      },
      "source": [
        "x = np.array([1,2,3])\n",
        "y = np.array([0,2])\n",
        "#平面上畫格線，依另一個參數的個數,複製相對應的資料\n",
        "X, Y = np.meshgrid(x, y)    \n",
        "print(X)\n",
        "print(Y)"
      ],
      "execution_count": null,
      "outputs": [
        {
          "output_type": "stream",
          "text": [
            "[[1 2 3]\n",
            " [1 2 3]]\n",
            "[[0 0 0]\n",
            " [2 2 2]]\n"
          ],
          "name": "stdout"
        }
      ]
    },
    {
      "cell_type": "code",
      "metadata": {
        "id": "kpK-UjfbP1Iq",
        "colab": {
          "base_uri": "https://localhost:8080/"
        },
        "outputId": "909f982e-d4f9-4437-e348-cae4638f9410"
      },
      "source": [
        "array1=np.array([1,3,5])\n",
        "array2=np.array([2,4,6])  \n",
        "print(np.c_[array1,array2])   #連接兩個陣列\n",
        "array3=np.array([[1,2,3],[4,5,6]])\n",
        "array4=np.array([[11,12,13],[14,15,16]])\n",
        "print(np.c_[array3,array4])"
      ],
      "execution_count": null,
      "outputs": [
        {
          "output_type": "stream",
          "text": [
            "[[1 2]\n",
            " [3 4]\n",
            " [5 6]]\n",
            "[[ 1  2  3 11 12 13]\n",
            " [ 4  5  6 14 15 16]]\n"
          ],
          "name": "stdout"
        }
      ]
    },
    {
      "cell_type": "markdown",
      "metadata": {
        "id": "28ECdo27GzhZ"
      },
      "source": [
        "#\t**Pandas**\n",
        "<mark><h3>Panel Data (資料分析工具) </mark>"
      ]
    },
    {
      "cell_type": "markdown",
      "metadata": {
        "id": "KF2j9YPCM78-"
      },
      "source": [
        "<b>Pandas 的一維型別稱為Series, 二維型別稱為DataFrame,三維型別稱為Panel </b>"
      ]
    },
    {
      "cell_type": "markdown",
      "metadata": {
        "id": "cFV0rnDLNjEn"
      },
      "source": [
        "##**讀入二維資料檔**"
      ]
    },
    {
      "cell_type": "code",
      "metadata": {
        "id": "SZ6K8kW3agQB",
        "colab": {
          "base_uri": "https://localhost:8080/"
        },
        "outputId": "38bda02b-0aab-4944-9e6c-1a1a9d5e22d2"
      },
      "source": [
        "#將txtName1 檔案讀入二維的DataFrame變數df中\n",
        "df = pd.read_csv(txtName1)  \n",
        "print(df.info())"
      ],
      "execution_count": null,
      "outputs": [
        {
          "output_type": "stream",
          "name": "stdout",
          "text": [
            "<class 'pandas.core.frame.DataFrame'>\n",
            "RangeIndex: 8 entries, 0 to 7\n",
            "Data columns (total 2 columns):\n",
            " #   Column  Non-Null Count  Dtype  \n",
            "---  ------  --------------  -----  \n",
            " 0   遊戲時間    8 non-null      float64\n",
            " 1   分數      8 non-null      int64  \n",
            "dtypes: float64(1), int64(1)\n",
            "memory usage: 256.0 bytes\n",
            "None\n"
          ]
        }
      ]
    },
    {
      "cell_type": "markdown",
      "metadata": {
        "id": "XZrrFT8MQR0I"
      },
      "source": [
        "---"
      ]
    },
    {
      "cell_type": "code",
      "metadata": {
        "colab": {
          "base_uri": "https://localhost:8080/"
        },
        "id": "u0chnF6nGj2o",
        "outputId": "18ccc1ff-8a2a-4e79-8541-b16bf2f94999"
      },
      "source": [
        "# 讀取無標頭\n",
        "df2=pd.read_csv(txtName2, sep='\\t', header=None)\n",
        "# 沒有 header=None 的話，第一筆資料會被誤以為是header\n",
        "print(df2.info()) "
      ],
      "execution_count": null,
      "outputs": [
        {
          "output_type": "stream",
          "name": "stdout",
          "text": [
            "<class 'pandas.core.frame.DataFrame'>\n",
            "RangeIndex: 8 entries, 0 to 7\n",
            "Data columns (total 3 columns):\n",
            " #   Column  Non-Null Count  Dtype\n",
            "---  ------  --------------  -----\n",
            " 0   0       8 non-null      int64\n",
            " 1   1       8 non-null      int64\n",
            " 2   2       8 non-null      int64\n",
            "dtypes: int64(3)\n",
            "memory usage: 320.0 bytes\n",
            "None\n"
          ]
        }
      ]
    },
    {
      "cell_type": "markdown",
      "metadata": {
        "id": "ih780Oi8QS4o"
      },
      "source": [
        "---"
      ]
    },
    {
      "cell_type": "markdown",
      "metadata": {
        "id": "CVSBk7xDQBVm"
      },
      "source": [
        "## **存取DataFrame資料元素** "
      ]
    },
    {
      "cell_type": "code",
      "metadata": {
        "colab": {
          "base_uri": "https://localhost:8080/"
        },
        "id": "AXdvcjzlQRWI",
        "outputId": "b7e78953-dc61-4de4-82f7-1fc62a86659b"
      },
      "source": [
        "# 以df使用[]搭配欄位名稱 ，就可以將 \"遊戲時間\" 整行欄位取出來\n",
        "X=df[\"遊戲時間\"]\n",
        "print(X)"
      ],
      "execution_count": null,
      "outputs": [
        {
          "output_type": "stream",
          "name": "stdout",
          "text": [
            "0     4.3\n",
            "1     9.2\n",
            "2     3.5\n",
            "3     3.0\n",
            "4     2.0\n",
            "5    12.5\n",
            "6     7.5\n",
            "7     5.5\n",
            "Name: 遊戲時間, dtype: float64\n"
          ]
        }
      ]
    },
    {
      "cell_type": "code",
      "metadata": {
        "colab": {
          "base_uri": "https://localhost:8080/"
        },
        "id": "boRYEhicQYbh",
        "outputId": "49178649-fb82-4856-f692-7804205577a2"
      },
      "source": [
        "# 以df使用 .欄位名稱 ，就可以將整行欄位取出來\n",
        "Y=df.分數\n",
        "print(Y)"
      ],
      "execution_count": null,
      "outputs": [
        {
          "output_type": "stream",
          "name": "stdout",
          "text": [
            "0    76\n",
            "1    46\n",
            "2    92\n",
            "3    85\n",
            "4    90\n",
            "5    50\n",
            "6    69\n",
            "7    78\n",
            "Name: 分數, dtype: int64\n"
          ]
        }
      ]
    },
    {
      "cell_type": "code",
      "metadata": {
        "colab": {
          "base_uri": "https://localhost:8080/"
        },
        "id": "dLM2fjd0Qflk",
        "outputId": "8f2b1104-243e-4054-9632-c0a656b9ac49"
      },
      "source": [
        "# 讀取沒有欄位名稱的DataFrame只能用索引\n",
        "X=df2[0]    # 從沒有欄位名稱的DataFrame中讀取整行欄位\n",
        "print(X)"
      ],
      "execution_count": null,
      "outputs": [
        {
          "output_type": "stream",
          "name": "stdout",
          "text": [
            "0    55\n",
            "1    62\n",
            "2    78\n",
            "3    91\n",
            "4    35\n",
            "5    42\n",
            "6    46\n",
            "7    40\n",
            "Name: 0, dtype: int64\n"
          ]
        }
      ]
    },
    {
      "cell_type": "code",
      "metadata": {
        "colab": {
          "base_uri": "https://localhost:8080/"
        },
        "id": "1ywHG_r_QhPg",
        "outputId": "ac45415c-6436-4337-e9ce-c637fc288333"
      },
      "source": [
        "# 準備一個欄位名稱串列, 用 .columns設定欄位名稱\n",
        "header = [\"體重\", \"身高\", \"性別\"]  # 0:男, 1:女\n",
        "df2.columns = header\n",
        "print(df2)"
      ],
      "execution_count": null,
      "outputs": [
        {
          "output_type": "stream",
          "name": "stdout",
          "text": [
            "   體重   身高  性別\n",
            "0  55  168   0\n",
            "1  62  172   0\n",
            "2  78  169   0\n",
            "3  91  182   0\n",
            "4  35  139   1\n",
            "5  42  152   1\n",
            "6  46  160   1\n",
            "7  40  161   1\n"
          ]
        }
      ]
    },
    {
      "cell_type": "markdown",
      "metadata": {
        "id": "xaP6oe-w_RLD"
      },
      "source": [
        "---\n",
        "<font color=red>勘誤：課本【圖8-22】輸出中分數部分"
      ]
    },
    {
      "cell_type": "code",
      "metadata": {
        "colab": {
          "base_uri": "https://localhost:8080/"
        },
        "id": "MTDnFBQJQxiQ",
        "outputId": "62f84419-a48b-44b0-d7dc-3ed7b094b328"
      },
      "source": [
        "#讀取記錄\n",
        "record=df.iloc[1]   # .iloc[1]為讀取索引為1的一筆記錄\n",
        "print(record, end='\\n\\n')\n",
        "records=df.iloc[:2]   # 為讀取前兩筆記錄(索引0,1)\n",
        "print(records, end='\\n\\n')\n",
        "records=df.iloc[::2]    # 為讀取奇數筆記錄(索引0,2,4,6,8)\n",
        "print(records)"
      ],
      "execution_count": null,
      "outputs": [
        {
          "output_type": "stream",
          "name": "stdout",
          "text": [
            "遊戲時間     9.2\n",
            "分數      46.0\n",
            "Name: 1, dtype: float64\n",
            "\n",
            "   遊戲時間  分數\n",
            "0   4.3  76\n",
            "1   9.2  46\n",
            "\n",
            "   遊戲時間  分數\n",
            "0   4.3  76\n",
            "2   3.5  92\n",
            "4   2.0  90\n",
            "6   7.5  69\n"
          ]
        }
      ]
    },
    {
      "cell_type": "markdown",
      "metadata": {
        "id": "V4Y_KUh8_gU4"
      },
      "source": [
        "---\n",
        "<font color=red>勘誤：課本【圖8-23】輸出中分數部分"
      ]
    },
    {
      "cell_type": "code",
      "metadata": {
        "colab": {
          "base_uri": "https://localhost:8080/"
        },
        "id": "kI6_JByaQxlP",
        "outputId": "74e48ee3-5368-4157-ec80-8fa35e1e85b3"
      },
      "source": [
        "recX, recY=record[\"遊戲時間\"], record[\"分數\"]\n",
        "print(recX, recY)"
      ],
      "execution_count": null,
      "outputs": [
        {
          "output_type": "stream",
          "name": "stdout",
          "text": [
            "9.2 46.0\n"
          ]
        }
      ]
    },
    {
      "cell_type": "code",
      "metadata": {
        "colab": {
          "base_uri": "https://localhost:8080/"
        },
        "id": "grLbXxO5QxoH",
        "outputId": "8d151dc0-fab8-458e-9bdb-2e2027f8e838"
      },
      "source": [
        "df.at[1,\"分數\"]=100    #索引為1的記錄中，分數欄位的值\n",
        "print(df.iloc[1])\n",
        "print(df[\"分數\"]) "
      ],
      "execution_count": null,
      "outputs": [
        {
          "output_type": "stream",
          "name": "stdout",
          "text": [
            "遊戲時間      9.2\n",
            "分數      100.0\n",
            "Name: 1, dtype: float64\n",
            "0     76\n",
            "1    100\n",
            "2     92\n",
            "3     85\n",
            "4     90\n",
            "5     50\n",
            "6     69\n",
            "7     78\n",
            "Name: 分數, dtype: int64\n"
          ]
        }
      ]
    },
    {
      "cell_type": "code",
      "metadata": {
        "colab": {
          "base_uri": "https://localhost:8080/"
        },
        "id": "ShGakvf3Q77p",
        "outputId": "95a1a97c-7965-474b-c987-7e2969d6565e"
      },
      "source": [
        "df3=df2.drop([0,2])   #刪除第0,2筆, 但df2 不會刪DataFrame\n",
        "print(df2[:4])    # df2 內容不變\n",
        "print(df3[:4])"
      ],
      "execution_count": null,
      "outputs": [
        {
          "output_type": "stream",
          "name": "stdout",
          "text": [
            "    0    1  2\n",
            "0  55  168  0\n",
            "1  62  172  0\n",
            "2  78  169  0\n",
            "3  91  182  0\n",
            "    0    1  2\n",
            "1  62  172  0\n",
            "3  91  182  0\n",
            "4  35  139  1\n",
            "5  42  152  1\n"
          ]
        }
      ]
    },
    {
      "cell_type": "code",
      "metadata": {
        "colab": {
          "base_uri": "https://localhost:8080/"
        },
        "id": "w4NqbPoAQ7-h",
        "outputId": "b166a454-ff35-4035-eeed-391b48f3a896"
      },
      "source": [
        "df4 = df3.sort_index().reset_index(drop=True) #重設編號 reset_index(drop=True)\n",
        "print(df4)"
      ],
      "execution_count": null,
      "outputs": [
        {
          "output_type": "stream",
          "name": "stdout",
          "text": [
            "    0    1  2\n",
            "0  62  172  0\n",
            "1  91  182  0\n",
            "2  35  139  1\n",
            "3  42  152  1\n",
            "4  46  160  1\n",
            "5  40  161  1\n"
          ]
        }
      ]
    },
    {
      "cell_type": "code",
      "metadata": {
        "colab": {
          "base_uri": "https://localhost:8080/"
        },
        "id": "TwvOSrj1Q8Bg",
        "outputId": "f1e1c119-6c05-438a-ac97-2eb8742f794b"
      },
      "source": [
        "data = {\"身高\":139, \"體重\":35, \"性別\":1}\n",
        "#df2.iloc[0] = data  # 會replace 而不會 insert\n",
        "df2=df2.append(data, ignore_index=True)  # 會加在最後\n",
        "print(df2)"
      ],
      "execution_count": null,
      "outputs": [
        {
          "output_type": "stream",
          "text": [
            "   體重   身高  性別\n",
            "0  55  168   0\n",
            "1  62  172   0\n",
            "2  78  169   0\n",
            "3  91  182   0\n",
            "4  35  139   1\n",
            "5  42  152   1\n",
            "6  46  160   1\n",
            "7  40  161   1\n",
            "8  35  139   1\n"
          ],
          "name": "stdout"
        }
      ]
    },
    {
      "cell_type": "markdown",
      "metadata": {
        "id": "0G_H9PtwBZ1o"
      },
      "source": [
        "##**DataFrame元素過濾與匯出**"
      ]
    },
    {
      "cell_type": "code",
      "metadata": {
        "id": "Uei8aN3EBYvc",
        "colab": {
          "base_uri": "https://localhost:8080/"
        },
        "outputId": "fd61d6b5-6f25-4347-c079-ddb3e64761f3"
      },
      "source": [
        "print(type(df2[\"性別\"]==0)) #回傳一個Series型別的物件\n",
        "print(df2[\"性別\"]==0)   #一個series 物件, 由8個True/False值形成"
      ],
      "execution_count": null,
      "outputs": [
        {
          "output_type": "stream",
          "name": "stdout",
          "text": [
            "<class 'pandas.core.series.Series'>\n",
            "0     True\n",
            "1     True\n",
            "2     True\n",
            "3     True\n",
            "4    False\n",
            "5    False\n",
            "6    False\n",
            "7    False\n",
            "Name: 性別, dtype: bool\n"
          ]
        }
      ]
    },
    {
      "cell_type": "code",
      "metadata": {
        "colab": {
          "base_uri": "https://localhost:8080/"
        },
        "id": "6ALmDihiSq7y",
        "outputId": "6b4e7e21-3b17-47d0-b2ff-4a6578d70624"
      },
      "source": [
        "df3 = df2[df2[\"性別\"]==0] #True的記錄會被過濾出來\n",
        "print(df3)"
      ],
      "execution_count": null,
      "outputs": [
        {
          "output_type": "stream",
          "name": "stdout",
          "text": [
            "   體重   身高  性別\n",
            "0  55  168   0\n",
            "1  62  172   0\n",
            "2  78  169   0\n",
            "3  91  182   0\n"
          ]
        }
      ]
    },
    {
      "cell_type": "code",
      "metadata": {
        "colab": {
          "base_uri": "https://localhost:8080/"
        },
        "id": "zgOUiD7MStq5",
        "outputId": "1d24e582-5b5b-4470-df6f-70440c3d34ff"
      },
      "source": [
        "df3 = df2[df2[\"身高\"]>160]  #身高>160的記錄\n",
        "print(df3)"
      ],
      "execution_count": null,
      "outputs": [
        {
          "output_type": "stream",
          "name": "stdout",
          "text": [
            "   體重   身高  性別\n",
            "0  55  168   0\n",
            "1  62  172   0\n",
            "2  78  169   0\n",
            "3  91  182   0\n",
            "7  40  161   1\n"
          ]
        }
      ]
    },
    {
      "cell_type": "code",
      "metadata": {
        "id": "2s0pG9IZSzsx"
      },
      "source": [
        "df3.to_excel(txtName3)    #滙出excel "
      ],
      "execution_count": null,
      "outputs": []
    },
    {
      "cell_type": "markdown",
      "metadata": {
        "id": "8oAYUUGrB7DJ"
      },
      "source": [
        "# Matplotlib"
      ]
    },
    {
      "cell_type": "markdown",
      "metadata": {
        "id": "lhDMbCbOTHtW"
      },
      "source": [
        "##繪製散點圖**"
      ]
    },
    {
      "cell_type": "code",
      "metadata": {
        "colab": {
          "base_uri": "https://localhost:8080/",
          "height": 265
        },
        "id": "CL6Cah2NTKdX",
        "outputId": "155307a1-6ec4-4962-c517-a9515a222b50"
      },
      "source": [
        "X, Y = [1,2,3,4], [8,5,7,2]\n",
        "plt.grid()      # 顯出格線\n",
        "_=plt.scatter(X, Y, c='b')  #繪出座標, 'b'表藍色\n",
        "plt.savefig(outimg1, dpi= 300)  #300dpi,儲存於雲端"
      ],
      "execution_count": null,
      "outputs": [
        {
          "output_type": "display_data",
          "data": {
            "image/png": "[encoded data removed]",
            "text/plain": [
              "<Figure size 432x288 with 1 Axes>"
            ]
          },
          "metadata": {
            "tags": [],
            "needs_background": "light"
          }
        }
      ]
    },
    {
      "cell_type": "code",
      "metadata": {
        "colab": {
          "base_uri": "https://localhost:8080/",
          "height": 265
        },
        "id": "zhHIn5DITPGe",
        "outputId": "7f3108fc-af1b-4336-892e-616c08a965ad"
      },
      "source": [
        "df = pd.read_csv(txtName1)\n",
        "X, Y=df[\"遊戲時間\"], df[\"分數\"]\n",
        "plt.grid()\n",
        "_=plt.scatter(X, Y, color='r', marker='^', s=80) #三角形,"
      ],
      "execution_count": null,
      "outputs": [
        {
          "output_type": "display_data",
          "data": {
            "image/png": "[encoded data removed]",
            "text/plain": [
              "<Figure size 432x288 with 1 Axes>"
            ]
          },
          "metadata": {
            "tags": [],
            "needs_background": "light"
          }
        }
      ]
    },
    {
      "cell_type": "markdown",
      "metadata": {
        "id": "Lf-e2BUTTULm"
      },
      "source": [
        "##繪製折線圖**"
      ]
    },
    {
      "cell_type": "code",
      "metadata": {
        "colab": {
          "base_uri": "https://localhost:8080/",
          "height": 265
        },
        "id": "MXdsO116TR5-",
        "outputId": "8a67dcfb-8ce9-4a17-e502-153fa071dc10"
      },
      "source": [
        "X, Y = [1,2,3,4], [8,5,7,2]\n",
        "plt.grid()\n",
        "_=plt.plot(X, Y, c='r', linestyle='--') # 設成虛線"
      ],
      "execution_count": null,
      "outputs": [
        {
          "output_type": "display_data",
          "data": {
            "image/png": "[encoded data removed]",
            "text/plain": [
              "<Figure size 432x288 with 1 Axes>"
            ]
          },
          "metadata": {
            "tags": [],
            "needs_background": "light"
          }
        }
      ]
    },
    {
      "cell_type": "code",
      "metadata": {
        "id": "6hjLZ8DrTYwu"
      },
      "source": [
        "X, Y = [1,2,3,4], [3,6,1,3]\n",
        "plt.grid()\n",
        "#符號設成菱形,linestyle設為點線\n",
        "_=plt.plot(X, Y, c='r', ls=':', marker='D') "
      ],
      "execution_count": null,
      "outputs": []
    },
    {
      "cell_type": "code",
      "metadata": {
        "colab": {
          "base_uri": "https://localhost:8080/",
          "height": 265
        },
        "id": "ThJF_4lWTf04",
        "outputId": "3c11c2e3-3073-4d80-8a8d-f5b55a46c88c"
      },
      "source": [
        "監測時間 = list(range(24)) # 24小時血壓監測\n",
        "高血壓=[88, 84, 80, 78, 75, 70, 88, 95, 112, 125, 133, 140, 136,\n",
        "       132, 128, 131, 126, 120, 115, 128, 119, 114, 111, 96]\n",
        "低血壓=[69, 68, 66, 67, 68, 64, 68, 75,  88,  95,  91,  96, 88, \n",
        "       84,  81,  87,  83,  80,  78,  82,  74,  71,  68, 67]\n",
        "plt.grid()\n",
        "_=plt.plot(監測時間, 高血壓, c='r', ls=':', marker='D')\n",
        "_=plt.plot(監測時間, 低血壓, c='b', ls=':', marker='^') "
      ],
      "execution_count": null,
      "outputs": [
        {
          "output_type": "display_data",
          "data": {
            "image/png": "[encoded data removed]",
            "text/plain": [
              "<Figure size 432x288 with 1 Axes>"
            ]
          },
          "metadata": {
            "tags": [],
            "needs_background": "light"
          }
        }
      ]
    },
    {
      "cell_type": "markdown",
      "metadata": {
        "id": "yuP1zZ7pTiZn"
      },
      "source": [
        "##繪製函數圖**"
      ]
    },
    {
      "cell_type": "code",
      "metadata": {
        "colab": {
          "base_uri": "https://localhost:8080/"
        },
        "id": "Zby-qBnsTsYX",
        "outputId": "e135421e-f976-40df-bb37-54bfa73fd240"
      },
      "source": [
        "def func(x):    # 定義函數\n",
        "  if hasattr(x,'__iter__'):\n",
        "    res = []\n",
        "    for i in x: res.append(i**2)\n",
        "    return res\n",
        "  return x**2\n",
        "\n",
        "print(func(2))  \n",
        "print(func([2,3]))"
      ],
      "execution_count": null,
      "outputs": [
        {
          "output_type": "stream",
          "text": [
            "4\n",
            "[4, 9]\n"
          ],
          "name": "stdout"
        }
      ]
    },
    {
      "cell_type": "code",
      "metadata": {
        "colab": {
          "base_uri": "https://localhost:8080/",
          "height": 265
        },
        "id": "HOlQILuATkVh",
        "outputId": "e905ee3d-675f-424e-a653-2b90ec59b1bc"
      },
      "source": [
        "X = np.linspace(-10,10,5) #np.linspace(-10,10,100)\n",
        "Y = func(X)\n",
        "plt.grid()\n",
        "_=plt.plot(X, Y, c='r', marker='x', ls='-.')"
      ],
      "execution_count": null,
      "outputs": [
        {
          "output_type": "display_data",
          "data": {
            "image/png": "[encoded data removed]",
            "text/plain": [
              "<Figure size 432x288 with 1 Axes>"
            ]
          },
          "metadata": {
            "tags": [],
            "needs_background": "light"
          }
        }
      ]
    },
    {
      "cell_type": "markdown",
      "metadata": {
        "id": "3MyHVPjbTw4_"
      },
      "source": [
        "---"
      ]
    },
    {
      "cell_type": "code",
      "metadata": {
        "colab": {
          "base_uri": "https://localhost:8080/",
          "height": 265
        },
        "id": "bGG3XZQwTx93",
        "outputId": "d5fd106c-a2fe-41ac-f42a-1e86d5d2f9db"
      },
      "source": [
        "def func(x):\n",
        "  if hasattr(x,'__iter__'):\n",
        "    res = []\n",
        "    for i in x: res.append(1/i)\n",
        "    return res\n",
        "  return 1/x\n",
        "\n",
        "X = np.linspace(0.1, 2,50) \n",
        "Y = func(X)\n",
        "plt.grid()\n",
        "_=plt.plot(X, Y, c='r', ls=':')"
      ],
      "execution_count": null,
      "outputs": [
        {
          "output_type": "display_data",
          "data": {
            "image/png": "[encoded data removed]",
            "text/plain": [
              "<Figure size 432x288 with 1 Axes>"
            ]
          },
          "metadata": {
            "tags": [],
            "needs_background": "light"
          }
        }
      ]
    },
    {
      "cell_type": "markdown",
      "metadata": {
        "id": "O2SiVEQoT59H"
      },
      "source": [
        "**圖形說明**"
      ]
    },
    {
      "cell_type": "code",
      "metadata": {
        "colab": {
          "base_uri": "https://localhost:8080/",
          "height": 301
        },
        "id": "snzTfYVHT7ln",
        "outputId": "bb8e9673-e86b-445c-c326-72f8356ad6f8"
      },
      "source": [
        "X, Y1, Y2 = [1,2,3,4], [8,5,7,2], [3,6,1,3]\n",
        "s1=plt.scatter(X, Y1, c='b', zorder=2)\n",
        "s2=plt.scatter(X, Y2, c='r', zorder=2, ls=':', marker='d')\n",
        "################\n",
        "plt.xlabel(\"橫軸說明\",fontproperties=font2, fontsize=14)\n",
        "plt.ylabel(\"縱軸說明\",fontproperties=font2, fontsize=14)\n",
        "plt.title(\"標題說明\",fontproperties=font1, fontsize=20)\n",
        "plt.legend((s1, s2), ('Blue dots', 'Red dots'), loc='best')\n",
        "plt.grid(zorder=0)\n",
        "plt.savefig(outimg2, dpi= 300)\n",
        "plt.show()"
      ],
      "execution_count": null,
      "outputs": [
        {
          "output_type": "display_data",
          "data": {
            "image/png": "[encoded data removed]",
            "text/plain": [
              "<Figure size 432x288 with 1 Axes>"
            ]
          },
          "metadata": {
            "tags": [],
            "needs_background": "light"
          }
        }
      ]
    },
    {
      "cell_type": "markdown",
      "metadata": {
        "id": "DUKMonBpUQy-"
      },
      "source": [
        "**製作子圖**"
      ]
    },
    {
      "cell_type": "code",
      "metadata": {
        "colab": {
          "base_uri": "https://localhost:8080/",
          "height": 294
        },
        "id": "Ko9RW8d0USiI",
        "outputId": "ec163542-5939-466d-dac6-2d933ac29b0c"
      },
      "source": [
        "fig , axes = plt.subplots(2, 2, figsize=(8, 4))\n",
        "fig.subplots_adjust(hspace=0.5, wspace=0.5)\n",
        "axes[0][0].plot(監測時間, 高血壓, c='r', ls=':', marker='o')\n",
        "axes[0][0].set_xlabel('監測時間',fontproperties=font1, fontsize=12)\n",
        "axes[0][0].set_ylabel('高血壓',fontproperties=font1, fontsize=12)\n",
        "axes[0][1].grid()\n",
        "axes[0][1].plot(監測時間, 高血壓, c='r', ls=':', marker='o')\n",
        "axes[0][1].plot(監測時間, 低血壓, c='b', ls=':', marker='D')\n",
        "axes[0][1].set_xlabel('監測時間',fontproperties=font1, fontsize=12)\n",
        "axes[0][1].set_ylabel('血壓',fontproperties=font1, fontsize=12)\n",
        "X, Y = [1,2,3,4], [8,5,7,2]\n",
        "axes[1][0].grid()\n",
        "axes[1][0].scatter(X, Y, c='b')\n",
        "df = pd.read_csv(txtName1)\n",
        "X, Y=df[\"遊戲時間\"], df[\"分數\"]\n",
        "axes[1][1].grid()\n",
        "axes[1][1].scatter(X, Y, color='r', marker='^', s=80)\n",
        "plt.suptitle(\"整合子圖範例\",fontproperties=font1, fontsize=20)\n",
        "plt.show()"
      ],
      "execution_count": null,
      "outputs": [
        {
          "output_type": "display_data",
          "data": {
            "image/png": "[encoded data removed]",
            "text/plain": [
              "<Figure size 576x288 with 4 Axes>"
            ]
          },
          "metadata": {
            "tags": [],
            "needs_background": "light"
          }
        }
      ]
    }
  ]
}