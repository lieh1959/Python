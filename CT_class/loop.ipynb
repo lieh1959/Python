{
  "nbformat": 4,
  "nbformat_minor": 0,
  "metadata": {
    "colab": {
      "name": "loop.ipynb",
      "provenance": [],
      "collapsed_sections": [],
      "toc_visible": true
    },
    "kernelspec": {
      "name": "python3",
      "display_name": "Python 3"
    },
    "language_info": {
      "name": "python"
    }
  },
  "cells": [
    {
      "cell_type": "markdown",
      "source": [
        "#<b> <font color='blue'>吳南烈 迴圈作業"
      ],
      "metadata": {
        "id": "gzO_G1BQb3VV"
      }
    },
    {
      "cell_type": "markdown",
      "source": [
        "#<b>練習01: while loop"
      ],
      "metadata": {
        "id": "RcV8Jk4XJggE"
      }
    },
    {
      "cell_type": "markdown",
      "source": [
        "<b>輸入整數N，並輸出1,2,3,…,N。"
      ],
      "metadata": {
        "id": "ZDeIWda9Jy4V"
      }
    },
    {
      "cell_type": "code",
      "execution_count": null,
      "metadata": {
        "id": "BIJcz1uJKR0o",
        "colab": {
          "base_uri": "https://localhost:8080/"
        },
        "outputId": "ff9cd35f-ad9a-4ab6-8581-f2cff310f940"
      },
      "outputs": [
        {
          "output_type": "stream",
          "name": "stdout",
          "text": [
            "輸入整數N:20\n",
            "1, 2, 3, 4, 5, 6, 7, 8, 9, 10, 11, 12, 13, 14, 15, 16, 17, 18, 19, \n",
            "20\n"
          ]
        }
      ],
      "source": [
        "n = int(input('輸入整數N:'))\n",
        "c = 1\n",
        "while c < n:\n",
        "  print(c, end=', ')\n",
        "  c+=1\n",
        "else:\n",
        "  print () #換列\n",
        "  print(c)"
      ]
    },
    {
      "cell_type": "markdown",
      "source": [
        "#<b>練習02:  while loop"
      ],
      "metadata": {
        "id": "DHW-sJKLKF9b"
      }
    },
    {
      "cell_type": "markdown",
      "source": [
        "<b>輸入N，並輸出N, N-1,…, 3, 2, 1。"
      ],
      "metadata": {
        "id": "c3ApJjHdKHz0"
      }
    },
    {
      "cell_type": "code",
      "source": [
        "n = int(input('輸入整數N:'))\n",
        "while n > 1:\n",
        "  print(n, end=', ')\n",
        "  n-=1  \n",
        "else:\n",
        "  print(n) "
      ],
      "metadata": {
        "colab": {
          "base_uri": "https://localhost:8080/"
        },
        "id": "6zpXEh0-KRM6",
        "outputId": "41862271-8982-47ab-e238-9bec7f8f15a3"
      },
      "execution_count": null,
      "outputs": [
        {
          "output_type": "stream",
          "name": "stdout",
          "text": [
            "輸入整數N:20\n",
            "20, 19, 18, 17, 16, 15, 14, 13, 12, 11, 10, 9, 8, 7, 6, 5, 4, 3, 2, 1\n"
          ]
        }
      ]
    },
    {
      "cell_type": "markdown",
      "source": [
        "#<b>練習03: for loop"
      ],
      "metadata": {
        "id": "6pL43DOVKg7E"
      }
    },
    {
      "cell_type": "markdown",
      "source": [
        "<b>輸入N，並輸出1,2,3,…,N。"
      ],
      "metadata": {
        "id": "lOf_PZv1Km7D"
      }
    },
    {
      "cell_type": "code",
      "source": [
        "n=int(input('輸入整數N: '))\n",
        "for i in range(1,n): #1,2,3,...9\n",
        "  print(i, end=', ')\n",
        "else:\n",
        "  print()\n",
        "  print(i+1) #最後被印出的數"
      ],
      "metadata": {
        "colab": {
          "base_uri": "https://localhost:8080/"
        },
        "id": "GfZfQdw2K3KF",
        "outputId": "1fc43cd2-4fc9-4338-b403-e58bf689aac9"
      },
      "execution_count": null,
      "outputs": [
        {
          "output_type": "stream",
          "name": "stdout",
          "text": [
            "輸入整數N: 10\n",
            "1, 2, 3, 4, 5, 6, 7, 8, 9, \n",
            "10\n"
          ]
        }
      ]
    },
    {
      "cell_type": "markdown",
      "source": [
        "#<b>練習04:   巢狀迴圈結構 (nested loop)"
      ],
      "metadata": {
        "id": "8W1fRRt8K9BE"
      }
    },
    {
      "cell_type": "markdown",
      "source": [
        "<b>輸入正整數 M，重複輸出M列，每列包含M個*。"
      ],
      "metadata": {
        "id": "hAUFjrGmK_iE"
      }
    },
    {
      "cell_type": "code",
      "source": [
        "M = int(input('輸入方陣邊長: '))\n",
        "for x in range(M):  \n",
        "  print(\"第{}列: \".format(x+1), end=\" \")\n",
        "  for y in range(M):\n",
        "    print('*', end=' ')\n",
        "  else:\n",
        "    print() #每列結束換行"
      ],
      "metadata": {
        "colab": {
          "base_uri": "https://localhost:8080/"
        },
        "id": "7-Mu-TXuLJss",
        "outputId": "5a65a952-0f36-4666-bb1b-75ad86f7391b"
      },
      "execution_count": null,
      "outputs": [
        {
          "output_type": "stream",
          "name": "stdout",
          "text": [
            "輸入方陣邊長: 7\n",
            "第1列:  * * * * * * * \n",
            "第2列:  * * * * * * * \n",
            "第3列:  * * * * * * * \n",
            "第4列:  * * * * * * * \n",
            "第5列:  * * * * * * * \n",
            "第6列:  * * * * * * * \n",
            "第7列:  * * * * * * * \n"
          ]
        }
      ]
    },
    {
      "cell_type": "markdown",
      "source": [
        "#<b>練習05:  迴圈中斷 (break)"
      ],
      "metadata": {
        "id": "Ii3nLHDtLa2E"
      }
    },
    {
      "cell_type": "markdown",
      "source": [
        "<b>A小姐每天都會運動，並輸入每天的BMI值，她計畫持續運動直到BMI小於25。"
      ],
      "metadata": {
        "id": "37P3ZJtALdPM"
      }
    },
    {
      "cell_type": "code",
      "source": [
        "while True:\n",
        "  print(\"持續運動..\", end=\" \")\n",
        "  bmi = float(input(\"請輸入目前BMI:\"))\n",
        "  if bmi < 25:\n",
        "    print(\"體脂肪達標\")\n",
        "    break"
      ],
      "metadata": {
        "colab": {
          "base_uri": "https://localhost:8080/"
        },
        "id": "QQrVFWLhLoAK",
        "outputId": "46835e1e-aca9-45f8-c75b-fa2fc2abec38"
      },
      "execution_count": null,
      "outputs": [
        {
          "output_type": "stream",
          "name": "stdout",
          "text": [
            "持續運動.. 請輸入目前BMI:35\n",
            "持續運動.. 請輸入目前BMI:32\n",
            "持續運動.. 請輸入目前BMI:30\n",
            "持續運動.. 請輸入目前BMI:28\n",
            "持續運動.. 請輸入目前BMI:27\n",
            "持續運動.. 請輸入目前BMI:24\n",
            "體脂肪達標\n"
          ]
        }
      ]
    },
    {
      "cell_type": "markdown",
      "source": [
        "#<b>問題1"
      ],
      "metadata": {
        "id": "xy7y2GZMF8Kf"
      }
    },
    {
      "cell_type": "markdown",
      "source": [
        "<b>請使用迴圈敍述撰寫一程式，讓使用者輸入兩個正整數a、b(a<b)，利用迴圈計算從a 開始連續加到b，計算其總和。例如:輸入a=1、b=100，則輸出結果為5050(1+2+...100=5050)\n",
        "\n",
        "輸入: 兩個正整數 (a、b，且 a<b) <br>\n",
        "輸出: 計算從a 開始連加到b的總和"
      ],
      "metadata": {
        "id": "LEpjPRrLGHfm"
      }
    },
    {
      "cell_type": "code",
      "source": [
        "# 簡易迴圈 ,例如:輸入a=1、b=100，則輸出結果為5050(1+2+...100=5050)\n",
        "a=int(input(\"輸入a:\"))\n",
        "b=int(input(\"輸入b:\"))\n",
        "ans=0   #先將答案設為0\n",
        "\n",
        "for i in range(a,b+1):\n",
        "  print(i,end=' ')\n",
        "  ans+=i\n",
        "print(\"答案為:\",ans)"
      ],
      "metadata": {
        "colab": {
          "base_uri": "https://localhost:8080/"
        },
        "id": "LAJn7grJGXk_",
        "outputId": "4f86e6ba-503a-4328-c1ae-179171f900f0"
      },
      "execution_count": null,
      "outputs": [
        {
          "output_type": "stream",
          "name": "stdout",
          "text": [
            "輸入a:1\n",
            "輸入b:10\n",
            "1 2 3 4 5 6 7 8 9 10 答案為: 55\n"
          ]
        }
      ]
    },
    {
      "cell_type": "markdown",
      "source": [
        "#<b>問題2"
      ],
      "metadata": {
        "id": "zq2UixLIHBIf"
      }
    },
    {
      "cell_type": "markdown",
      "source": [
        "<b>\n",
        "請使用迴圈敍述撰寫一程式，讓使用者輸入一個正整數(<100)，然後以三角形的方式依序輸出此數的階乘結果\n",
        "\n",
        "輸入: 一個正整數 (<100) <br>\n",
        "輸出: 以三角形的方式依序輸出此數的階乘結果"
      ],
      "metadata": {
        "id": "dpNopZQMHIQ_"
      }
    },
    {
      "cell_type": "code",
      "source": [
        "# 巢狀迴圈\n",
        "num=eval(input(\"輸入一小於100正整數:\"))\n",
        "for i in range(1,num+1):\n",
        "  for j in range(1,i+1):\n",
        "    print(\"%4d\"%(i+j),end='')\n",
        "  print()"
      ],
      "metadata": {
        "colab": {
          "base_uri": "https://localhost:8080/"
        },
        "id": "4yLA1PvJIjBH",
        "outputId": "55b5b007-b8bf-4f61-c332-81ab5f0fdbb3"
      },
      "execution_count": null,
      "outputs": [
        {
          "output_type": "stream",
          "name": "stdout",
          "text": [
            "輸入一小於100正整數:10\n",
            "   2\n",
            "   3   4\n",
            "   4   5   6\n",
            "   5   6   7   8\n",
            "   6   7   8   9  10\n",
            "   7   8   9  10  11  12\n",
            "   8   9  10  11  12  13  14\n",
            "   9  10  11  12  13  14  15  16\n",
            "  10  11  12  13  14  15  16  17  18\n",
            "  11  12  13  14  15  16  17  18  19  20\n"
          ]
        }
      ]
    },
    {
      "cell_type": "markdown",
      "source": [
        "#<b>問題3"
      ],
      "metadata": {
        "id": "3NVGATeiVya-"
      }
    },
    {
      "cell_type": "markdown",
      "source": [
        "<mark><b>請使用迴圈敍述撰寫一程式，讓使用者輸入一個正整數a，利用迴圈計算從1到 a之間，所有 5之倍數數字總和 </mark>\n",
        "\n",
        "輸入: 一個正整數 <br>\n",
        "輸出: 所有5之倍數數字總和"
      ],
      "metadata": {
        "id": "H2QnsGEbV46l"
      }
    },
    {
      "cell_type": "code",
      "source": [
        "# 迴圈倍數總和\n",
        "num=eval(input(\"輸入一正整數:\"))\n",
        "ans=0;    # ans歸0\n",
        "for i in range(1,num+1):\n",
        "  if i%5==0:\n",
        "    ans+=i  #ans=ans+1\n",
        "print(\"ans=\",ans)"
      ],
      "metadata": {
        "colab": {
          "base_uri": "https://localhost:8080/"
        },
        "id": "RRutBjjaWHoN",
        "outputId": "2e729383-f26c-4b2c-ae3d-3b3c6b2dbf9b"
      },
      "execution_count": null,
      "outputs": [
        {
          "output_type": "stream",
          "name": "stdout",
          "text": [
            "輸入一正整數:100\n",
            "ans= 1050\n"
          ]
        }
      ]
    }
  ]
}