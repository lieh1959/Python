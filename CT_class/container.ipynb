{
  "nbformat": 4,
  "nbformat_minor": 0,
  "metadata": {
    "colab": {
      "name": "container.ipynb",
      "provenance": [],
      "collapsed_sections": [],
      "toc_visible": true
    },
    "kernelspec": {
      "name": "python3",
      "display_name": "Python 3"
    },
    "language_info": {
      "name": "python"
    }
  },
  "cells": [
    {
      "cell_type": "markdown",
      "source": [
        "#<b> <font color='blue'>吳南烈 容器作業\n",
        "\n",
        "---\n",
        "\n"
      ],
      "metadata": {
        "id": "L775npACuVcz"
      }
    },
    {
      "cell_type": "markdown",
      "source": [
        "#<b>練習01 ~~串列 </b>\n",
        "串列-list 中可以放什麼?\n",
        "ans: 字元, 字串, 數字  這是最常見的\n",
        "<font color='red'>此外, 串列中也可以放入串列 </font>"
      ],
      "metadata": {
        "id": "q53xJkxteYP2"
      }
    },
    {
      "cell_type": "markdown",
      "source": [
        "##<b>數字串列"
      ],
      "metadata": {
        "id": "nPpdH3gsjafY"
      }
    },
    {
      "cell_type": "code",
      "execution_count": null,
      "metadata": {
        "id": "ZjkvZ7Cz1U6e",
        "colab": {
          "base_uri": "https://localhost:8080/"
        },
        "outputId": "184d5a7f-b44a-4cf9-b54a-7f1b096d9aff"
      },
      "outputs": [
        {
          "output_type": "stream",
          "name": "stdout",
          "text": [
            "4\n",
            "10\n"
          ]
        }
      ],
      "source": [
        "a_list=[1,4,5,8,9,10]\n",
        "type(a_list)\n",
        "print(a_list[1])\n",
        "print(a_list[6])  #index out of number"
      ]
    },
    {
      "cell_type": "markdown",
      "source": [
        "##<b>文字串列"
      ],
      "metadata": {
        "id": "c6qu6XM5jha2"
      }
    },
    {
      "cell_type": "code",
      "source": [
        "str_list=['p','y','t','h','o','n']\n",
        "print(str_list)\n",
        "str_list[0]"
      ],
      "metadata": {
        "id": "k6zVbytJfyF6",
        "colab": {
          "base_uri": "https://localhost:8080/",
          "height": 52
        },
        "outputId": "a46b4757-5afe-4d12-a814-5ea4197d45aa"
      },
      "execution_count": null,
      "outputs": [
        {
          "output_type": "stream",
          "name": "stdout",
          "text": [
            "['p', 'y', 't', 'h', 'o', 'n']\n"
          ]
        },
        {
          "output_type": "execute_result",
          "data": {
            "text/plain": [
              "'p'"
            ],
            "application/vnd.google.colaboratory.intrinsic+json": {
              "type": "string"
            }
          },
          "metadata": {},
          "execution_count": 12
        }
      ]
    },
    {
      "cell_type": "markdown",
      "source": [
        "##<b>字串轉成串列"
      ],
      "metadata": {
        "id": "1NyNOFZhjqQc"
      }
    },
    {
      "cell_type": "code",
      "source": [
        "# 字串經過split()處理後的型態，就變成串列\n",
        "str_msg=\"I love Python\"\n",
        "b_list=str_msg.split() \n",
        "print(b_list)\n",
        "print(b_list[1],b_list[2])\n",
        "type(b_list)"
      ],
      "metadata": {
        "colab": {
          "base_uri": "https://localhost:8080/"
        },
        "id": "AEv53SQCg46x",
        "outputId": "450d4d81-9cda-4ef1-b1f0-1e8cc329f0b2"
      },
      "execution_count": null,
      "outputs": [
        {
          "output_type": "stream",
          "name": "stdout",
          "text": [
            "['I', 'love', 'Python']\n",
            "love Python\n"
          ]
        },
        {
          "output_type": "execute_result",
          "data": {
            "text/plain": [
              "list"
            ]
          },
          "metadata": {},
          "execution_count": 15
        }
      ]
    },
    {
      "cell_type": "markdown",
      "source": [
        "##<b>將字串拆成字母"
      ],
      "metadata": {
        "id": "RPOUk647j0Lt"
      }
    },
    {
      "cell_type": "code",
      "source": [
        "#將一個字串拆成字元以組成串列,使用list()函數即可\n",
        "str_msg=\"I love Python\"\n",
        "c_list=list(str_msg)  #字串轉成串列\n",
        "print(c_list)\n",
        "type(c_list)"
      ],
      "metadata": {
        "colab": {
          "base_uri": "https://localhost:8080/"
        },
        "id": "I1JZLKSoiSQh",
        "outputId": "fcd8717c-44aa-477a-8dbe-b8e44b17b6cb"
      },
      "execution_count": null,
      "outputs": [
        {
          "output_type": "stream",
          "name": "stdout",
          "text": [
            "['I', ' ', 'l', 'o', 'v', 'e', ' ', 'P', 'y', 't', 'h', 'o', 'n']\n"
          ]
        },
        {
          "output_type": "execute_result",
          "data": {
            "text/plain": [
              "list"
            ]
          },
          "metadata": {},
          "execution_count": 16
        }
      ]
    },
    {
      "cell_type": "markdown",
      "source": [
        "##<b>串列中放串列"
      ],
      "metadata": {
        "id": "Ua0WUgF8nJWU"
      }
    },
    {
      "cell_type": "code",
      "source": [
        "#串列可以存放不同資料型態,也可以有其他的串列\n",
        "k1=['book',10]\n",
        "k2=['campus',15]\n",
        "k3=['cook',9]\n",
        "k4=['Python',26]\n",
        "keywords=[k1,k2,k3,k4] # 4*2陣列\n",
        "print(keywords)\n",
        "print(keywords[2])    #index=2, 第二列\n",
        "print(keywords[2][0]) # row=2,colum=0 \n",
        "print(keywords[2][1]) # row=2,colum=1 "
      ],
      "metadata": {
        "colab": {
          "base_uri": "https://localhost:8080/"
        },
        "id": "3vdczAU0kjic",
        "outputId": "41320434-c376-448f-8596-d5347985dc28"
      },
      "execution_count": null,
      "outputs": [
        {
          "output_type": "stream",
          "name": "stdout",
          "text": [
            "[['book', 10], ['campus', 15], ['cook', 9], ['Python', 26]]\n",
            "['cook', 9]\n",
            "cook\n",
            "9\n"
          ]
        }
      ]
    },
    {
      "cell_type": "markdown",
      "source": [
        "##<b>串列其它操作"
      ],
      "metadata": {
        "id": "L3yuQY1dnm5r"
      }
    },
    {
      "cell_type": "code",
      "source": [
        "'Python' in k1"
      ],
      "metadata": {
        "id": "ftuptty8oM6R",
        "colab": {
          "base_uri": "https://localhost:8080/"
        },
        "outputId": "237131e8-3b36-4a8f-d254-0dfb73d004d4"
      },
      "execution_count": null,
      "outputs": [
        {
          "output_type": "execute_result",
          "data": {
            "text/plain": [
              "False"
            ]
          },
          "metadata": {},
          "execution_count": 21
        }
      ]
    },
    {
      "cell_type": "code",
      "source": [
        "'Python' in k4"
      ],
      "metadata": {
        "id": "rOklcBxfpAdJ",
        "colab": {
          "base_uri": "https://localhost:8080/"
        },
        "outputId": "635d6a33-9c24-4c66-a798-33826d426821"
      },
      "execution_count": null,
      "outputs": [
        {
          "output_type": "execute_result",
          "data": {
            "text/plain": [
              "True"
            ]
          },
          "metadata": {},
          "execution_count": 22
        }
      ]
    },
    {
      "cell_type": "code",
      "source": [
        "'Python' in keywords"
      ],
      "metadata": {
        "colab": {
          "base_uri": "https://localhost:8080/"
        },
        "id": "7mg_5wlopKsV",
        "outputId": "56d3c410-c852-4626-80e4-a273ad5583c5"
      },
      "execution_count": null,
      "outputs": [
        {
          "output_type": "execute_result",
          "data": {
            "text/plain": [
              "False"
            ]
          },
          "metadata": {},
          "execution_count": 23
        }
      ]
    },
    {
      "cell_type": "code",
      "source": [
        "['Python',26] in keywords"
      ],
      "metadata": {
        "colab": {
          "base_uri": "https://localhost:8080/"
        },
        "id": "d5kZvLz-pQfV",
        "outputId": "6f3e949f-7b40-46c8-e06c-579e0849a09a"
      },
      "execution_count": null,
      "outputs": [
        {
          "output_type": "execute_result",
          "data": {
            "text/plain": [
              "True"
            ]
          },
          "metadata": {},
          "execution_count": 24
        }
      ]
    },
    {
      "cell_type": "code",
      "source": [
        "keywords+k1+k2"
      ],
      "metadata": {
        "colab": {
          "base_uri": "https://localhost:8080/"
        },
        "id": "9n7W6Zzlpibb",
        "outputId": "d594ec24-40db-4e3d-f0b4-c5340393d016"
      },
      "execution_count": null,
      "outputs": [
        {
          "output_type": "execute_result",
          "data": {
            "text/plain": [
              "[['book', 10],\n",
              " ['campus', 15],\n",
              " ['cook', 9],\n",
              " ['Python', 26],\n",
              " 'book',\n",
              " 10,\n",
              " 'campus',\n",
              " 15]"
            ]
          },
          "metadata": {},
          "execution_count": 14
        }
      ]
    },
    {
      "cell_type": "markdown",
      "source": [
        "#<b>練習02~~Dict字典\n",
        "<font color='blue'>改用key為索引,對於文字查詢與應用更為方便"
      ],
      "metadata": {
        "id": "6NLmezHGqZtG"
      }
    },
    {
      "cell_type": "markdown",
      "source": [
        "##<b>建立字典"
      ],
      "metadata": {
        "id": "seFTwIgzt0Lp"
      }
    },
    {
      "cell_type": "code",
      "source": [
        "a={'a':1,'b':2} #a 是一個字典(dict)\n",
        "type (a)"
      ],
      "metadata": {
        "colab": {
          "base_uri": "https://localhost:8080/"
        },
        "id": "VSdkrkQKKWsZ",
        "outputId": "4557e93e-8c71-4fda-cd8c-f14842ca5ebc"
      },
      "execution_count": null,
      "outputs": [
        {
          "output_type": "execute_result",
          "data": {
            "text/plain": [
              "dict"
            ]
          },
          "metadata": {},
          "execution_count": 28
        }
      ]
    },
    {
      "cell_type": "code",
      "source": [
        "keywords={} #空字典\n",
        "keywords['book']=10\n",
        "keywords['campus']=15\n",
        "keywords['cook']=9\n",
        "keywords['Python']=26\n",
        "type(keywords)\n",
        "print(keywords['Python'])\n",
        "print(keywords)    #印出字典"
      ],
      "metadata": {
        "colab": {
          "base_uri": "https://localhost:8080/"
        },
        "id": "5_pH3NvFrEEk",
        "outputId": "4e4c57c3-93bb-4e6a-e289-123ce1e095e4"
      },
      "execution_count": null,
      "outputs": [
        {
          "output_type": "stream",
          "name": "stdout",
          "text": [
            "26\n",
            "{'book': 10, 'campus': 15, 'cook': 9, 'Python': 26}\n"
          ]
        }
      ]
    },
    {
      "cell_type": "code",
      "source": [
        "#建立字典\n",
        "week_={'Mon.':'星期一' ,'Tue.':'星期二', 'Wed.':'星期三',\\\n",
        "  'Thur.':'星期四', 'Fri.':'星期五' , \\\n",
        "  'Sat.':'星期六', 'Sun.':'星期日'}\n",
        "print (week_)\n",
        "print (week_.keys())\n",
        "print (week_.values())"
      ],
      "metadata": {
        "colab": {
          "base_uri": "https://localhost:8080/"
        },
        "id": "v_JxsgezMkQx",
        "outputId": "427fb40f-dd42-4fbd-ff88-2fa5b0c15002"
      },
      "execution_count": null,
      "outputs": [
        {
          "output_type": "stream",
          "name": "stdout",
          "text": [
            "{'Mon.': '星期一', 'Tue.': '星期二', 'Wed.': '星期三', 'Thur.': '星期四', 'Fri.': '星期五', 'Sat.': '星期六', 'Sun.': '星期日'}\n",
            "dict_keys(['Mon.', 'Tue.', 'Wed.', 'Thur.', 'Fri.', 'Sat.', 'Sun.'])\n",
            "dict_values(['星期一', '星期二', '星期三', '星期四', '星期五', '星期六', '星期日'])\n"
          ]
        }
      ]
    },
    {
      "cell_type": "code",
      "source": [
        "week=dict() #建立字典的另一種方式\n",
        "week['Mon.']='星期一'\n",
        "week['Tue.']='星期二'\n",
        "week['Wed.']='星期三'\n",
        "week['Thur.']='星期四'\n",
        "week['Fri.']='星期五'\n",
        "week['Sat.']='星期六'\n",
        "week['Sun.']='星期日'\n",
        "week\n",
        "#-------------------------------\n",
        "print(week['Fri.'])\n",
        "print(week.keys())\n",
        "print(week.values())"
      ],
      "metadata": {
        "colab": {
          "base_uri": "https://localhost:8080/"
        },
        "id": "wzjmxstptVwn",
        "outputId": "79fb8fbb-62ad-4acf-d221-2fa630ca3fa4"
      },
      "execution_count": null,
      "outputs": [
        {
          "output_type": "stream",
          "name": "stdout",
          "text": [
            "星期五\n",
            "dict_keys(['Mon.', 'Tue.', 'Wed.', 'Thur.', 'Fri.', 'Sat.', 'Sun.'])\n",
            "dict_values(['星期一', '星期二', '星期三', '星期四', '星期五', '星期六', '星期日'])\n"
          ]
        }
      ]
    },
    {
      "cell_type": "markdown",
      "source": [
        "#<b>練習03~~ set 集合\n"
      ],
      "metadata": {
        "id": "N3BVFeqEJJ2v"
      }
    },
    {
      "cell_type": "markdown",
      "source": [
        ""
      ],
      "metadata": {
        "id": "dkGWgAeIJhSY"
      }
    },
    {
      "cell_type": "code",
      "source": [
        "a={}  #這是字典,不是空集合\n",
        "type (a)"
      ],
      "metadata": {
        "colab": {
          "base_uri": "https://localhost:8080/"
        },
        "id": "kYsrgouBJiv3",
        "outputId": "1db212a3-a0b6-48bd-e2fd-8d35605711ec"
      },
      "execution_count": null,
      "outputs": [
        {
          "output_type": "execute_result",
          "data": {
            "text/plain": [
              "dict"
            ]
          },
          "metadata": {},
          "execution_count": 25
        }
      ]
    },
    {
      "cell_type": "code",
      "source": [
        "b={1,2,3,4,5} #b為集合\n",
        "type(b)"
      ],
      "metadata": {
        "colab": {
          "base_uri": "https://localhost:8080/"
        },
        "id": "ihO43dEWJ1LQ",
        "outputId": "53d9413f-a64c-4a07-b75a-c00c2bd551cd"
      },
      "execution_count": null,
      "outputs": [
        {
          "output_type": "execute_result",
          "data": {
            "text/plain": [
              "set"
            ]
          },
          "metadata": {},
          "execution_count": 16
        }
      ]
    },
    {
      "cell_type": "code",
      "source": [
        "c=set() #c為集合變數\n",
        "type(c)"
      ],
      "metadata": {
        "colab": {
          "base_uri": "https://localhost:8080/"
        },
        "id": "Lmepg7p3J_jo",
        "outputId": "fbe08947-de2f-4de2-9a16-4f79c4d4b48b"
      },
      "execution_count": null,
      "outputs": [
        {
          "output_type": "execute_result",
          "data": {
            "text/plain": [
              "set"
            ]
          },
          "metadata": {},
          "execution_count": 17
        }
      ]
    },
    {
      "cell_type": "markdown",
      "source": [
        "<b> 數學上的集合運算有「and」「or」「XOR」，\n",
        "在Python中分別對應符號 「&」「|」「^」"
      ],
      "metadata": {
        "id": "rofzM841L29a"
      }
    },
    {
      "cell_type": "code",
      "source": [
        "a={1,2,3,4,5}\n",
        "b={1,3,5,7,9}"
      ],
      "metadata": {
        "id": "JdKBaDlBMcXq"
      },
      "execution_count": null,
      "outputs": []
    },
    {
      "cell_type": "code",
      "source": [
        "a&b   #交集"
      ],
      "metadata": {
        "colab": {
          "base_uri": "https://localhost:8080/"
        },
        "id": "m48w8LvmMpuB",
        "outputId": "b007af15-29e7-41d4-bca7-8b00a52a4ea3"
      },
      "execution_count": null,
      "outputs": [
        {
          "output_type": "execute_result",
          "data": {
            "text/plain": [
              "{1, 3, 5}"
            ]
          },
          "metadata": {},
          "execution_count": 27
        }
      ]
    },
    {
      "cell_type": "code",
      "source": [
        "a|b #聯集"
      ],
      "metadata": {
        "colab": {
          "base_uri": "https://localhost:8080/"
        },
        "id": "wy4nJgT9Ns3S",
        "outputId": "2a3531e3-06b4-438f-e8c5-6e888a24e8cf"
      },
      "execution_count": null,
      "outputs": [
        {
          "output_type": "execute_result",
          "data": {
            "text/plain": [
              "{1, 2, 3, 4, 5, 7, 9}"
            ]
          },
          "metadata": {},
          "execution_count": 14
        }
      ]
    },
    {
      "cell_type": "code",
      "source": [
        "a^b  #a與b不同的元素, XOR"
      ],
      "metadata": {
        "colab": {
          "base_uri": "https://localhost:8080/"
        },
        "id": "TcRbJ71PNvNR",
        "outputId": "2904ae9b-21f3-471f-970b-5768e1fa7953"
      },
      "execution_count": null,
      "outputs": [
        {
          "output_type": "execute_result",
          "data": {
            "text/plain": [
              "{2, 4, 7, 9}"
            ]
          },
          "metadata": {},
          "execution_count": 15
        }
      ]
    },
    {
      "cell_type": "code",
      "source": [
        "a-b #差集"
      ],
      "metadata": {
        "colab": {
          "base_uri": "https://localhost:8080/"
        },
        "id": "5HcH_wilODua",
        "outputId": "6c4c79e1-5a66-43f5-8659-7b89ef862004"
      },
      "execution_count": null,
      "outputs": [
        {
          "output_type": "execute_result",
          "data": {
            "text/plain": [
              "{2, 4}"
            ]
          },
          "metadata": {},
          "execution_count": 16
        }
      ]
    },
    {
      "cell_type": "markdown",
      "source": [
        "#**問題1**"
      ],
      "metadata": {
        "id": "KTyOhHbDIOw9"
      }
    },
    {
      "cell_type": "markdown",
      "source": [
        "<h3><b>請撰寫一程式，讓使用者輸入52張牌中的5張，計算並輸出其總和\n",
        " *提示: J、Q、K及A 分別代表11、12、13、14 </b>\n",
        "<pre>\n",
        "輸入: 5張牌數  \n",
        "輸出: 5張牌的數值總和"
      ],
      "metadata": {
        "id": "ALNbA7XzISJ1"
      }
    },
    {
      "cell_type": "code",
      "source": [
        "#請撰寫一程式，讓使用者輸入52張牌中的5張，計算並輸出其總和\n",
        "# *提示: J、Q、K及A 分別代表11、12、13、14\n",
        "cards =[]\n",
        "result =0\n",
        "for i in range(5):\n",
        "  cards.append(input())\n",
        " \n",
        "for i in range(5):\n",
        "  if cards[i]=='A': result +=1\n",
        "  elif cards[i]=='J': result +=11\n",
        "  elif cards[i]=='Q': result +=12\n",
        "  elif cards[i]=='K': result +=13\n",
        "  elif cards[i]=='10': result +=10\n",
        "  else:\n",
        "    result +=eval(cards[i])   #  串列中的資料加總\n",
        " \n",
        "print(result)"
      ],
      "metadata": {
        "id": "sHgnp3yBItSl"
      },
      "execution_count": null,
      "outputs": []
    },
    {
      "cell_type": "markdown",
      "source": [
        "#**問題2**"
      ],
      "metadata": {
        "id": "ZabEni-fJ3gt"
      }
    },
    {
      "cell_type": "markdown",
      "source": [
        "<b><h3>  以大樂透電腦選號來探討有關串列程式的撰寫  \n",
        "請撰寫一程式，以亂數產生六個1~49的亂數 </b>"
      ],
      "metadata": {
        "id": "8j49WmY7KGOG"
      }
    },
    {
      "cell_type": "code",
      "source": [
        "import random \n",
        "lotto=[] #亂數函數產生的資料串列\n",
        "n=1\n",
        "while n<=6:\n",
        "  randNum=random.randint(1,49)\n",
        "  if randNum not in lotto:\n",
        "    lotto.append(randNum)\n",
        "    n+=1\n",
        "\n",
        "print(\"The lottery numbers are:\\n\",end='')\n",
        "for i in lotto:\n",
        "  print('%4d'%(i),end=' ')\n",
        "print()\n",
        "#----------sorting-------------------------------------\n",
        "lotto.sort()    # 序列排序\n",
        "print('After sorting:')\n",
        "for i in lotto:\n",
        "  print('%4d'%(i),end=' ')\n",
        "print()"
      ],
      "metadata": {
        "colab": {
          "base_uri": "https://localhost:8080/"
        },
        "id": "3oTbhNH2KbsO",
        "outputId": "9dd80af0-3010-448e-f3cb-123d157fe38b"
      },
      "execution_count": null,
      "outputs": [
        {
          "output_type": "stream",
          "name": "stdout",
          "text": [
            "The lottery numbers are:\n",
            "  10   21   27   40   32   17 \n",
            "After sorting:\n",
            "  10   17   21   27   32   40 \n"
          ]
        }
      ]
    },
    {
      "cell_type": "markdown",
      "source": [
        "#**問題3**"
      ],
      "metadata": {
        "id": "iFyz7rXILmmv"
      }
    },
    {
      "cell_type": "markdown",
      "source": [
        "<h3><b>請寫一程式，輸入數個整數並儲存至集合，以輸入-9999為結束點(集合中不含-9999)，最後顯示該集合的長度(Length)、最大值(Max)、最小值(Min)、總和 (Sum) </b>"
      ],
      "metadata": {
        "id": "5f9pVhabLr-v"
      }
    },
    {
      "cell_type": "code",
      "source": [
        "num=set()\n",
        "while True:\n",
        "  inp= eval(input(\"輸入整數(-9999為結束點):\"))\n",
        "  if inp== -9999:\n",
        "    break\n",
        "  num.add(inp)      #加入此數到集合num\n",
        "\n",
        "print(\"Length:\", len(num))\n",
        "print(\"Max:\",max(num))\n",
        "print(\"Min:\",min(num))\n",
        "print(\"Sum:\",sum(num))"
      ],
      "metadata": {
        "colab": {
          "base_uri": "https://localhost:8080/"
        },
        "id": "R8YId8uKL7RG",
        "outputId": "f251d4d1-70a7-4f17-e995-18c87135561b"
      },
      "execution_count": null,
      "outputs": [
        {
          "output_type": "stream",
          "name": "stdout",
          "text": [
            "輸入整數(-9999為結束點):855\n",
            "輸入整數(-9999為結束點):658\n",
            "輸入整數(-9999為結束點):324\n",
            "輸入整數(-9999為結束點):-9999\n",
            "Length: 3\n",
            "Max: 855\n",
            "Min: 324\n",
            "Sum: 1837\n"
          ]
        }
      ]
    },
    {
      "cell_type": "markdown",
      "source": [
        "#<b>問題4"
      ],
      "metadata": {
        "id": "_xc_DxguMm6_"
      }
    },
    {
      "cell_type": "markdown",
      "source": [
        "<b><h3>旅遊地點調查實例。  \n",
        "目的: 練習如何將資料存入字典及輸出  </b> <br><h4>\n",
        "輸入: 名字及旅遊地點，然後存入<strong>survey_dict 字典, key: name, value:</strong> <br> travel_location。 輸入完程式會詢問是否有人要輸入。 <br>\n",
        "輸出：程式結束前會輸出調查結果 "
      ],
      "metadata": {
        "id": "cYL1cgDaMsf3"
      }
    },
    {
      "cell_type": "code",
      "source": [
        "survey_dict = {}                        # 建立市場調查空字典\n",
        "market_survey = True                    # 設定迴圈布林值     \n",
        "\n",
        "# 讀取參加市場調查者姓名和夢幻旅遊景點\n",
        "while market_survey:\n",
        "    name = input(\"\\n請輸入姓名  : \")\n",
        "    travel_location = input(\"夢幻旅遊景點: \")\n",
        "# 將輸入存入survey_dict字典\n",
        "    survey_dict[name] = travel_location\n",
        "# 可由此決定是否離開市場調查\n",
        "    repeat = input(\"是否有人要參加市場調查?(y/n) \")\n",
        "    if repeat != 'y':               # 不是輸入y,則離開while迴圈\n",
        "        market_survey = False\n",
        "\n",
        "# 市場調查結束\n",
        "print(\"\\n\\n以下是市場調查的結果\")\n",
        "for user, location in survey_dict.items( ):\n",
        "    print(user, \"夢幻旅遊景點: \", location)"
      ],
      "metadata": {
        "colab": {
          "base_uri": "https://localhost:8080/"
        },
        "id": "v3a3kQrfR_jZ",
        "outputId": "3e6dd4dd-4325-4a5b-cb65-dee843256769"
      },
      "execution_count": null,
      "outputs": [
        {
          "output_type": "stream",
          "name": "stdout",
          "text": [
            "\n",
            "請輸入姓名  : samuel\n",
            "夢幻旅遊景點: Tainan\n",
            "是否有人要參加市場調查?(y/n) y\n",
            "\n",
            "請輸入姓名  : lily\n",
            "夢幻旅遊景點: Japan\n",
            "是否有人要參加市場調查?(y/n) n\n",
            "\n",
            "\n",
            "以下是市場調查的結果\n",
            "samuel 夢幻旅遊景點:  Tainan\n",
            "lily 夢幻旅遊景點:  Japan\n"
          ]
        }
      ]
    }
  ]
}