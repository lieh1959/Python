{
  "nbformat": 4,
  "nbformat_minor": 0,
  "metadata": {
    "colab": {
      "name": "function.ipynb",
      "provenance": [],
      "toc_visible": true
    },
    "kernelspec": {
      "name": "python3",
      "display_name": "Python 3"
    },
    "language_info": {
      "name": "python"
    }
  },
  "cells": [
    {
      "cell_type": "markdown",
      "source": [
        "#<b> <font color='blue'>吳南烈 函數作業"
      ],
      "metadata": {
        "id": "Mr7j3jjzbZJF"
      }
    },
    {
      "cell_type": "code",
      "source": [
        ""
      ],
      "metadata": {
        "id": "1Hac42yem_9x"
      },
      "execution_count": null,
      "outputs": []
    },
    {
      "cell_type": "markdown",
      "source": [
        "#匯入Google Colab模組"
      ],
      "metadata": {
        "id": "rLgk1azvJKgN"
      }
    },
    {
      "cell_type": "code",
      "source": [
        "from google.colab import drive\n",
        "drive.mount('/content/drive')  #雲端硬碟掛載"
      ],
      "metadata": {
        "colab": {
          "base_uri": "https://localhost:8080/"
        },
        "id": "FTMTH38fJSu1",
        "outputId": "67248757-0d95-4209-fefb-c677ecc7055d"
      },
      "execution_count": 26,
      "outputs": [
        {
          "output_type": "stream",
          "name": "stdout",
          "text": [
            "Drive already mounted at /content/drive; to attempt to forcibly remount, call drive.mount(\"/content/drive\", force_remount=True).\n"
          ]
        }
      ]
    },
    {
      "cell_type": "markdown",
      "source": [
        "#設定資料路徑"
      ],
      "metadata": {
        "id": "qT7yWUNbJgQV"
      }
    },
    {
      "cell_type": "code",
      "source": [
        "BasePath = '/content/drive/MyDrive/Python/'\n",
        "fileName1=BasePath+'supData/data01.txt'\n",
        "fileName2=BasePath+'supData/data02.txt'"
      ],
      "metadata": {
        "id": "Sgw00goPJYVF"
      },
      "execution_count": 32,
      "outputs": []
    },
    {
      "cell_type": "markdown",
      "source": [
        "#練習01 ~~定義函數 "
      ],
      "metadata": {
        "id": "V4No2tCQHR3V"
      }
    },
    {
      "cell_type": "code",
      "execution_count": null,
      "metadata": {
        "id": "4jIm50PpG1js"
      },
      "outputs": [],
      "source": [
        "def f():\n",
        "\tprint('Hello, Python!')"
      ]
    },
    {
      "cell_type": "code",
      "source": [
        "f()     #函數呼叫 call function"
      ],
      "metadata": {
        "colab": {
          "base_uri": "https://localhost:8080/"
        },
        "id": "s1uVyHCXHLL2",
        "outputId": "78b3f895-e312-4245-952e-8c12071e9cea"
      },
      "execution_count": null,
      "outputs": [
        {
          "output_type": "stream",
          "name": "stdout",
          "text": [
            "Hello, Python!\n"
          ]
        }
      ]
    },
    {
      "cell_type": "markdown",
      "source": [
        "#練習02 ~~ 設兩個參數"
      ],
      "metadata": {
        "id": "Bhvb91KAHaR-"
      }
    },
    {
      "cell_type": "code",
      "source": [
        "def cal_bmi(w, h):\n",
        "  #print(\"體重 {:.1f}公斤, 身高 {:.2f}公尺, BMI為 {:.1f}\".format(w,h,w/(h**2)))\n",
        "  print(\"體重:\",w,\"公斤\")\n",
        "  print(\"身高:\",h,\"公尺\")\n",
        "  print(\"BMI:%.2f\"%(w/(h**2)))"
      ],
      "metadata": {
        "id": "51yWnKOGHf9d"
      },
      "execution_count": 34,
      "outputs": []
    },
    {
      "cell_type": "code",
      "source": [
        "cal_bmi(53, 1.65)\n",
        "cal_bmi(h=1.85, w=53)"
      ],
      "metadata": {
        "colab": {
          "base_uri": "https://localhost:8080/"
        },
        "id": "KopNOAQUHyFV",
        "outputId": "57d37ed7-1962-41be-85fa-c9de77185118"
      },
      "execution_count": 35,
      "outputs": [
        {
          "output_type": "stream",
          "name": "stdout",
          "text": [
            "體重: 53 公斤\n",
            "身高: 1.65 公尺\n",
            "BMI:19.47\n",
            "體重: 53 公斤\n",
            "身高: 1.85 公尺\n",
            "BMI:15.49\n"
          ]
        }
      ]
    },
    {
      "cell_type": "markdown",
      "source": [
        "#練習03  ~~回傳值"
      ],
      "metadata": {
        "id": "WL_qFrBmH9W1"
      }
    },
    {
      "cell_type": "code",
      "source": [
        "from google.colab import drive\n",
        "drive.mount('/content/drive')"
      ],
      "metadata": {
        "id": "GREgP8St_vKr"
      },
      "execution_count": null,
      "outputs": []
    },
    {
      "cell_type": "code",
      "source": [
        "def bmi_level(bmi):\n",
        "  if bmi < 18.5: return \"過輕\"\n",
        "  if 18.5 <= bmi < 24:  return \"正常\"\n",
        "  if 24 <= bmi:  return \"異常\" "
      ],
      "metadata": {
        "id": "cWFNZwXRIBDd"
      },
      "execution_count": 27,
      "outputs": []
    },
    {
      "cell_type": "code",
      "source": [
        "def cal_bmic(weight=65, height=1.80): #函數中呼叫其他自定函數\n",
        "  return weight/(height**2), bmi_level(weight/(height**2))"
      ],
      "metadata": {
        "id": "yYBo6uLyI2YG"
      },
      "execution_count": 28,
      "outputs": []
    },
    {
      "cell_type": "code",
      "source": [
        "with open(fileName2, 'r') as f:    # 讀入資料\n",
        "  for s in f:\n",
        "    w, h =map(int,s.split())\n",
        "    bmi, cmt = cal_bmic(weight=w, height=h/100)\n",
        "    format_str = \"體重 {:.1f}公斤, 身高 {:.2f}公分, BMI為 {:.1f} {}\"\n",
        "    print(format_str.format(w,h,bmi, cmt))"
      ],
      "metadata": {
        "colab": {
          "base_uri": "https://localhost:8080/"
        },
        "id": "vG_1YuMGI8_t",
        "outputId": "b91deecc-ac4d-499d-fc5b-ff2d3658c0f6"
      },
      "execution_count": 33,
      "outputs": [
        {
          "output_type": "stream",
          "name": "stdout",
          "text": [
            "體重 75.0公斤, 身高 168.00公分, BMI為 26.6 異常\n",
            "體重 62.0公斤, 身高 152.00公分, BMI為 26.8 異常\n",
            "體重 78.0公斤, 身高 172.00公分, BMI為 26.4 異常\n",
            "體重 91.0公斤, 身高 180.00公分, BMI為 28.1 異常\n",
            "體重 39.0公斤, 身高 149.00公分, BMI為 17.6 過輕\n",
            "體重 42.0公斤, 身高 155.00公分, BMI為 17.5 過輕\n",
            "體重 46.0公斤, 身高 159.00公分, BMI為 18.2 過輕\n",
            "體重 41.0公斤, 身高 162.00公分, BMI為 15.6 過輕\n"
          ]
        }
      ]
    },
    {
      "cell_type": "markdown",
      "source": [
        "#<b>問題1"
      ],
      "metadata": {
        "id": "MnsjUWOXYHjn"
      }
    },
    {
      "cell_type": "markdown",
      "source": [
        "<h3>\n",
        "<b>請撰寫一程式、呼叫函式compute()，該函式功能為讓使用者輸入系別(Department)、學號(Student ID)和姓名(Name)，並顯示這些訊息。 </b>\n",
        "<pre>\n",
        "輸入: 三個字串  \n",
        "輸出: 系別(Department)\n",
        "    學號(Student ID)\n",
        "    姓名(Name)"
      ],
      "metadata": {
        "id": "vJoRHGKqYOG9"
      }
    },
    {
      "cell_type": "code",
      "source": [
        "# 定義函式 compute()\n",
        "def compute():\n",
        "  stu_dept=input(\"dept:\")\n",
        "  stu_id=input(\"id:\")\n",
        "  stu_name=input(\"name:\")\n",
        "\n",
        "  print(\"Department:\",stu_dept)\n",
        "  print(\"Student ID:\",stu_id)\n",
        "  print(\"Name:\",stu_name)"
      ],
      "metadata": {
        "id": "a9nirozGYm77"
      },
      "execution_count": null,
      "outputs": []
    },
    {
      "cell_type": "code",
      "source": [
        "# call function\n",
        "compute()"
      ],
      "metadata": {
        "colab": {
          "base_uri": "https://localhost:8080/"
        },
        "id": "qaR7Ld1vYqwE",
        "outputId": "f7e23f11-d117-440b-de64-8d8886289e0b"
      },
      "execution_count": null,
      "outputs": [
        {
          "output_type": "stream",
          "name": "stdout",
          "text": [
            "dept:CSIE\n",
            "id:F1234567\n",
            "name:Samuel Wu\n",
            "Department: CSIE\n",
            "Student ID: F1234567\n",
            "Name: Samuel Wu\n"
          ]
        }
      ]
    },
    {
      "cell_type": "markdown",
      "source": [
        "#<b>問題2"
      ],
      "metadata": {
        "id": "4WuR-AqvZCdt"
      }
    },
    {
      "cell_type": "markdown",
      "source": [
        "<b><h3>\n",
        "請撰寫一程式，將使用者輸入的三個數字(代表一元二次方程式 ax<sup>2</sup>+bx+c=0 的三個係數 a、b、c)作為參數傳遞給一個名為compute() 的函式，該函式回傳方程式的解，如無解則輸出[Your equation has no root.]。\n",
        "* 提示: 輸出有順序性  </b>"
      ],
      "metadata": {
        "id": "zfv9W9UuZGeE"
      }
    },
    {
      "cell_type": "code",
      "source": [
        "def compute(a,b,c):   #定義compute()\n",
        "  delta=b**2-4*a*c  #判別式\n",
        "\n",
        "  if delta<0:   \n",
        "    return None   #無實根\n",
        "  elif delta==0:\n",
        "    return -b/2*a   #重根\n",
        "  else:\n",
        "    res1=(-b+delta**0.5)/(2*a) #根1\n",
        "    res2=(-b-delta**0.5)/(2*a)  #根2\n",
        "    return str(res1)+\",\"+str(res2)  #回傳兩個根"
      ],
      "metadata": {
        "id": "XIh16H25Zx8M"
      },
      "execution_count": null,
      "outputs": []
    },
    {
      "cell_type": "code",
      "source": [
        "# 以下為主程式,  輸入 a,b,c 三個係數\n",
        "a=eval(input(\"輸入a:\"))\n",
        "b=eval(input(\"輸入b:\"))\n",
        "c=eval(input(\"輸入c:\"))\n",
        "result=compute(a,b,c)   #call compute()\n",
        "if result==None:\n",
        "  print(\"Your equation has no root.\")\n",
        "else:\n",
        "  print(\"兩根為:\",result)"
      ],
      "metadata": {
        "colab": {
          "base_uri": "https://localhost:8080/"
        },
        "id": "k92dVzuVaOu7",
        "outputId": "b2867911-4527-4359-d395-092b1dd5c96b"
      },
      "execution_count": null,
      "outputs": [
        {
          "output_type": "stream",
          "name": "stdout",
          "text": [
            "輸入a:5\n",
            "輸入b:10\n",
            "輸入c:3\n",
            "兩根為: -0.3675444679663241,-1.632455532033676\n"
          ]
        }
      ]
    }
  ]
}